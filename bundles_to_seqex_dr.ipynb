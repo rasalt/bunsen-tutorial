{
 "cells": [
  {
   "cell_type": "markdown",
   "metadata": {},
   "source": [
    "## This notebook demonstrates bundles to seqex example"
   ]
  },
  {
   "cell_type": "markdown",
   "metadata": {},
   "source": [
    "Install packages required for apache-beam and protobuf"
   ]
  },
  {
   "cell_type": "code",
   "execution_count": 2,
   "metadata": {},
   "outputs": [],
   "source": [
    "from __future__ import absolute_import\n",
    "from __future__ import division\n",
    "from __future__ import print_function\n",
    "import logging\n",
    "logger = logging.getLogger()\n",
    "logger.setLevel(logging.INFO)\n",
    "\n",
    "from absl import app\n",
    "from absl import flags\n",
    "import apache_beam as beam\n",
    "from google.protobuf import text_format\n",
    "from proto.stu3 import google_extensions_pb2\n",
    "from proto.stu3 import resources_pb2\n",
    "from proto.stu3 import version_config_pb2\n",
    "from tensorflow.core.example import example_pb2\n",
    "from py.google.fhir.seqex import bundle_to_seqex"
   ]
  },
  {
   "cell_type": "code",
   "execution_count": 3,
   "metadata": {},
   "outputs": [],
   "source": [
    "def _get_version_config(version_config_path):\n",
    "  with open(version_config_path) as f:\n",
    "    return text_format.Parse(f.read(), version_config_pb2.VersionConfig())"
   ]
  },
  {
   "cell_type": "markdown",
   "metadata": {},
   "source": [
    "# Initialize variables"
   ]
  },
  {
   "cell_type": "code",
   "execution_count": 4,
   "metadata": {},
   "outputs": [],
   "source": [
    "from apache_beam.options.pipeline_options import GoogleCloudOptions\n",
    "from apache_beam.options.pipeline_options import StandardOptions\n",
    "from apache_beam.options.pipeline_options import SetupOptions\n",
    "from apache_beam.options.pipeline_options import PipelineOptions\n",
    "\n",
    "from apache_beam.io import ReadFromText\n",
    "from apache_beam.io import WriteToText\n",
    "from apache_beam.metrics import Metrics\n",
    "from apache_beam.metrics.metric import MetricsFilter\n",
    "\n",
    "import apache_beam as beam\n",
    "import re\n",
    "\n",
    "options = PipelineOptions()\n",
    "google_cloud_options = options.view_as(GoogleCloudOptions)\n",
    "google_cloud_options.project = 'de-test-224618'\n",
    "google_cloud_options.job_name = 'job1'\n",
    "google_cloud_options.staging_location = 'gs://healthedatalab/staging'\n",
    "google_cloud_options.temp_location = 'gs://healthedatalab/temp'\n",
    "options.view_as(StandardOptions).runner = 'DirectRunner'\n"
   ]
  },
  {
   "cell_type": "markdown",
   "metadata": {},
   "source": [
    "## Transform definition"
   ]
  },
  {
   "cell_type": "code",
   "execution_count": 5,
   "metadata": {},
   "outputs": [
    {
     "name": "stderr",
     "output_type": "stream",
     "text": [
      "/usr/local/envs/py2env/lib/python2.7/site-packages/oauth2client/contrib/gce.py:99: UserWarning: You have requested explicit scopes to be used with a GCE service account.\n",
      "Using this argument will have no effect on the actual scopes for tokens\n",
      "requested. These scopes are set at VM instance creation time and\n",
      "can't be overridden in the request.\n",
      "\n",
      "  warnings.warn(_SCOPES_WARNING)\n",
      "WARNING: Logging before flag parsing goes to stderr.\n",
      "I0109 04:08:45.372737 139776353011456 client.py:614] Attempting refresh to obtain initial access_token\n",
      "I0109 04:08:45.462080 139776353011456 client.py:614] Attempting refresh to obtain initial access_token\n",
      "I0109 04:08:45.557154 139776353011456 client.py:614] Attempting refresh to obtain initial access_token\n",
      "I0109 04:08:45.627382 139776353011456 client.py:614] Attempting refresh to obtain initial access_token\n"
     ]
    }
   ],
   "source": [
    "p = beam.Pipeline(options=options)\n",
    "#version_config = _get_version_config(\"gs://seqex/testdata/version_config.textproto\")\n",
    "version_config = _get_version_config(\"/usr/local/fhir/proto/stu3/version_config.textproto\")\n",
    "\n",
    "keyed_bundles = ( \n",
    "    p \n",
    "    | 'readBundles' >> beam.io.ReadFromTFRecord(\n",
    "        \"gs://healthedatalab/bundle/test_bundle.tfrecord-00000-of-00001\", coder=beam.coders.ProtoCoder(resources_pb2.Bundle))\n",
    "    | 'KeyBundlesByPatientId' >> beam.ParDo(\n",
    "        bundle_to_seqex.KeyBundleByPatientIdFn()))\n",
    "event_labels = ( \n",
    "    p | 'readEventLabels' >> beam.io.ReadFromTFRecord(\n",
    "        \"gs://healthedatalab/labeldata/test-label-00000-of-00001\",\n",
    "        coder=beam.coders.ProtoCoder(google_extensions_pb2.EventLabel)))\n",
    "keyed_event_labels = bundle_to_seqex.CreateTriggerLabelsPairLists(\n",
    "    event_labels)\n",
    "bundles_and_labels = bundle_to_seqex.CreateBundleAndLabels(\n",
    "    keyed_bundles, keyed_event_labels)\n",
    "_ = ( \n",
    "    bundles_and_labels\n",
    "    | 'Reshuffle1' >> beam.Reshuffle()\n",
    "    | 'GenerateSeqex' >> beam.ParDo(\n",
    "        bundle_to_seqex.BundleAndLabelsToSeqexDoFn(\n",
    "            version_config=version_config,\n",
    "            enable_attribution=False,\n",
    "            generate_sequence_label=False))\n",
    "    | 'Reshuffle2' >> beam.Reshuffle()\n",
    "    | 'WriteSeqex' >> beam.io.WriteToTFRecord(\n",
    "        \"gs://healthedatalab/output/output\",\n",
    "        coder=beam.coders.ProtoCoder(example_pb2.SequenceExample)))\n"
   ]
  },
  {
   "cell_type": "markdown",
   "metadata": {},
   "source": [
    "Run the transform"
   ]
  },
  {
   "cell_type": "code",
   "execution_count": 6,
   "metadata": {},
   "outputs": [
    {
     "name": "stderr",
     "output_type": "stream",
     "text": [
      "I0109 04:09:15.888096 139776353011456 fn_api_runner.py:844] ==================== <function annotate_downstream_side_inputs at 0x7f1fe973ff50> ====================\n",
      "I0109 04:09:15.890770 139776353011456 fn_api_runner.py:844] ==================== <function fix_side_input_pcoll_coders at 0x7f1fe973fc08> ====================\n",
      "I0109 04:09:15.895134 139776353011456 fn_api_runner.py:844] ==================== <function lift_combiners at 0x7f1fe973f488> ====================\n",
      "I0109 04:09:15.897943 139776353011456 fn_api_runner.py:844] ==================== <function expand_gbk at 0x7f1fe973fde8> ====================\n",
      "I0109 04:09:15.904809 139776353011456 fn_api_runner.py:844] ==================== <function sink_flattens at 0x7f1fe973f5f0> ====================\n",
      "I0109 04:09:15.906819 139776353011456 fn_api_runner.py:844] ==================== <function greedily_fuse at 0x7f1fe973f668> ====================\n",
      "I0109 04:09:15.911804 139776353011456 fn_api_runner.py:844] ==================== <function sort_stages at 0x7f1fe973fd70> ====================\n",
      "I0109 04:09:15.914968 139776353011456 fn_api_runner.py:912] Running ((ref_AppliedPTransform_WriteSeqex/Write/WriteImpl/DoOnce/Read_48)+((ref_AppliedPTransform_WriteSeqex/Write/WriteImpl/InitializeWrite_49)+(ref_PCollection_PCollection_33/Write)))+(ref_PCollection_PCollection_32/Write)\n",
      "I0109 04:09:15.926978 139776353011456 bundle_processor.py:291] start <DataOutputOperation ref_PCollection_PCollection_33/Write >\n",
      "I0109 04:09:15.929882 139776353011456 bundle_processor.py:291] start <DataOutputOperation ref_PCollection_PCollection_32/Write >\n",
      "I0109 04:09:15.932205 139776353011456 bundle_processor.py:291] start <DoOperation WriteSeqex/Write/WriteImpl/InitializeWrite output_tags=['out']>\n",
      "I0109 04:09:15.936156 139776353011456 bundle_processor.py:291] start <ReadOperation WriteSeqex/Write/WriteImpl/DoOnce/Read source=SourceBundle(weight=1.0, source=<apache_beam.transforms.create_source._CreateSource object at 0x7f1fe9751e50>, start_position=None, stop_position=None)>\n",
      "I0109 04:09:15.940578 139776353011456 bundle_processor.py:303] finish <ReadOperation WriteSeqex/Write/WriteImpl/DoOnce/Read source=SourceBundle(weight=1.0, source=<apache_beam.transforms.create_source._CreateSource object at 0x7f1fe9751e50>, start_position=None, stop_position=None), receivers=[ConsumerSet[WriteSeqex/Write/WriteImpl/DoOnce/Read.out0, coder=WindowedValueCoder[FastPrimitivesCoder], len(consumers)=2]]>\n",
      "I0109 04:09:15.942955 139776353011456 bundle_processor.py:303] finish <DoOperation WriteSeqex/Write/WriteImpl/InitializeWrite output_tags=['out'], receivers=[ConsumerSet[WriteSeqex/Write/WriteImpl/InitializeWrite.out0, coder=WindowedValueCoder[LengthPrefixCoder[FastPrimitivesCoder]], len(consumers)=1]]>\n",
      "I0109 04:09:15.945539 139776353011456 bundle_processor.py:303] finish <DataOutputOperation ref_PCollection_PCollection_32/Write >\n",
      "I0109 04:09:15.947782 139776353011456 bundle_processor.py:303] finish <DataOutputOperation ref_PCollection_PCollection_33/Write >\n",
      "I0109 04:09:15.955338 139776353011456 fn_api_runner.py:912] Running (ref_AppliedPTransform_readEventLabels/Read_6)+((ref_AppliedPTransform_KeyEventLabelsByPatientId_7)+(GroupEventLabelsByPatientId/Write))\n",
      "I0109 04:09:15.964920 139776353011456 bundle_processor.py:291] start <DataOutputOperation GroupEventLabelsByPatientId/Write >\n",
      "I0109 04:09:15.966419 139776353011456 bundle_processor.py:291] start <DoOperation KeyEventLabelsByPatientId output_tags=['out']>\n",
      "I0109 04:09:15.970022 139776353011456 bundle_processor.py:291] start <ReadOperation readEventLabels/Read source=SourceBundle(weight=1.0, source=<apache_beam.io.tfrecordio._TFRecordSource object at 0x7f1fe9215250>, start_position=None, stop_position=None)>\n",
      "I0109 04:09:15.975327 139776353011456 client.py:614] Attempting refresh to obtain initial access_token\n",
      "I0109 04:09:16.042455 139776353011456 client.py:614] Attempting refresh to obtain initial access_token\n",
      "I0109 04:09:16.114262 139776353011456 client.py:614] Attempting refresh to obtain initial access_token\n",
      "W0109 04:09:16.315999 139776353011456 tfrecordio.py:49] Couldn't find python-snappy so the implementation of _TFRecordUtil._masked_crc32c is not as fast as it could be.\n",
      "I0109 04:09:16.320313 139776353011456 bundle_processor.py:303] finish <ReadOperation readEventLabels/Read source=SourceBundle(weight=1.0, source=<apache_beam.io.tfrecordio._TFRecordSource object at 0x7f1fe9215250>, start_position=None, stop_position=None), receivers=[ConsumerSet[readEventLabels/Read.out0, coder=WindowedValueCoder[FastPrimitivesCoder], len(consumers)=1]]>\n",
      "I0109 04:09:16.322870 139776353011456 bundle_processor.py:303] finish <DoOperation KeyEventLabelsByPatientId output_tags=['out'], receivers=[ConsumerSet[KeyEventLabelsByPatientId.out0, coder=WindowedValueCoder[TupleCoder[BytesCoder, LengthPrefixCoder[ProtoCoder]]], len(consumers)=1]]>\n",
      "I0109 04:09:16.325057 139776353011456 bundle_processor.py:303] finish <DataOutputOperation GroupEventLabelsByPatientId/Write >\n",
      "I0109 04:09:16.342639 139776353011456 fn_api_runner.py:912] Running (((GroupEventLabelsByPatientId/Read)+(ref_AppliedPTransform_CreateTriggerLabelsPairLists_12))+((ref_AppliedPTransform_GroupBundleAndTriggers/pair_with_trigger_labels_pair_lists_14)+(GroupBundleAndTriggers/Flatten/Transcode/0)))+(GroupBundleAndTriggers/Flatten/Write/0)\n",
      "I0109 04:09:16.359201 139776353011456 bundle_processor.py:291] start <DataOutputOperation GroupBundleAndTriggers/Flatten/Write/0 >\n",
      "I0109 04:09:16.361010 139776353011456 bundle_processor.py:291] start <FlattenOperation GroupBundleAndTriggers/Flatten/Transcode/0 >\n",
      "I0109 04:09:16.363883 139776353011456 bundle_processor.py:291] start <DoOperation GroupBundleAndTriggers/pair_with_trigger_labels_pair_lists output_tags=['out']>\n",
      "I0109 04:09:16.367393 139776353011456 bundle_processor.py:291] start <DoOperation CreateTriggerLabelsPairLists output_tags=['out']>\n",
      "I0109 04:09:16.371237 139776353011456 bundle_processor.py:291] start <DataInputOperation GroupEventLabelsByPatientId/Read receivers=[ConsumerSet[GroupEventLabelsByPatientId/Read.out0, coder=WindowedValueCoder[TupleCoder[BytesCoder, IterableCoder[LengthPrefixCoder[ProtoCoder]]]], len(consumers)=1]]>\n",
      "I0109 04:09:16.407310 139776353011456 bundle_processor.py:303] finish <DataInputOperation GroupEventLabelsByPatientId/Read receivers=[ConsumerSet[GroupEventLabelsByPatientId/Read.out0, coder=WindowedValueCoder[TupleCoder[BytesCoder, IterableCoder[LengthPrefixCoder[ProtoCoder]]]], len(consumers)=1]]>\n",
      "I0109 04:09:16.410111 139776353011456 bundle_processor.py:303] finish <DoOperation CreateTriggerLabelsPairLists output_tags=['out'], receivers=[ConsumerSet[CreateTriggerLabelsPairLists.out0, coder=WindowedValueCoder[TupleCoder[BytesCoder, FastPrimitivesCoder]], len(consumers)=1]]>\n",
      "I0109 04:09:16.411741 139776353011456 bundle_processor.py:303] finish <DoOperation GroupBundleAndTriggers/pair_with_trigger_labels_pair_lists output_tags=['out'], receivers=[ConsumerSet[GroupBundleAndTriggers/pair_with_trigger_labels_pair_lists.out0, coder=WindowedValueCoder[TupleCoder[LengthPrefixCoder[FastPrimitivesCoder], LengthPrefixCoder[FastPrimitivesCoder]]], len(consumers)=1]]>\n",
      "I0109 04:09:16.414330 139776353011456 bundle_processor.py:303] finish <FlattenOperation GroupBundleAndTriggers/Flatten/Transcode/0 receivers=[ConsumerSet[GroupBundleAndTriggers/Flatten/Transcode/0.out0, coder=WindowedValueCoder[TupleCoder[LengthPrefixCoder[FastPrimitivesCoder], LengthPrefixCoder[FastPrimitivesCoder]]], len(consumers)=1]]>\n",
      "I0109 04:09:16.416779 139776353011456 bundle_processor.py:303] finish <DataOutputOperation GroupBundleAndTriggers/Flatten/Write/0 >\n",
      "I0109 04:09:16.426464 139776353011456 fn_api_runner.py:912] Running (((ref_AppliedPTransform_readBundles/Read_3)+((ref_AppliedPTransform_KeyBundlesByPatientId_4)+(ref_AppliedPTransform_GroupBundleAndTriggers/pair_with_bundle_15)))+(GroupBundleAndTriggers/Flatten/Transcode/1))+(GroupBundleAndTriggers/Flatten/Write/1)\n",
      "I0109 04:09:16.438182 139776353011456 bundle_processor.py:291] start <DataOutputOperation GroupBundleAndTriggers/Flatten/Write/1 >\n",
      "I0109 04:09:16.439738 139776353011456 bundle_processor.py:291] start <FlattenOperation GroupBundleAndTriggers/Flatten/Transcode/1 >\n"
     ]
    },
    {
     "name": "stderr",
     "output_type": "stream",
     "text": [
      "I0109 04:09:16.442567 139776353011456 bundle_processor.py:291] start <DoOperation GroupBundleAndTriggers/pair_with_bundle output_tags=['out']>\n",
      "I0109 04:09:16.446636 139776353011456 bundle_processor.py:291] start <DoOperation KeyBundlesByPatientId output_tags=['out']>\n",
      "I0109 04:09:16.449968 139776353011456 bundle_processor.py:291] start <ReadOperation readBundles/Read source=SourceBundle(weight=1.0, source=<apache_beam.io.tfrecordio._TFRecordSource object at 0x7f1fe897fd90>, start_position=None, stop_position=None)>\n",
      "I0109 04:09:16.465684 139776353011456 client.py:614] Attempting refresh to obtain initial access_token\n",
      "I0109 04:09:16.554418 139776353011456 client.py:614] Attempting refresh to obtain initial access_token\n",
      "I0109 04:09:16.763782 139776353011456 client.py:614] Attempting refresh to obtain initial access_token\n",
      "I0109 04:09:16.885014 139776353011456 bundle_processor.py:303] finish <ReadOperation readBundles/Read source=SourceBundle(weight=1.0, source=<apache_beam.io.tfrecordio._TFRecordSource object at 0x7f1fe897fd90>, start_position=None, stop_position=None), receivers=[ConsumerSet[readBundles/Read.out0, coder=WindowedValueCoder[FastPrimitivesCoder], len(consumers)=1]]>\n",
      "I0109 04:09:16.886902 139776353011456 bundle_processor.py:303] finish <DoOperation KeyBundlesByPatientId output_tags=['out'], receivers=[ConsumerSet[KeyBundlesByPatientId.out0, coder=WindowedValueCoder[TupleCoder[BytesCoder, ProtoCoder]], len(consumers)=1]]>\n",
      "I0109 04:09:16.889507 139776353011456 bundle_processor.py:303] finish <DoOperation GroupBundleAndTriggers/pair_with_bundle output_tags=['out'], receivers=[ConsumerSet[GroupBundleAndTriggers/pair_with_bundle.out0, coder=WindowedValueCoder[TupleCoder[LengthPrefixCoder[FastPrimitivesCoder], LengthPrefixCoder[FastPrimitivesCoder]]], len(consumers)=1]]>\n",
      "I0109 04:09:16.891247 139776353011456 bundle_processor.py:303] finish <FlattenOperation GroupBundleAndTriggers/Flatten/Transcode/1 receivers=[ConsumerSet[GroupBundleAndTriggers/Flatten/Transcode/1.out0, coder=WindowedValueCoder[TupleCoder[LengthPrefixCoder[FastPrimitivesCoder], LengthPrefixCoder[FastPrimitivesCoder]]], len(consumers)=1]]>\n",
      "I0109 04:09:16.893151 139776353011456 bundle_processor.py:303] finish <DataOutputOperation GroupBundleAndTriggers/Flatten/Write/1 >\n",
      "I0109 04:09:16.984692 139776353011456 fn_api_runner.py:912] Running (GroupBundleAndTriggers/Flatten/Read)+(GroupBundleAndTriggers/GroupByKey/Write)\n",
      "I0109 04:09:16.991961 139776353011456 bundle_processor.py:291] start <DataOutputOperation GroupBundleAndTriggers/GroupByKey/Write >\n",
      "I0109 04:09:16.993514 139776353011456 bundle_processor.py:291] start <DataInputOperation GroupBundleAndTriggers/Flatten/Read receivers=[ConsumerSet[GroupBundleAndTriggers/Flatten/Read.out0, coder=WindowedValueCoder[TupleCoder[LengthPrefixCoder[FastPrimitivesCoder], LengthPrefixCoder[FastPrimitivesCoder]]], len(consumers)=1]]>\n",
      "I0109 04:09:16.995953 139776353011456 bundle_processor.py:303] finish <DataInputOperation GroupBundleAndTriggers/Flatten/Read receivers=[ConsumerSet[GroupBundleAndTriggers/Flatten/Read.out0, coder=WindowedValueCoder[TupleCoder[LengthPrefixCoder[FastPrimitivesCoder], LengthPrefixCoder[FastPrimitivesCoder]]], len(consumers)=1]]>\n",
      "I0109 04:09:16.997482 139776353011456 bundle_processor.py:303] finish <DataOutputOperation GroupBundleAndTriggers/GroupByKey/Write >\n",
      "I0109 04:09:17.005228 139776353011456 fn_api_runner.py:912] Running (GroupBundleAndTriggers/GroupByKey/Read)+((ref_AppliedPTransform_GroupBundleAndTriggers/Map(_merge_tagged_vals_under_key)_21)+((ref_AppliedPTransform_JoinBundleAndTriggers_22)+((ref_AppliedPTransform_Reshuffle1/AddRandomKeys_24)+((ref_AppliedPTransform_Reshuffle1/ReshufflePerKey/Map(reify_timestamps)_26)+(Reshuffle1/ReshufflePerKey/GroupByKey/Write)))))\n",
      "I0109 04:09:17.020658 139776353011456 bundle_processor.py:291] start <DataOutputOperation Reshuffle1/ReshufflePerKey/GroupByKey/Write >\n",
      "I0109 04:09:17.023242 139776353011456 bundle_processor.py:291] start <DoOperation Reshuffle1/ReshufflePerKey/Map(reify_timestamps) output_tags=['out']>\n",
      "I0109 04:09:17.026774 139776353011456 bundle_processor.py:291] start <DoOperation Reshuffle1/AddRandomKeys output_tags=['out']>\n",
      "I0109 04:09:17.030350 139776353011456 bundle_processor.py:291] start <DoOperation JoinBundleAndTriggers output_tags=['out']>\n",
      "I0109 04:09:17.033684 139776353011456 bundle_processor.py:291] start <DoOperation GroupBundleAndTriggers/Map(_merge_tagged_vals_under_key) output_tags=['out']>\n",
      "I0109 04:09:17.037925 139776353011456 bundle_processor.py:291] start <DataInputOperation GroupBundleAndTriggers/GroupByKey/Read receivers=[ConsumerSet[GroupBundleAndTriggers/GroupByKey/Read.out0, coder=WindowedValueCoder[TupleCoder[LengthPrefixCoder[FastPrimitivesCoder], IterableCoder[LengthPrefixCoder[FastPrimitivesCoder]]]], len(consumers)=1]]>\n",
      "I0109 04:09:17.041157 139776353011456 bundle_processor.py:303] finish <DataInputOperation GroupBundleAndTriggers/GroupByKey/Read receivers=[ConsumerSet[GroupBundleAndTriggers/GroupByKey/Read.out0, coder=WindowedValueCoder[TupleCoder[LengthPrefixCoder[FastPrimitivesCoder], IterableCoder[LengthPrefixCoder[FastPrimitivesCoder]]]], len(consumers)=1]]>\n",
      "I0109 04:09:17.043920 139776353011456 bundle_processor.py:303] finish <DoOperation GroupBundleAndTriggers/Map(_merge_tagged_vals_under_key) output_tags=['out'], receivers=[ConsumerSet[GroupBundleAndTriggers/Map(_merge_tagged_vals_under_key).out0, coder=WindowedValueCoder[FastPrimitivesCoder], len(consumers)=1]]>\n",
      "I0109 04:09:17.046593 139776353011456 bundle_processor.py:303] finish <DoOperation JoinBundleAndTriggers output_tags=['out'], receivers=[ConsumerSet[JoinBundleAndTriggers.out0, coder=WindowedValueCoder[TupleCoder[BytesCoder, TupleCoder[ProtoCoder, FastPrimitivesCoder]]], len(consumers)=1]]>\n",
      "I0109 04:09:17.049205 139776353011456 bundle_processor.py:303] finish <DoOperation Reshuffle1/AddRandomKeys output_tags=['out'], receivers=[ConsumerSet[Reshuffle1/AddRandomKeys.out0, coder=WindowedValueCoder[TupleCoder[FastPrimitivesCoder, TupleCoder[BytesCoder, TupleCoder[ProtoCoder, FastPrimitivesCoder]]]], len(consumers)=1]]>\n",
      "I0109 04:09:17.051275 139776353011456 bundle_processor.py:303] finish <DoOperation Reshuffle1/ReshufflePerKey/Map(reify_timestamps) output_tags=['out'], receivers=[ConsumerSet[Reshuffle1/ReshufflePerKey/Map(reify_timestamps).out0, coder=WindowedValueCoder[TupleCoder[LengthPrefixCoder[FastPrimitivesCoder], TupleCoder[TupleCoder[BytesCoder, TupleCoder[LengthPrefixCoder[ProtoCoder], LengthPrefixCoder[FastPrimitivesCoder]]], LengthPrefixCoder[FastPrimitivesCoder]]]], len(consumers)=1]]>\n",
      "I0109 04:09:17.053658 139776353011456 bundle_processor.py:303] finish <DataOutputOperation Reshuffle1/ReshufflePerKey/GroupByKey/Write >\n",
      "I0109 04:09:17.065784 139776353011456 fn_api_runner.py:912] Running (Reshuffle1/ReshufflePerKey/GroupByKey/Read)+(((ref_AppliedPTransform_Reshuffle1/ReshufflePerKey/FlatMap(restore_timestamps)_31)+(ref_AppliedPTransform_Reshuffle1/RemoveRandomKeys_32))+(((ref_AppliedPTransform_GenerateSeqex_33)+(ref_AppliedPTransform_Reshuffle2/AddRandomKeys_35))+((ref_AppliedPTransform_Reshuffle2/ReshufflePerKey/Map(reify_timestamps)_37)+(Reshuffle2/ReshufflePerKey/GroupByKey/Write))))\n",
      "I0109 04:09:17.082760 139776353011456 bundle_processor.py:291] start <DataOutputOperation Reshuffle2/ReshufflePerKey/GroupByKey/Write >\n",
      "I0109 04:09:17.085201 139776353011456 bundle_processor.py:291] start <DoOperation Reshuffle2/ReshufflePerKey/Map(reify_timestamps) output_tags=['out']>\n",
      "I0109 04:09:17.088479 139776353011456 bundle_processor.py:291] start <DoOperation Reshuffle2/AddRandomKeys output_tags=['out']>\n",
      "I0109 04:09:17.092489 139776353011456 bundle_processor.py:291] start <DoOperation GenerateSeqex output_tags=['out']>\n",
      "I0109 04:09:17.096623 139776353011456 bundle_processor.py:291] start <DoOperation Reshuffle1/RemoveRandomKeys output_tags=['out']>\n",
      "I0109 04:09:17.100383 139776353011456 bundle_processor.py:291] start <DoOperation Reshuffle1/ReshufflePerKey/FlatMap(restore_timestamps) output_tags=['out']>\n",
      "I0109 04:09:17.102833 139776353011456 bundle_processor.py:291] start <DataInputOperation Reshuffle1/ReshufflePerKey/GroupByKey/Read receivers=[ConsumerSet[Reshuffle1/ReshufflePerKey/GroupByKey/Read.out0, coder=WindowedValueCoder[TupleCoder[LengthPrefixCoder[FastPrimitivesCoder], IterableCoder[TupleCoder[TupleCoder[BytesCoder, TupleCoder[LengthPrefixCoder[ProtoCoder], LengthPrefixCoder[FastPrimitivesCoder]]], LengthPrefixCoder[FastPrimitivesCoder]]]]], len(consumers)=1]]>\n"
     ]
    },
    {
     "name": "stderr",
     "output_type": "stream",
     "text": [
      "I0109 04:09:17.450575 139776353011456 bundle_processor.py:303] finish <DataInputOperation Reshuffle1/ReshufflePerKey/GroupByKey/Read receivers=[ConsumerSet[Reshuffle1/ReshufflePerKey/GroupByKey/Read.out0, coder=WindowedValueCoder[TupleCoder[LengthPrefixCoder[FastPrimitivesCoder], IterableCoder[TupleCoder[TupleCoder[BytesCoder, TupleCoder[LengthPrefixCoder[ProtoCoder], LengthPrefixCoder[FastPrimitivesCoder]]], LengthPrefixCoder[FastPrimitivesCoder]]]]], len(consumers)=1]]>\n",
      "I0109 04:09:17.452595 139776353011456 bundle_processor.py:303] finish <DoOperation Reshuffle1/ReshufflePerKey/FlatMap(restore_timestamps) output_tags=['out'], receivers=[ConsumerSet[Reshuffle1/ReshufflePerKey/FlatMap(restore_timestamps).out0, coder=WindowedValueCoder[FastPrimitivesCoder], len(consumers)=1]]>\n",
      "I0109 04:09:17.455130 139776353011456 bundle_processor.py:303] finish <DoOperation Reshuffle1/RemoveRandomKeys output_tags=['out'], receivers=[ConsumerSet[Reshuffle1/RemoveRandomKeys.out0, coder=WindowedValueCoder[FastPrimitivesCoder], len(consumers)=1]]>\n",
      "I0109 04:09:17.457719 139776353011456 bundle_processor.py:303] finish <DoOperation GenerateSeqex output_tags=['out'], receivers=[ConsumerSet[GenerateSeqex.out0, coder=WindowedValueCoder[ProtoCoder], len(consumers)=1]]>\n",
      "I0109 04:09:17.460211 139776353011456 bundle_processor.py:303] finish <DoOperation Reshuffle2/AddRandomKeys output_tags=['out'], receivers=[ConsumerSet[Reshuffle2/AddRandomKeys.out0, coder=WindowedValueCoder[TupleCoder[FastPrimitivesCoder, ProtoCoder]], len(consumers)=1]]>\n",
      "I0109 04:09:17.461813 139776353011456 bundle_processor.py:303] finish <DoOperation Reshuffle2/ReshufflePerKey/Map(reify_timestamps) output_tags=['out'], receivers=[ConsumerSet[Reshuffle2/ReshufflePerKey/Map(reify_timestamps).out0, coder=WindowedValueCoder[TupleCoder[LengthPrefixCoder[FastPrimitivesCoder], TupleCoder[LengthPrefixCoder[ProtoCoder], LengthPrefixCoder[FastPrimitivesCoder]]]], len(consumers)=1]]>\n",
      "I0109 04:09:17.463676 139776353011456 bundle_processor.py:303] finish <DataOutputOperation Reshuffle2/ReshufflePerKey/GroupByKey/Write >\n",
      "I0109 04:09:17.537991 139776353011456 fn_api_runner.py:912] Running (Reshuffle2/ReshufflePerKey/GroupByKey/Read)+((ref_AppliedPTransform_Reshuffle2/ReshufflePerKey/FlatMap(restore_timestamps)_42)+((ref_AppliedPTransform_Reshuffle2/RemoveRandomKeys_43)+(((ref_AppliedPTransform_WriteSeqex/Write/WriteImpl/WriteBundles_50)+((ref_AppliedPTransform_WriteSeqex/Write/WriteImpl/Pair_51)+(ref_AppliedPTransform_WriteSeqex/Write/WriteImpl/WindowInto(WindowIntoFn)_52)))+(WriteSeqex/Write/WriteImpl/GroupByKey/Write))))\n",
      "I0109 04:09:17.564560 139776353011456 bundle_processor.py:291] start <DataOutputOperation WriteSeqex/Write/WriteImpl/GroupByKey/Write >\n",
      "I0109 04:09:17.567248 139776353011456 bundle_processor.py:291] start <DoOperation WriteSeqex/Write/WriteImpl/WindowInto(WindowIntoFn) output_tags=['out']>\n",
      "I0109 04:09:17.571232 139776353011456 bundle_processor.py:291] start <DoOperation WriteSeqex/Write/WriteImpl/Pair output_tags=['out']>\n",
      "I0109 04:09:17.575041 139776353011456 bundle_processor.py:291] start <DoOperation WriteSeqex/Write/WriteImpl/WriteBundles output_tags=['out']>\n",
      "I0109 04:09:17.579509 139776353011456 bundle_processor.py:291] start <DoOperation Reshuffle2/RemoveRandomKeys output_tags=['out']>\n",
      "I0109 04:09:17.582094 139776353011456 bundle_processor.py:291] start <DoOperation Reshuffle2/ReshufflePerKey/FlatMap(restore_timestamps) output_tags=['out']>\n",
      "I0109 04:09:17.585782 139776353011456 bundle_processor.py:291] start <DataInputOperation Reshuffle2/ReshufflePerKey/GroupByKey/Read receivers=[ConsumerSet[Reshuffle2/ReshufflePerKey/GroupByKey/Read.out0, coder=WindowedValueCoder[TupleCoder[LengthPrefixCoder[FastPrimitivesCoder], IterableCoder[TupleCoder[LengthPrefixCoder[ProtoCoder], LengthPrefixCoder[FastPrimitivesCoder]]]]], len(consumers)=1]]>\n",
      "I0109 04:09:17.593724 139776353011456 bundle_processor.py:303] finish <DataInputOperation Reshuffle2/ReshufflePerKey/GroupByKey/Read receivers=[ConsumerSet[Reshuffle2/ReshufflePerKey/GroupByKey/Read.out0, coder=WindowedValueCoder[TupleCoder[LengthPrefixCoder[FastPrimitivesCoder], IterableCoder[TupleCoder[LengthPrefixCoder[ProtoCoder], LengthPrefixCoder[FastPrimitivesCoder]]]]], len(consumers)=1]]>\n",
      "I0109 04:09:17.596386 139775022085888 client.py:614] Attempting refresh to obtain initial access_token\n",
      "I0109 04:09:17.597703 139776353011456 bundle_processor.py:303] finish <DoOperation Reshuffle2/ReshufflePerKey/FlatMap(restore_timestamps) output_tags=['out'], receivers=[ConsumerSet[Reshuffle2/ReshufflePerKey/FlatMap(restore_timestamps).out0, coder=WindowedValueCoder[FastPrimitivesCoder], len(consumers)=1]]>\n",
      "I0109 04:09:17.602508 139776353011456 bundle_processor.py:303] finish <DoOperation Reshuffle2/RemoveRandomKeys output_tags=['out'], receivers=[ConsumerSet[Reshuffle2/RemoveRandomKeys.out0, coder=WindowedValueCoder[FastPrimitivesCoder], len(consumers)=1]]>\n",
      "I0109 04:09:17.604950 139776353011456 bundle_processor.py:303] finish <DoOperation WriteSeqex/Write/WriteImpl/WriteBundles output_tags=['out'], receivers=[ConsumerSet[WriteSeqex/Write/WriteImpl/WriteBundles.out0, coder=WindowedValueCoder[FastPrimitivesCoder], len(consumers)=1]]>\n",
      "I0109 04:09:18.137032 139776353011456 bundle_processor.py:303] finish <DoOperation WriteSeqex/Write/WriteImpl/Pair output_tags=['out'], receivers=[ConsumerSet[WriteSeqex/Write/WriteImpl/Pair.out0, coder=WindowedValueCoder[TupleCoder[FastPrimitivesCoder, FastPrimitivesCoder]], len(consumers)=1]]>\n",
      "I0109 04:09:18.140158 139776353011456 bundle_processor.py:303] finish <DoOperation WriteSeqex/Write/WriteImpl/WindowInto(WindowIntoFn) output_tags=['out'], receivers=[ConsumerSet[WriteSeqex/Write/WriteImpl/WindowInto(WindowIntoFn).out0, coder=WindowedValueCoder[TupleCoder[LengthPrefixCoder[FastPrimitivesCoder], LengthPrefixCoder[FastPrimitivesCoder]]], len(consumers)=1]]>\n",
      "I0109 04:09:18.143001 139776353011456 bundle_processor.py:303] finish <DataOutputOperation WriteSeqex/Write/WriteImpl/GroupByKey/Write >\n",
      "I0109 04:09:18.222681 139776353011456 fn_api_runner.py:912] Running ((WriteSeqex/Write/WriteImpl/GroupByKey/Read)+(ref_AppliedPTransform_WriteSeqex/Write/WriteImpl/Extract_57))+(ref_PCollection_PCollection_40/Write)\n",
      "I0109 04:09:18.233563 139776353011456 bundle_processor.py:291] start <DataOutputOperation ref_PCollection_PCollection_40/Write >\n",
      "I0109 04:09:18.236129 139776353011456 bundle_processor.py:291] start <DoOperation WriteSeqex/Write/WriteImpl/Extract output_tags=['out']>\n",
      "I0109 04:09:18.239582 139776353011456 bundle_processor.py:291] start <DataInputOperation WriteSeqex/Write/WriteImpl/GroupByKey/Read receivers=[ConsumerSet[WriteSeqex/Write/WriteImpl/GroupByKey/Read.out0, coder=WindowedValueCoder[TupleCoder[LengthPrefixCoder[FastPrimitivesCoder], IterableCoder[LengthPrefixCoder[FastPrimitivesCoder]]]], len(consumers)=1]]>\n",
      "I0109 04:09:18.241770 139776353011456 bundle_processor.py:303] finish <DataInputOperation WriteSeqex/Write/WriteImpl/GroupByKey/Read receivers=[ConsumerSet[WriteSeqex/Write/WriteImpl/GroupByKey/Read.out0, coder=WindowedValueCoder[TupleCoder[LengthPrefixCoder[FastPrimitivesCoder], IterableCoder[LengthPrefixCoder[FastPrimitivesCoder]]]], len(consumers)=1]]>\n",
      "I0109 04:09:18.243944 139776353011456 bundle_processor.py:303] finish <DoOperation WriteSeqex/Write/WriteImpl/Extract output_tags=['out'], receivers=[ConsumerSet[WriteSeqex/Write/WriteImpl/Extract.out0, coder=WindowedValueCoder[LengthPrefixCoder[FastPrimitivesCoder]], len(consumers)=1]]>\n",
      "I0109 04:09:18.246146 139776353011456 bundle_processor.py:303] finish <DataOutputOperation ref_PCollection_PCollection_40/Write >\n",
      "I0109 04:09:18.251287 139776353011456 fn_api_runner.py:912] Running ((ref_PCollection_PCollection_32/Read)+(ref_AppliedPTransform_WriteSeqex/Write/WriteImpl/PreFinalize_58))+(ref_PCollection_PCollection_41/Write)\n",
      "I0109 04:09:18.263252 139776353011456 bundle_processor.py:291] start <DataOutputOperation ref_PCollection_PCollection_41/Write >\n",
      "I0109 04:09:18.265057 139776353011456 bundle_processor.py:291] start <DoOperation WriteSeqex/Write/WriteImpl/PreFinalize output_tags=['out']>\n",
      "I0109 04:09:18.269079 139776353011456 bundle_processor.py:291] start <DataInputOperation ref_PCollection_PCollection_32/Read receivers=[ConsumerSet[ref_PCollection_PCollection_32/Read.out0, coder=WindowedValueCoder[FastPrimitivesCoder], len(consumers)=1]]>\n"
     ]
    },
    {
     "name": "stderr",
     "output_type": "stream",
     "text": [
      "I0109 04:09:18.274686 139776353011456 gcsio.py:446] Starting the size estimation of the input\n",
      "I0109 04:09:18.277992 139776353011456 client.py:614] Attempting refresh to obtain initial access_token\n",
      "I0109 04:09:18.368139 139776353011456 gcsio.py:460] Finished listing 0 files in 0.0934460163116 seconds.\n",
      "I0109 04:09:18.369970 139776353011456 bundle_processor.py:303] finish <DataInputOperation ref_PCollection_PCollection_32/Read receivers=[ConsumerSet[ref_PCollection_PCollection_32/Read.out0, coder=WindowedValueCoder[FastPrimitivesCoder], len(consumers)=1]]>\n",
      "I0109 04:09:18.372355 139776353011456 bundle_processor.py:303] finish <DoOperation WriteSeqex/Write/WriteImpl/PreFinalize output_tags=['out'], receivers=[ConsumerSet[WriteSeqex/Write/WriteImpl/PreFinalize.out0, coder=WindowedValueCoder[LengthPrefixCoder[FastPrimitivesCoder]], len(consumers)=1]]>\n",
      "I0109 04:09:18.374728 139776353011456 bundle_processor.py:303] finish <DataOutputOperation ref_PCollection_PCollection_41/Write >\n",
      "I0109 04:09:18.385763 139776353011456 fn_api_runner.py:912] Running (ref_PCollection_PCollection_32/Read)+(ref_AppliedPTransform_WriteSeqex/Write/WriteImpl/FinalizeWrite_59)\n",
      "I0109 04:09:18.406352 139776353011456 bundle_processor.py:291] start <DoOperation WriteSeqex/Write/WriteImpl/FinalizeWrite output_tags=['out']>\n",
      "I0109 04:09:18.409318 139776353011456 bundle_processor.py:291] start <DataInputOperation ref_PCollection_PCollection_32/Read receivers=[ConsumerSet[ref_PCollection_PCollection_32/Read.out0, coder=WindowedValueCoder[FastPrimitivesCoder], len(consumers)=1]]>\n",
      "I0109 04:09:18.415002 139776353011456 gcsio.py:446] Starting the size estimation of the input\n",
      "I0109 04:09:18.418474 139776353011456 client.py:614] Attempting refresh to obtain initial access_token\n",
      "I0109 04:09:18.502573 139776353011456 gcsio.py:460] Finished listing 1 files in 0.0875661373138 seconds.\n",
      "I0109 04:09:18.510380 139776353011456 gcsio.py:446] Starting the size estimation of the input\n",
      "I0109 04:09:18.512479 139776353011456 client.py:614] Attempting refresh to obtain initial access_token\n",
      "I0109 04:09:18.588169 139776353011456 gcsio.py:460] Finished listing 0 files in 0.0777881145477 seconds.\n",
      "I0109 04:09:18.590756 139776353011456 filebasedsink.py:290] Starting finalize_write threads with num_shards: 1 (skipped: 0), batches: 1, num_threads: 1\n",
      "I0109 04:09:18.599524 139775022085888 client.py:614] Attempting refresh to obtain initial access_token\n",
      "I0109 04:09:18.881335 139775022085888 client.py:614] Attempting refresh to obtain initial access_token\n",
      "I0109 04:09:19.116113 139776353011456 filebasedsink.py:327] Renamed 1 shards in 0.52 seconds.\n",
      "I0109 04:09:19.124401 139776353011456 client.py:614] Attempting refresh to obtain initial access_token\n",
      "I0109 04:09:19.198211 139776353011456 bundle_processor.py:303] finish <DataInputOperation ref_PCollection_PCollection_32/Read receivers=[ConsumerSet[ref_PCollection_PCollection_32/Read.out0, coder=WindowedValueCoder[FastPrimitivesCoder], len(consumers)=1]]>\n",
      "I0109 04:09:19.199762 139776353011456 bundle_processor.py:303] finish <DoOperation WriteSeqex/Write/WriteImpl/FinalizeWrite output_tags=['out'], receivers=[ConsumerSet[WriteSeqex/Write/WriteImpl/FinalizeWrite.out0, coder=WindowedValueCoder[FastPrimitivesCoder], len(consumers)=0]]>\n"
     ]
    },
    {
     "data": {
      "text/plain": [
       "'DONE'"
      ]
     },
     "execution_count": 6,
     "metadata": {},
     "output_type": "execute_result"
    }
   ],
   "source": [
    "   p.run().wait_until_finish()"
   ]
  },
  {
   "cell_type": "markdown",
   "metadata": {},
   "source": [
    "YAY!!"
   ]
  }
 ],
 "metadata": {
  "kernelspec": {
   "display_name": "Python 2",
   "language": "python",
   "name": "python2"
  },
  "language_info": {
   "codemirror_mode": {
    "name": "ipython",
    "version": 2
   },
   "file_extension": ".py",
   "mimetype": "text/x-python",
   "name": "python",
   "nbconvert_exporter": "python",
   "pygments_lexer": "ipython2",
   "version": "2.7.15"
  }
 },
 "nbformat": 4,
 "nbformat_minor": 2
}
