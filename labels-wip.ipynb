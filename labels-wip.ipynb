{
 "cells": [
  {
   "cell_type": "markdown",
   "metadata": {},
   "source": [
    "Install packages required for apache-beam and protobuf"
   ]
  },
  {
   "cell_type": "code",
   "execution_count": 11,
   "metadata": {},
   "outputs": [
    {
     "name": "stdout",
     "output_type": "stream",
     "text": [
      "Requirement already satisfied: protobuf==3.6 in /usr/local/envs/py2env/lib/python2.7/site-packages (3.6.0)\n",
      "Requirement already satisfied: six>=1.9 in /usr/local/envs/py2env/lib/python2.7/site-packages (from protobuf==3.6) (1.10.0)\n",
      "Requirement already satisfied: setuptools in /usr/local/envs/py2env/lib/python2.7/site-packages (from protobuf==3.6) (40.6.2)\n",
      "3.6.0\n"
     ]
    }
   ],
   "source": [
    "!pip install protobuf==3.6\n",
    "import google.protobuf as proto\n",
    "print(proto.__version__)"
   ]
  },
  {
   "cell_type": "code",
   "execution_count": 12,
   "metadata": {},
   "outputs": [
    {
     "name": "stdout",
     "output_type": "stream",
     "text": [
      "Requirement already satisfied: apache-beam==2.7.0 in /usr/local/envs/py2env/lib/python2.7/site-packages (2.7.0)\n",
      "Requirement already satisfied: dill<=0.2.8.2,>=0.2.6 in /usr/local/envs/py2env/lib/python2.7/site-packages (from apache-beam==2.7.0) (0.2.6)\n",
      "Requirement already satisfied: pydot<1.3,>=1.2.0 in /usr/local/envs/py2env/lib/python2.7/site-packages (from apache-beam==2.7.0) (1.2.4)\n",
      "Requirement already satisfied: oauth2client<5,>=2.0.1 in /usr/local/envs/py2env/lib/python2.7/site-packages (from apache-beam==2.7.0) (2.2.0)\n",
      "Requirement already satisfied: fastavro==0.19.7 in /usr/local/envs/py2env/lib/python2.7/site-packages (from apache-beam==2.7.0) (0.19.7)\n",
      "Requirement already satisfied: typing<3.7.0,>=3.6.0 in /usr/local/envs/py2env/lib/python2.7/site-packages (from apache-beam==2.7.0) (3.6.6)\n",
      "Requirement already satisfied: mock<3.0.0,>=1.0.1 in /usr/local/envs/py2env/lib/python2.7/site-packages (from apache-beam==2.7.0) (2.0.0)\n",
      "Requirement already satisfied: pyvcf<0.7.0,>=0.6.8 in /usr/local/envs/py2env/lib/python2.7/site-packages (from apache-beam==2.7.0) (0.6.8)\n",
      "Requirement already satisfied: future<1.0.0,>=0.16.0 in /usr/local/envs/py2env/lib/python2.7/site-packages (from apache-beam==2.7.0) (0.16.0)\n",
      "Requirement already satisfied: pyyaml<4.0.0,>=3.12 in /usr/local/envs/py2env/lib/python2.7/site-packages (from apache-beam==2.7.0) (3.13)\n",
      "Requirement already satisfied: avro<2.0.0,>=1.8.1 in /usr/local/envs/py2env/lib/python2.7/site-packages (from apache-beam==2.7.0) (1.8.2)\n",
      "Requirement already satisfied: crcmod<2.0,>=1.7 in /usr/local/envs/py2env/lib/python2.7/site-packages (from apache-beam==2.7.0) (1.7)\n",
      "Requirement already satisfied: httplib2<=0.11.3,>=0.8 in /usr/local/envs/py2env/lib/python2.7/site-packages (from apache-beam==2.7.0) (0.10.3)\n",
      "Requirement already satisfied: futures<4.0.0,>=3.1.1 in /usr/local/envs/py2env/lib/python2.7/site-packages (from apache-beam==2.7.0) (3.2.0)\n",
      "Requirement already satisfied: grpcio<2,>=1.8 in /usr/local/envs/py2env/lib/python2.7/site-packages (from apache-beam==2.7.0) (1.16.1)\n",
      "Requirement already satisfied: six<1.12,>=1.9 in /usr/local/envs/py2env/lib/python2.7/site-packages (from apache-beam==2.7.0) (1.10.0)\n",
      "Requirement already satisfied: protobuf<4,>=3.5.0.post1 in /usr/local/envs/py2env/lib/python2.7/site-packages (from apache-beam==2.7.0) (3.6.0)\n",
      "Requirement already satisfied: hdfs<3.0.0,>=2.1.0 in /usr/local/envs/py2env/lib/python2.7/site-packages (from apache-beam==2.7.0) (2.2.1)\n",
      "Requirement already satisfied: pytz<=2018.4,>=2018.3 in /usr/local/envs/py2env/lib/python2.7/site-packages (from apache-beam==2.7.0) (2018.4)\n",
      "Requirement already satisfied: pyparsing>=2.1.4 in /usr/local/envs/py2env/lib/python2.7/site-packages (from pydot<1.3,>=1.2.0->apache-beam==2.7.0) (2.3.0)\n",
      "Requirement already satisfied: pyasn1>=0.1.7 in /usr/local/envs/py2env/lib/python2.7/site-packages (from oauth2client<5,>=2.0.1->apache-beam==2.7.0) (0.4.4)\n",
      "Requirement already satisfied: pyasn1-modules>=0.0.5 in /usr/local/envs/py2env/lib/python2.7/site-packages (from oauth2client<5,>=2.0.1->apache-beam==2.7.0) (0.2.2)\n",
      "Requirement already satisfied: rsa>=3.1.4 in /usr/local/envs/py2env/lib/python2.7/site-packages (from oauth2client<5,>=2.0.1->apache-beam==2.7.0) (3.4.2)\n",
      "Requirement already satisfied: setuptools>=18.0 in /usr/local/envs/py2env/lib/python2.7/site-packages (from fastavro==0.19.7->apache-beam==2.7.0) (40.6.2)\n",
      "Requirement already satisfied: funcsigs>=1 in /usr/local/envs/py2env/lib/python2.7/site-packages (from mock<3.0.0,>=1.0.1->apache-beam==2.7.0) (1.0.0)\n",
      "Requirement already satisfied: pbr>=0.11 in /usr/local/envs/py2env/lib/python2.7/site-packages (from mock<3.0.0,>=1.0.1->apache-beam==2.7.0) (5.1.1)\n",
      "Requirement already satisfied: enum34>=1.0.4 in /usr/local/envs/py2env/lib/python2.7/site-packages (from grpcio<2,>=1.8->apache-beam==2.7.0) (1.1.6)\n",
      "Requirement already satisfied: docopt in /usr/local/envs/py2env/lib/python2.7/site-packages (from hdfs<3.0.0,>=2.1.0->apache-beam==2.7.0) (0.6.2)\n",
      "Requirement already satisfied: requests>=2.7.0 in /usr/local/envs/py2env/lib/python2.7/site-packages (from hdfs<3.0.0,>=2.1.0->apache-beam==2.7.0) (2.18.4)\n",
      "Requirement already satisfied: ordereddict in /usr/local/envs/py2env/lib/python2.7/site-packages (from funcsigs>=1->mock<3.0.0,>=1.0.1->apache-beam==2.7.0) (1.1)\n",
      "Requirement already satisfied: chardet<3.1.0,>=3.0.2 in /usr/local/envs/py2env/lib/python2.7/site-packages (from requests>=2.7.0->hdfs<3.0.0,>=2.1.0->apache-beam==2.7.0) (3.0.4)\n",
      "Requirement already satisfied: idna<2.7,>=2.5 in /usr/local/envs/py2env/lib/python2.7/site-packages (from requests>=2.7.0->hdfs<3.0.0,>=2.1.0->apache-beam==2.7.0) (2.6)\n",
      "Requirement already satisfied: urllib3<1.23,>=1.21.1 in /usr/local/envs/py2env/lib/python2.7/site-packages (from requests>=2.7.0->hdfs<3.0.0,>=2.1.0->apache-beam==2.7.0) (1.22)\n",
      "Requirement already satisfied: certifi>=2017.4.17 in /usr/local/envs/py2env/lib/python2.7/site-packages (from requests>=2.7.0->hdfs<3.0.0,>=2.1.0->apache-beam==2.7.0) (2018.10.15)\n",
      "Requirement already satisfied: apache-beam[gcp] in /usr/local/envs/py2env/lib/python2.7/site-packages (2.7.0)\n",
      "Requirement already satisfied: dill<=0.2.8.2,>=0.2.6 in /usr/local/envs/py2env/lib/python2.7/site-packages (from apache-beam[gcp]) (0.2.6)\n",
      "Requirement already satisfied: oauth2client<5,>=2.0.1 in /usr/local/envs/py2env/lib/python2.7/site-packages (from apache-beam[gcp]) (2.2.0)\n",
      "Requirement already satisfied: fastavro==0.19.7 in /usr/local/envs/py2env/lib/python2.7/site-packages (from apache-beam[gcp]) (0.19.7)\n",
      "Requirement already satisfied: typing<3.7.0,>=3.6.0 in /usr/local/envs/py2env/lib/python2.7/site-packages (from apache-beam[gcp]) (3.6.6)\n",
      "Requirement already satisfied: pyyaml<4.0.0,>=3.12 in /usr/local/envs/py2env/lib/python2.7/site-packages (from apache-beam[gcp]) (3.13)\n",
      "Requirement already satisfied: six<1.12,>=1.9 in /usr/local/envs/py2env/lib/python2.7/site-packages (from apache-beam[gcp]) (1.10.0)\n",
      "Requirement already satisfied: protobuf<4,>=3.5.0.post1 in /usr/local/envs/py2env/lib/python2.7/site-packages (from apache-beam[gcp]) (3.6.0)\n",
      "Requirement already satisfied: future<1.0.0,>=0.16.0 in /usr/local/envs/py2env/lib/python2.7/site-packages (from apache-beam[gcp]) (0.16.0)\n",
      "Requirement already satisfied: avro<2.0.0,>=1.8.1 in /usr/local/envs/py2env/lib/python2.7/site-packages (from apache-beam[gcp]) (1.8.2)\n",
      "Requirement already satisfied: crcmod<2.0,>=1.7 in /usr/local/envs/py2env/lib/python2.7/site-packages (from apache-beam[gcp]) (1.7)\n",
      "Requirement already satisfied: httplib2<=0.11.3,>=0.8 in /usr/local/envs/py2env/lib/python2.7/site-packages (from apache-beam[gcp]) (0.10.3)\n",
      "Requirement already satisfied: futures<4.0.0,>=3.1.1 in /usr/local/envs/py2env/lib/python2.7/site-packages (from apache-beam[gcp]) (3.2.0)\n",
      "Requirement already satisfied: pydot<1.3,>=1.2.0 in /usr/local/envs/py2env/lib/python2.7/site-packages (from apache-beam[gcp]) (1.2.4)\n",
      "Requirement already satisfied: grpcio<2,>=1.8 in /usr/local/envs/py2env/lib/python2.7/site-packages (from apache-beam[gcp]) (1.16.1)\n",
      "Requirement already satisfied: pyvcf<0.7.0,>=0.6.8 in /usr/local/envs/py2env/lib/python2.7/site-packages (from apache-beam[gcp]) (0.6.8)\n",
      "Requirement already satisfied: mock<3.0.0,>=1.0.1 in /usr/local/envs/py2env/lib/python2.7/site-packages (from apache-beam[gcp]) (2.0.0)\n",
      "Requirement already satisfied: hdfs<3.0.0,>=2.1.0 in /usr/local/envs/py2env/lib/python2.7/site-packages (from apache-beam[gcp]) (2.2.1)\n",
      "Requirement already satisfied: pytz<=2018.4,>=2018.3 in /usr/local/envs/py2env/lib/python2.7/site-packages (from apache-beam[gcp]) (2018.4)\n",
      "Requirement already satisfied: google-apitools<=0.5.20,>=0.5.18; extra == \"gcp\" in /usr/local/envs/py2env/lib/python2.7/site-packages (from apache-beam[gcp]) (0.5.20)\n",
      "Requirement already satisfied: proto-google-cloud-pubsub-v1==0.15.4; extra == \"gcp\" in /usr/local/envs/py2env/lib/python2.7/site-packages (from apache-beam[gcp]) (0.15.4)\n",
      "Requirement already satisfied: google-cloud-bigquery==0.25.0; extra == \"gcp\" in /usr/local/envs/py2env/lib/python2.7/site-packages (from apache-beam[gcp]) (0.25.0)\n",
      "Requirement already satisfied: google-cloud-pubsub==0.26.0; extra == \"gcp\" in /usr/local/envs/py2env/lib/python2.7/site-packages (from apache-beam[gcp]) (0.26.0)\n",
      "Requirement already satisfied: googledatastore==7.0.1; extra == \"gcp\" in /usr/local/envs/py2env/lib/python2.7/site-packages (from apache-beam[gcp]) (7.0.1)\n",
      "Requirement already satisfied: proto-google-cloud-datastore-v1<=0.90.4,>=0.90.0; extra == \"gcp\" in /usr/local/envs/py2env/lib/python2.7/site-packages (from apache-beam[gcp]) (0.90.4)\n",
      "Requirement already satisfied: pyasn1>=0.1.7 in /usr/local/envs/py2env/lib/python2.7/site-packages (from oauth2client<5,>=2.0.1->apache-beam[gcp]) (0.4.4)\n",
      "Requirement already satisfied: pyasn1-modules>=0.0.5 in /usr/local/envs/py2env/lib/python2.7/site-packages (from oauth2client<5,>=2.0.1->apache-beam[gcp]) (0.2.2)\n",
      "Requirement already satisfied: rsa>=3.1.4 in /usr/local/envs/py2env/lib/python2.7/site-packages (from oauth2client<5,>=2.0.1->apache-beam[gcp]) (3.4.2)\n",
      "Requirement already satisfied: setuptools>=18.0 in /usr/local/envs/py2env/lib/python2.7/site-packages (from fastavro==0.19.7->apache-beam[gcp]) (40.6.2)\n",
      "Requirement already satisfied: pyparsing>=2.1.4 in /usr/local/envs/py2env/lib/python2.7/site-packages (from pydot<1.3,>=1.2.0->apache-beam[gcp]) (2.3.0)\n"
     ]
    },
    {
     "name": "stdout",
     "output_type": "stream",
     "text": [
      "Requirement already satisfied: enum34>=1.0.4 in /usr/local/envs/py2env/lib/python2.7/site-packages (from grpcio<2,>=1.8->apache-beam[gcp]) (1.1.6)\n",
      "Requirement already satisfied: funcsigs>=1 in /usr/local/envs/py2env/lib/python2.7/site-packages (from mock<3.0.0,>=1.0.1->apache-beam[gcp]) (1.0.0)\n",
      "Requirement already satisfied: pbr>=0.11 in /usr/local/envs/py2env/lib/python2.7/site-packages (from mock<3.0.0,>=1.0.1->apache-beam[gcp]) (5.1.1)\n",
      "Requirement already satisfied: docopt in /usr/local/envs/py2env/lib/python2.7/site-packages (from hdfs<3.0.0,>=2.1.0->apache-beam[gcp]) (0.6.2)\n",
      "Requirement already satisfied: requests>=2.7.0 in /usr/local/envs/py2env/lib/python2.7/site-packages (from hdfs<3.0.0,>=2.1.0->apache-beam[gcp]) (2.18.4)\n",
      "Requirement already satisfied: fasteners>=0.14 in /usr/local/envs/py2env/lib/python2.7/site-packages (from google-apitools<=0.5.20,>=0.5.18; extra == \"gcp\"->apache-beam[gcp]) (0.14.1)\n",
      "Requirement already satisfied: googleapis-common-protos<2.0dev,>=1.5.2 in /usr/local/envs/py2env/lib/python2.7/site-packages (from proto-google-cloud-pubsub-v1==0.15.4; extra == \"gcp\"->apache-beam[gcp]) (1.5.5)\n",
      "Requirement already satisfied: google-cloud-core<0.26dev,>=0.25.0 in /usr/local/envs/py2env/lib/python2.7/site-packages (from google-cloud-bigquery==0.25.0; extra == \"gcp\"->apache-beam[gcp]) (0.25.0)\n",
      "Requirement already satisfied: gapic-google-cloud-pubsub-v1<0.16dev,>=0.15.0 in /usr/local/envs/py2env/lib/python2.7/site-packages (from google-cloud-pubsub==0.26.0; extra == \"gcp\"->apache-beam[gcp]) (0.15.4)\n",
      "Requirement already satisfied: ordereddict in /usr/local/envs/py2env/lib/python2.7/site-packages (from funcsigs>=1->mock<3.0.0,>=1.0.1->apache-beam[gcp]) (1.1)\n",
      "Requirement already satisfied: chardet<3.1.0,>=3.0.2 in /usr/local/envs/py2env/lib/python2.7/site-packages (from requests>=2.7.0->hdfs<3.0.0,>=2.1.0->apache-beam[gcp]) (3.0.4)\n",
      "Requirement already satisfied: idna<2.7,>=2.5 in /usr/local/envs/py2env/lib/python2.7/site-packages (from requests>=2.7.0->hdfs<3.0.0,>=2.1.0->apache-beam[gcp]) (2.6)\n",
      "Requirement already satisfied: urllib3<1.23,>=1.21.1 in /usr/local/envs/py2env/lib/python2.7/site-packages (from requests>=2.7.0->hdfs<3.0.0,>=2.1.0->apache-beam[gcp]) (1.22)\n",
      "Requirement already satisfied: certifi>=2017.4.17 in /usr/local/envs/py2env/lib/python2.7/site-packages (from requests>=2.7.0->hdfs<3.0.0,>=2.1.0->apache-beam[gcp]) (2018.10.15)\n",
      "Requirement already satisfied: monotonic>=0.1 in /usr/local/envs/py2env/lib/python2.7/site-packages (from fasteners>=0.14->google-apitools<=0.5.20,>=0.5.18; extra == \"gcp\"->apache-beam[gcp]) (1.5)\n",
      "Requirement already satisfied: google-auth-httplib2 in /usr/local/envs/py2env/lib/python2.7/site-packages (from google-cloud-core<0.26dev,>=0.25.0->google-cloud-bigquery==0.25.0; extra == \"gcp\"->apache-beam[gcp]) (0.0.3)\n",
      "Requirement already satisfied: google-auth<2.0.0dev,>=0.4.0 in /usr/local/envs/py2env/lib/python2.7/site-packages (from google-cloud-core<0.26dev,>=0.25.0->google-cloud-bigquery==0.25.0; extra == \"gcp\"->apache-beam[gcp]) (1.6.1)\n",
      "Requirement already satisfied: google-gax<0.16dev,>=0.15.7 in /usr/local/envs/py2env/lib/python2.7/site-packages (from gapic-google-cloud-pubsub-v1<0.16dev,>=0.15.0->google-cloud-pubsub==0.26.0; extra == \"gcp\"->apache-beam[gcp]) (0.15.16)\n",
      "Requirement already satisfied: grpc-google-iam-v1<0.12dev,>=0.11.1 in /usr/local/envs/py2env/lib/python2.7/site-packages (from gapic-google-cloud-pubsub-v1<0.16dev,>=0.15.0->google-cloud-pubsub==0.26.0; extra == \"gcp\"->apache-beam[gcp]) (0.11.4)\n",
      "Requirement already satisfied: cachetools>=2.0.0 in /usr/local/envs/py2env/lib/python2.7/site-packages (from google-auth<2.0.0dev,>=0.4.0->google-cloud-core<0.26dev,>=0.25.0->google-cloud-bigquery==0.25.0; extra == \"gcp\"->apache-beam[gcp]) (2.1.0)\n",
      "Requirement already satisfied: ply==3.8 in /usr/local/envs/py2env/lib/python2.7/site-packages (from google-gax<0.16dev,>=0.15.7->gapic-google-cloud-pubsub-v1<0.16dev,>=0.15.0->google-cloud-pubsub==0.26.0; extra == \"gcp\"->apache-beam[gcp]) (3.8)\n"
     ]
    }
   ],
   "source": [
    "!pip install apache-beam==2.7.0\n",
    "!pip install apache-beam[gcp]"
   ]
  },
  {
   "cell_type": "code",
   "execution_count": 10,
   "metadata": {},
   "outputs": [],
   "source": [
    "from absl import app\n",
    "from absl import flags\n",
    "import apache_beam as beam\n",
    "from proto.stu3 import google_extensions_pb2\n",
    "from proto.stu3 import resources_pb2\n",
    "from py.google.fhir.labels import encounter\n",
    "from py.google.fhir.labels import label\n"
   ]
  },
  {
   "cell_type": "markdown",
   "metadata": {},
   "source": [
    "Initialize variables"
   ]
  },
  {
   "cell_type": "code",
   "execution_count": null,
   "metadata": {},
   "outputs": [],
   "source": [
    "flags.DEFINE_string('output_path', 'gs://labelsdata/', 'The output file path')\n",
    "flags.DEFINE_string('input_path', 'gs://labelsdata/', 'The input file path')\n",
    "FLAGS = flags.FLAGS"
   ]
  },
  {
   "cell_type": "code",
   "execution_count": 13,
   "metadata": {},
   "outputs": [],
   "source": [
    "@beam.typehints.with_input_types(resources_pb2.Bundle)\n",
    "@beam.typehints.with_output_types(google_extensions_pb2.EventLabel)\n",
    "class LengthOfStayRangeLabelAt24HoursFn(beam.DoFn):\n",
    "  \"\"\"Converts Bundle into length of stay range at 24 hours label.\n",
    "\n",
    "    Cohort: inpatient encounter that is longer than 24 hours\n",
    "    Trigger point: 24 hours after admission\n",
    "    Label: multi-label for length of stay ranges, see label.py for detail\n",
    "  \"\"\"\n",
    "\n",
    "  def process(self, bundle):\n",
    "    \"\"\"Iterate through bundle and yield label.\n",
    "\n",
    "    Args:\n",
    "      bundle: input stu3.Bundle proto\n",
    "    Yields:\n",
    "      stu3.EventLabel proto.\n",
    "    \"\"\"\n",
    "    patient = encounter.GetPatient(bundle)\n",
    "    if patient is not None:\n",
    "      # Cohort: inpatient encounter > 24 hours.\n",
    "      for enc in encounter.Inpatient24HrEncounters(bundle):\n",
    "        for one_label in label.LengthOfStayRangeAt24Hours(patient, enc):\n",
    "          yield one_label\n",
    "\n"
   ]
  },
  {
   "cell_type": "code",
   "execution_count": 8,
   "metadata": {},
   "outputs": [],
   "source": [
    "from apache_beam.options.pipeline_options import GoogleCloudOptions\n",
    "from apache_beam.options.pipeline_options import StandardOptions\n",
    "from apache_beam.options.pipeline_options import SetupOptions\n",
    "from apache_beam.options.pipeline_options import PipelineOptions\n",
    "\n",
    "from apache_beam.io import ReadFromText\n",
    "from apache_beam.io import WriteToText\n",
    "from apache_beam.metrics import Metrics\n",
    "from apache_beam.metrics.metric import MetricsFilter\n",
    "\n",
    "import apache_beam as beam\n",
    "import re\n",
    "\n",
    "\n",
    "options = PipelineOptions()\n",
    "google_cloud_options = options.view_as(GoogleCloudOptions)\n",
    "google_cloud_options.project = 'grand-magpie-222719'\n",
    "google_cloud_options.job_name = 'job1'\n",
    "google_cloud_options.staging_location = 'gs://bunsenbeam/staging'\n",
    "google_cloud_options.temp_location = 'gs://bunsenbeam/temp'\n",
    "#options.view_as(StandardOptions).runner = 'DataflowRunner'\n",
    "options.view_as(StandardOptions).runner = 'DirectRunner'\n"
   ]
  },
  {
   "cell_type": "markdown",
   "metadata": {},
   "source": [
    "Initalize the beam job"
   ]
  },
  {
   "cell_type": "code",
   "execution_count": 6,
   "metadata": {},
   "outputs": [
    {
     "name": "stdout",
     "output_type": "stream",
     "text": [
      "2.7.0\n",
      "Requirement already satisfied: psutil in /usr/local/envs/py2env/lib/python2.7/site-packages (4.3.0)\n",
      "Solving environment: failed\n",
      "\n",
      "PackagesNotFoundError: The following packages are missing from the target environment:\n",
      "  - python-snappy\n",
      "\n",
      "\n",
      "Solving environment: done\n",
      "\n",
      "## Package Plan ##\n",
      "\n",
      "  environment location: /usr/local/envs/py2env\n",
      "\n",
      "  added / updated specs: \n",
      "    - psutil==5.4.8\n",
      "\n",
      "\n",
      "The following packages will be downloaded:\n",
      "\n",
      "    package                    |            build\n",
      "    ---------------------------|-----------------\n",
      "    psutil-5.4.8               |   py27h7b6447c_0         307 KB  defaults\n",
      "\n",
      "The following packages will be UPDATED:\n",
      "\n",
      "    psutil: 4.3.0-py27_0 defaults --> 5.4.8-py27h7b6447c_0 defaults\n",
      "\n",
      "\n",
      "Downloading and Extracting Packages\n",
      "psutil-5.4.8         | 307 KB    | ##################################### | 100% \n",
      "Preparing transaction: done\n",
      "Verifying transaction: done\n",
      "Executing transaction: done\n"
     ]
    },
    {
     "ename": "ImportError",
     "evalue": "cannot import name HolonomyGroup",
     "output_type": "error",
     "traceback": [
      "\u001b[0;31m\u001b[0m",
      "\u001b[0;31mImportError\u001b[0mTraceback (most recent call last)",
      "\u001b[0;32m<ipython-input-6-7a4d7ecfc5c8>\u001b[0m in \u001b[0;36m<module>\u001b[0;34m()\u001b[0m\n\u001b[1;32m      5\u001b[0m \u001b[0mget_ipython\u001b[0m\u001b[0;34m(\u001b[0m\u001b[0;34m)\u001b[0m\u001b[0;34m.\u001b[0m\u001b[0msystem\u001b[0m\u001b[0;34m(\u001b[0m\u001b[0;34mu'conda remove python-snappy -y'\u001b[0m\u001b[0;34m)\u001b[0m\u001b[0;34m\u001b[0m\u001b[0m\n\u001b[1;32m      6\u001b[0m \u001b[0mget_ipython\u001b[0m\u001b[0;34m(\u001b[0m\u001b[0;34m)\u001b[0m\u001b[0;34m.\u001b[0m\u001b[0msystem\u001b[0m\u001b[0;34m(\u001b[0m\u001b[0;34mu'conda install psutil==5.4.8 -y'\u001b[0m\u001b[0;34m)\u001b[0m\u001b[0;34m\u001b[0m\u001b[0m\n\u001b[0;32m----> 7\u001b[0;31m \u001b[0;32mimport\u001b[0m \u001b[0msnappy\u001b[0m\u001b[0;34m\u001b[0m\u001b[0m\n\u001b[0m",
      "\u001b[0;32m/usr/local/envs/py2env/lib/python2.7/site-packages/snappy/__init__.py\u001b[0m in \u001b[0;36m<module>\u001b[0;34m()\u001b[0m\n\u001b[1;32m      5\u001b[0m \u001b[0;31m#logging.debug('This message should go to the log file')\u001b[0m\u001b[0;34m\u001b[0m\u001b[0;34m\u001b[0m\u001b[0m\n\u001b[1;32m      6\u001b[0m \u001b[0;32mimport\u001b[0m \u001b[0msys\u001b[0m\u001b[0;34m\u001b[0m\u001b[0m\n\u001b[0;32m----> 7\u001b[0;31m from .SnapPy import (AbelianGroup, HolonomyGroup, FundamentalGroup,\n\u001b[0m\u001b[1;32m      8\u001b[0m                      \u001b[0mDirichletDomain\u001b[0m\u001b[0;34m,\u001b[0m \u001b[0mCuspNeighborhood\u001b[0m\u001b[0;34m,\u001b[0m \u001b[0mSymmetryGroup\u001b[0m\u001b[0;34m,\u001b[0m\u001b[0;34m\u001b[0m\u001b[0m\n\u001b[1;32m      9\u001b[0m                      \u001b[0mAlternatingKnotExteriors\u001b[0m\u001b[0;34m,\u001b[0m \u001b[0mNonalternatingKnotExteriors\u001b[0m\u001b[0;34m,\u001b[0m\u001b[0;34m\u001b[0m\u001b[0m\n",
      "\u001b[0;31mImportError\u001b[0m: cannot import name HolonomyGroup"
     ]
    }
   ],
   "source": [
    "!pip install psutil\n",
    "#installing psutil==5.4.8\n",
    "!conda remove python-snappy -y\n",
    "!conda install psutil==5.4.8 -y\n"
   ]
  },
  {
   "cell_type": "code",
   "execution_count": 14,
   "metadata": {},
   "outputs": [
    {
     "name": "stderr",
     "output_type": "stream",
     "text": [
      "/usr/local/envs/py2env/lib/python2.7/site-packages/oauth2client/contrib/gce.py:99: UserWarning: You have requested explicit scopes to be used with a GCE service account.\n",
      "Using this argument will have no effect on the actual scopes for tokens\n",
      "requested. These scopes are set at VM instance creation time and\n",
      "can't be overridden in the request.\n",
      "\n",
      "  warnings.warn(_SCOPES_WARNING)\n",
      "WARNING: Logging before flag parsing goes to stderr.\n",
      "I1205 01:35:53.952888 140080787760896 client.py:614] Attempting refresh to obtain initial access_token\n",
      "I1205 01:35:54.040196 140080787760896 client.py:614] Attempting refresh to obtain initial access_token\n",
      "I1205 01:35:54.335994 140080787760896 fn_api_runner.py:844] ==================== <function annotate_downstream_side_inputs at 0x7f66ddd516e0> ====================\n",
      "I1205 01:35:54.339976 140080787760896 fn_api_runner.py:844] ==================== <function fix_side_input_pcoll_coders at 0x7f66ddd51500> ====================\n",
      "I1205 01:35:54.346641 140080787760896 fn_api_runner.py:844] ==================== <function lift_combiners at 0x7f66ddd519b0> ====================\n",
      "I1205 01:35:54.348835 140080787760896 fn_api_runner.py:844] ==================== <function expand_gbk at 0x7f66ddd51aa0> ====================\n",
      "I1205 01:35:54.352627 140080787760896 fn_api_runner.py:844] ==================== <function sink_flattens at 0x7f66ddd518c0> ====================\n",
      "I1205 01:35:54.354944 140080787760896 fn_api_runner.py:844] ==================== <function greedily_fuse at 0x7f66ddd517d0> ====================\n",
      "I1205 01:35:54.358869 140080787760896 fn_api_runner.py:844] ==================== <function sort_stages at 0x7f66ddd51a28> ====================\n",
      "I1205 01:35:54.361263 140080787760896 fn_api_runner.py:912] Running ((ref_AppliedPTransform_WriteToTFRecord/Write/WriteImpl/DoOnce/Read_9)+((ref_AppliedPTransform_WriteToTFRecord/Write/WriteImpl/InitializeWrite_10)+(ref_PCollection_PCollection_4/Write)))+(ref_PCollection_PCollection_3/Write)\n",
      "I1205 01:35:54.372519 140080787760896 bundle_processor.py:291] start <DataOutputOperation ref_PCollection_PCollection_4/Write >\n",
      "I1205 01:35:54.375844 140080787760896 bundle_processor.py:291] start <DataOutputOperation ref_PCollection_PCollection_3/Write >\n",
      "I1205 01:35:54.379164 140080787760896 bundle_processor.py:291] start <DoOperation WriteToTFRecord/Write/WriteImpl/InitializeWrite output_tags=['out']>\n",
      "I1205 01:35:54.384473 140080787760896 bundle_processor.py:291] start <ReadOperation WriteToTFRecord/Write/WriteImpl/DoOnce/Read source=SourceBundle(weight=1.0, source=<apache_beam.transforms.create_source._CreateSource object at 0x7f66ddd57610>, start_position=None, stop_position=None)>\n",
      "I1205 01:35:54.388386 140080787760896 bundle_processor.py:303] finish <ReadOperation WriteToTFRecord/Write/WriteImpl/DoOnce/Read source=SourceBundle(weight=1.0, source=<apache_beam.transforms.create_source._CreateSource object at 0x7f66ddd57610>, start_position=None, stop_position=None), receivers=[ConsumerSet[WriteToTFRecord/Write/WriteImpl/DoOnce/Read.out0, coder=WindowedValueCoder[FastPrimitivesCoder], len(consumers)=2]]>\n",
      "I1205 01:35:54.391190 140080787760896 bundle_processor.py:303] finish <DoOperation WriteToTFRecord/Write/WriteImpl/InitializeWrite output_tags=['out'], receivers=[ConsumerSet[WriteToTFRecord/Write/WriteImpl/InitializeWrite.out0, coder=WindowedValueCoder[LengthPrefixCoder[FastPrimitivesCoder]], len(consumers)=1]]>\n",
      "I1205 01:35:54.393202 140080787760896 bundle_processor.py:303] finish <DataOutputOperation ref_PCollection_PCollection_3/Write >\n",
      "I1205 01:35:54.394952 140080787760896 bundle_processor.py:303] finish <DataOutputOperation ref_PCollection_PCollection_4/Write >\n",
      "I1205 01:35:54.401626 140080787760896 fn_api_runner.py:912] Running (ref_AppliedPTransform_read/Read_3)+((ref_AppliedPTransform_BundleToLabel_4)+((ref_AppliedPTransform_WriteToTFRecord/Write/WriteImpl/WriteBundles_11)+((ref_AppliedPTransform_WriteToTFRecord/Write/WriteImpl/Pair_12)+((ref_AppliedPTransform_WriteToTFRecord/Write/WriteImpl/WindowInto(WindowIntoFn)_13)+(WriteToTFRecord/Write/WriteImpl/GroupByKey/Write)))))\n",
      "I1205 01:35:54.425071 140080787760896 bundle_processor.py:291] start <DataOutputOperation WriteToTFRecord/Write/WriteImpl/GroupByKey/Write >\n",
      "I1205 01:35:54.426795 140080787760896 bundle_processor.py:291] start <DoOperation WriteToTFRecord/Write/WriteImpl/WindowInto(WindowIntoFn) output_tags=['out']>\n",
      "I1205 01:35:54.430536 140080787760896 bundle_processor.py:291] start <DoOperation WriteToTFRecord/Write/WriteImpl/Pair output_tags=['out']>\n",
      "I1205 01:35:54.439610 140080787760896 bundle_processor.py:291] start <DoOperation WriteToTFRecord/Write/WriteImpl/WriteBundles output_tags=['out']>\n",
      "I1205 01:35:54.443507 140080787760896 bundle_processor.py:291] start <DoOperation BundleToLabel output_tags=['out']>\n",
      "I1205 01:35:54.446491 140080787760896 bundle_processor.py:291] start <ReadOperation read/Read source=SourceBundle(weight=1.0, source=<apache_beam.io.tfrecordio._TFRecordSource object at 0x7f66ddd05d90>, start_position=None, stop_position=None)>\n",
      "I1205 01:35:54.453035 140080787760896 client.py:614] Attempting refresh to obtain initial access_token\n",
      "I1205 01:35:54.529680 140080787760896 client.py:614] Attempting refresh to obtain initial access_token\n",
      "I1205 01:35:54.603548 140080787760896 client.py:614] Attempting refresh to obtain initial access_token\n",
      "W1205 01:35:54.762912 140080787760896 tfrecordio.py:49] Couldn't find python-snappy so the implementation of _TFRecordUtil._masked_crc32c is not as fast as it could be.\n",
      "I1205 01:35:54.775537 140080787760896 bundle_processor.py:303] finish <ReadOperation read/Read source=SourceBundle(weight=1.0, source=<apache_beam.io.tfrecordio._TFRecordSource object at 0x7f66ddd05d90>, start_position=None, stop_position=None), receivers=[ConsumerSet[read/Read.out0, coder=WindowedValueCoder[FastPrimitivesCoder], len(consumers)=1]]>\n",
      "I1205 01:35:54.781105 140080787760896 bundle_processor.py:303] finish <DoOperation BundleToLabel output_tags=['out'], receivers=[ConsumerSet[BundleToLabel.out0, coder=WindowedValueCoder[ProtoCoder], len(consumers)=1]]>\n",
      "I1205 01:35:54.780725 140079620159232 client.py:614] Attempting refresh to obtain initial access_token\n",
      "I1205 01:35:54.785643 140080787760896 bundle_processor.py:303] finish <DoOperation WriteToTFRecord/Write/WriteImpl/WriteBundles output_tags=['out'], receivers=[ConsumerSet[WriteToTFRecord/Write/WriteImpl/WriteBundles.out0, coder=WindowedValueCoder[FastPrimitivesCoder], len(consumers)=1]]>\n",
      "I1205 01:35:55.218157 140080787760896 bundle_processor.py:303] finish <DoOperation WriteToTFRecord/Write/WriteImpl/Pair output_tags=['out'], receivers=[ConsumerSet[WriteToTFRecord/Write/WriteImpl/Pair.out0, coder=WindowedValueCoder[TupleCoder[FastPrimitivesCoder, FastPrimitivesCoder]], len(consumers)=1]]>\n",
      "I1205 01:35:55.221517 140080787760896 bundle_processor.py:303] finish <DoOperation WriteToTFRecord/Write/WriteImpl/WindowInto(WindowIntoFn) output_tags=['out'], receivers=[ConsumerSet[WriteToTFRecord/Write/WriteImpl/WindowInto(WindowIntoFn).out0, coder=WindowedValueCoder[TupleCoder[LengthPrefixCoder[FastPrimitivesCoder], LengthPrefixCoder[FastPrimitivesCoder]]], len(consumers)=1]]>\n",
      "I1205 01:35:55.224013 140080787760896 bundle_processor.py:303] finish <DataOutputOperation WriteToTFRecord/Write/WriteImpl/GroupByKey/Write >\n",
      "I1205 01:35:55.375636 140080787760896 fn_api_runner.py:912] Running (WriteToTFRecord/Write/WriteImpl/GroupByKey/Read)+((ref_AppliedPTransform_WriteToTFRecord/Write/WriteImpl/Extract_18)+(ref_PCollection_PCollection_11/Write))\n",
      "I1205 01:35:55.383209 140080787760896 bundle_processor.py:291] start <DataOutputOperation ref_PCollection_PCollection_11/Write >\n",
      "I1205 01:35:55.385077 140080787760896 bundle_processor.py:291] start <DoOperation WriteToTFRecord/Write/WriteImpl/Extract output_tags=['out']>\n",
      "I1205 01:35:55.389570 140080787760896 bundle_processor.py:291] start <DataInputOperation WriteToTFRecord/Write/WriteImpl/GroupByKey/Read receivers=[ConsumerSet[WriteToTFRecord/Write/WriteImpl/GroupByKey/Read.out0, coder=WindowedValueCoder[TupleCoder[LengthPrefixCoder[FastPrimitivesCoder], IterableCoder[LengthPrefixCoder[FastPrimitivesCoder]]]], len(consumers)=1]]>\n",
      "I1205 01:35:55.392517 140080787760896 bundle_processor.py:303] finish <DataInputOperation WriteToTFRecord/Write/WriteImpl/GroupByKey/Read receivers=[ConsumerSet[WriteToTFRecord/Write/WriteImpl/GroupByKey/Read.out0, coder=WindowedValueCoder[TupleCoder[LengthPrefixCoder[FastPrimitivesCoder], IterableCoder[LengthPrefixCoder[FastPrimitivesCoder]]]], len(consumers)=1]]>\n"
     ]
    },
    {
     "name": "stderr",
     "output_type": "stream",
     "text": [
      "I1205 01:35:55.394455 140080787760896 bundle_processor.py:303] finish <DoOperation WriteToTFRecord/Write/WriteImpl/Extract output_tags=['out'], receivers=[ConsumerSet[WriteToTFRecord/Write/WriteImpl/Extract.out0, coder=WindowedValueCoder[LengthPrefixCoder[FastPrimitivesCoder]], len(consumers)=1]]>\n",
      "I1205 01:35:55.396230 140080787760896 bundle_processor.py:303] finish <DataOutputOperation ref_PCollection_PCollection_11/Write >\n",
      "I1205 01:35:55.400696 140080787760896 fn_api_runner.py:912] Running ((ref_PCollection_PCollection_3/Read)+(ref_AppliedPTransform_WriteToTFRecord/Write/WriteImpl/PreFinalize_19))+(ref_PCollection_PCollection_12/Write)\n",
      "I1205 01:35:55.409799 140080787760896 bundle_processor.py:291] start <DataOutputOperation ref_PCollection_PCollection_12/Write >\n",
      "I1205 01:35:55.411510 140080787760896 bundle_processor.py:291] start <DoOperation WriteToTFRecord/Write/WriteImpl/PreFinalize output_tags=['out']>\n",
      "I1205 01:35:55.414489 140080787760896 bundle_processor.py:291] start <DataInputOperation ref_PCollection_PCollection_3/Read receivers=[ConsumerSet[ref_PCollection_PCollection_3/Read.out0, coder=WindowedValueCoder[FastPrimitivesCoder], len(consumers)=1]]>\n",
      "I1205 01:35:55.422554 140080787760896 gcsio.py:446] Starting the size estimation of the input\n",
      "I1205 01:35:55.425710 140080787760896 client.py:614] Attempting refresh to obtain initial access_token\n",
      "I1205 01:35:55.507051 140080787760896 gcsio.py:460] Finished listing 0 files in 0.0844919681549 seconds.\n",
      "I1205 01:35:55.509062 140080787760896 bundle_processor.py:303] finish <DataInputOperation ref_PCollection_PCollection_3/Read receivers=[ConsumerSet[ref_PCollection_PCollection_3/Read.out0, coder=WindowedValueCoder[FastPrimitivesCoder], len(consumers)=1]]>\n",
      "I1205 01:35:55.512376 140080787760896 bundle_processor.py:303] finish <DoOperation WriteToTFRecord/Write/WriteImpl/PreFinalize output_tags=['out'], receivers=[ConsumerSet[WriteToTFRecord/Write/WriteImpl/PreFinalize.out0, coder=WindowedValueCoder[LengthPrefixCoder[FastPrimitivesCoder]], len(consumers)=1]]>\n",
      "I1205 01:35:55.514414 140080787760896 bundle_processor.py:303] finish <DataOutputOperation ref_PCollection_PCollection_12/Write >\n",
      "I1205 01:35:55.531563 140080787760896 fn_api_runner.py:912] Running (ref_PCollection_PCollection_3/Read)+(ref_AppliedPTransform_WriteToTFRecord/Write/WriteImpl/FinalizeWrite_20)\n",
      "I1205 01:35:55.541970 140080787760896 bundle_processor.py:291] start <DoOperation WriteToTFRecord/Write/WriteImpl/FinalizeWrite output_tags=['out']>\n",
      "I1205 01:35:55.547513 140080787760896 bundle_processor.py:291] start <DataInputOperation ref_PCollection_PCollection_3/Read receivers=[ConsumerSet[ref_PCollection_PCollection_3/Read.out0, coder=WindowedValueCoder[FastPrimitivesCoder], len(consumers)=1]]>\n",
      "I1205 01:35:55.553173 140080787760896 gcsio.py:446] Starting the size estimation of the input\n",
      "I1205 01:35:55.556380 140080787760896 client.py:614] Attempting refresh to obtain initial access_token\n",
      "I1205 01:35:55.635895 140080787760896 gcsio.py:460] Finished listing 1 files in 0.0827250480652 seconds.\n",
      "I1205 01:35:55.643523 140080787760896 gcsio.py:446] Starting the size estimation of the input\n",
      "I1205 01:35:55.646173 140080787760896 client.py:614] Attempting refresh to obtain initial access_token\n",
      "I1205 01:35:55.713162 140080787760896 gcsio.py:460] Finished listing 0 files in 0.0696339607239 seconds.\n",
      "I1205 01:35:55.717389 140080787760896 filebasedsink.py:290] Starting finalize_write threads with num_shards: 1 (skipped: 0), batches: 1, num_threads: 1\n",
      "I1205 01:35:55.728504 140079620159232 client.py:614] Attempting refresh to obtain initial access_token\n",
      "I1205 01:35:56.108414 140079620159232 client.py:614] Attempting refresh to obtain initial access_token\n",
      "I1205 01:35:56.350739 140080787760896 filebasedsink.py:327] Renamed 1 shards in 0.63 seconds.\n",
      "I1205 01:35:56.360085 140080787760896 client.py:614] Attempting refresh to obtain initial access_token\n",
      "I1205 01:35:56.539762 140080787760896 bundle_processor.py:303] finish <DataInputOperation ref_PCollection_PCollection_3/Read receivers=[ConsumerSet[ref_PCollection_PCollection_3/Read.out0, coder=WindowedValueCoder[FastPrimitivesCoder], len(consumers)=1]]>\n",
      "I1205 01:35:56.542469 140080787760896 bundle_processor.py:303] finish <DoOperation WriteToTFRecord/Write/WriteImpl/FinalizeWrite output_tags=['out'], receivers=[ConsumerSet[WriteToTFRecord/Write/WriteImpl/FinalizeWrite.out0, coder=WindowedValueCoder[FastPrimitivesCoder], len(consumers)=0]]>\n"
     ]
    },
    {
     "data": {
      "text/plain": [
       "<apache_beam.runners.portability.fn_api_runner.RunnerResult at 0x7f66ddd57590>"
      ]
     },
     "execution_count": 14,
     "metadata": {},
     "output_type": "execute_result"
    }
   ],
   "source": [
    "\n",
    "import logging\n",
    "logger = logging.getLogger()\n",
    "logger.setLevel(logging.INFO)\n",
    "p = beam.Pipeline(options=options)\n",
    "\n",
    "bundles = p | 'read' >> beam.io.ReadFromTFRecord(\n",
    "    'gs://labelsdata/data/test_bundle.tfrecord-00000-of-00001', coder=beam.coders.ProtoCoder(resources_pb2.Bundle))\n",
    "    \n",
    "labels = bundles | 'BundleToLabel' >> beam.ParDo(\n",
    "    LengthOfStayRangeLabelAt24HoursFn())\n",
    "_ = labels | beam.io.WriteToTFRecord(\n",
    "    'gs://labelsdata/data',\n",
    "    coder=beam.coders.ProtoCoder(google_extensions_pb2.EventLabel))\n",
    "\n",
    "p.run()\n"
   ]
  },
  {
   "cell_type": "markdown",
   "metadata": {},
   "source": [
    "Transform definition"
   ]
  },
  {
   "cell_type": "markdown",
   "metadata": {},
   "source": [
    "Run the transform"
   ]
  },
  {
   "cell_type": "code",
   "execution_count": null,
   "metadata": {},
   "outputs": [],
   "source": [
    "   p.run().wait_until_finish()"
   ]
  },
  {
   "cell_type": "markdown",
   "metadata": {},
   "source": [
    "YAY!!"
   ]
  }
 ],
 "metadata": {
  "kernelspec": {
   "display_name": "Python 2",
   "language": "python",
   "name": "python2"
  },
  "language_info": {
   "codemirror_mode": {
    "name": "ipython",
    "version": 2
   },
   "file_extension": ".py",
   "mimetype": "text/x-python",
   "name": "python",
   "nbconvert_exporter": "python",
   "pygments_lexer": "ipython2",
   "version": "2.7.15"
  }
 },
 "nbformat": 4,
 "nbformat_minor": 2
}
