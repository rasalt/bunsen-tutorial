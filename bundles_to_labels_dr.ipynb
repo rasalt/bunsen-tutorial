{
 "cells": [
  {
   "cell_type": "code",
   "execution_count": 1,
   "metadata": {},
   "outputs": [
    {
     "name": "stderr",
     "output_type": "stream",
     "text": [
      "/usr/local/envs/py2env/lib/python2.7/site-packages/ipykernel/__main__.py:4: ImportWarning: Not importing directory '/usr/local/fhir/proto': missing __init__.py\n"
     ]
    }
   ],
   "source": [
    "from absl import app\n",
    "from absl import flags\n",
    "import apache_beam as beam\n",
    "from proto.stu3 import google_extensions_pb2\n",
    "from proto.stu3 import resources_pb2\n",
    "from py.google.fhir.labels import encounter\n",
    "from py.google.fhir.labels import label\n"
   ]
  },
  {
   "cell_type": "code",
   "execution_count": 2,
   "metadata": {},
   "outputs": [],
   "source": [
    "@beam.typehints.with_input_types(resources_pb2.Bundle)\n",
    "@beam.typehints.with_output_types(google_extensions_pb2.EventLabel)\n",
    "class LengthOfStayRangeLabelAt24HoursFn(beam.DoFn):\n",
    "  \"\"\"Converts Bundle into length of stay range at 24 hours label.\n",
    "\n",
    "    Cohort: inpatient encounter that is longer than 24 hours\n",
    "    Trigger point: 24 hours after admission\n",
    "    Label: multi-label for length of stay ranges, see label.py for detail\n",
    "  \"\"\"\n",
    "\n",
    "  def process(self, bundle):\n",
    "    \"\"\"Iterate through bundle and yield label.\n",
    "\n",
    "    Args:\n",
    "      bundle: input stu3.Bundle proto\n",
    "    Yields:\n",
    "      stu3.EventLabel proto.\n",
    "    \"\"\"\n",
    "    patient = encounter.GetPatient(bundle)\n",
    "    if patient is not None:\n",
    "      # Cohort: inpatient encounter > 24 hours.\n",
    "      for enc in encounter.Inpatient24HrEncounters(bundle):\n",
    "        for one_label in label.LengthOfStayRangeAt24Hours(patient, enc):\n",
    "          yield one_label\n",
    "\n"
   ]
  },
  {
   "cell_type": "markdown",
   "metadata": {},
   "source": [
    "## Initialize pipeline variables"
   ]
  },
  {
   "cell_type": "code",
   "execution_count": 3,
   "metadata": {},
   "outputs": [],
   "source": [
    "from apache_beam.options.pipeline_options import GoogleCloudOptions\n",
    "from apache_beam.options.pipeline_options import StandardOptions\n",
    "from apache_beam.options.pipeline_options import SetupOptions\n",
    "from apache_beam.options.pipeline_options import PipelineOptions\n",
    "\n",
    "from apache_beam.io import ReadFromText\n",
    "from apache_beam.io import WriteToText\n",
    "from apache_beam.metrics import Metrics\n",
    "from apache_beam.metrics.metric import MetricsFilter\n",
    "\n",
    "import apache_beam as beam\n",
    "import re\n",
    "\n",
    "options = PipelineOptions()\n",
    "google_cloud_options = options.view_as(GoogleCloudOptions)\n",
    "google_cloud_options.project = 'de-test-224618'\n",
    "google_cloud_options.job_name = 'job1'\n",
    "google_cloud_options.staging_location = 'gs://healthedatalab/staging'\n",
    "google_cloud_options.temp_location = 'gs://healthedatalab/temp'\n",
    "options.view_as(StandardOptions).runner = 'DirectRunner'\n"
   ]
  },
  {
   "cell_type": "markdown",
   "metadata": {},
   "source": [
    "## Initalize the beam job"
   ]
  },
  {
   "cell_type": "code",
   "execution_count": 4,
   "metadata": {},
   "outputs": [
    {
     "name": "stderr",
     "output_type": "stream",
     "text": [
      "/usr/local/envs/py2env/lib/python2.7/site-packages/oauth2client/contrib/gce.py:99: UserWarning: You have requested explicit scopes to be used with a GCE service account.\n",
      "Using this argument will have no effect on the actual scopes for tokens\n",
      "requested. These scopes are set at VM instance creation time and\n",
      "can't be overridden in the request.\n",
      "\n",
      "  warnings.warn(_SCOPES_WARNING)\n",
      "WARNING: Logging before flag parsing goes to stderr.\n",
      "I0109 04:06:16.353255 139734587995904 client.py:614] Attempting refresh to obtain initial access_token\n",
      "I0109 04:06:16.603811 139734587995904 client.py:614] Attempting refresh to obtain initial access_token\n"
     ]
    }
   ],
   "source": [
    "\n",
    "import logging\n",
    "logger = logging.getLogger()\n",
    "logger.setLevel(logging.INFO)\n",
    "p = beam.Pipeline(options=options)\n",
    "\n",
    "bundles = p | 'read' >> beam.io.ReadFromTFRecord(\n",
    "    'gs://healthedatalab/bundle/test_bundle.tfrecord-00000-of-00001', coder=beam.coders.ProtoCoder(resources_pb2.Bundle))\n",
    "    \n",
    "labels = bundles | 'BundleToLabel' >> beam.ParDo(\n",
    "    LengthOfStayRangeLabelAt24HoursFn())\n",
    "_ = labels | beam.io.WriteToTFRecord(\n",
    "    'gs://healthedatalab/labeldata/test-label',\n",
    "    coder=beam.coders.ProtoCoder(google_extensions_pb2.EventLabel))\n",
    "\n"
   ]
  },
  {
   "cell_type": "markdown",
   "metadata": {},
   "source": [
    "## Run the transform"
   ]
  },
  {
   "cell_type": "code",
   "execution_count": 5,
   "metadata": {},
   "outputs": [
    {
     "name": "stderr",
     "output_type": "stream",
     "text": [
      "I0109 04:06:49.158493 139734587995904 fn_api_runner.py:844] ==================== <function annotate_downstream_side_inputs at 0x7f1641b8e668> ====================\n",
      "I0109 04:06:49.161040 139734587995904 fn_api_runner.py:844] ==================== <function fix_side_input_pcoll_coders at 0x7f1641b8e578> ====================\n",
      "I0109 04:06:49.164942 139734587995904 fn_api_runner.py:844] ==================== <function lift_combiners at 0x7f1641b8e230> ====================\n",
      "I0109 04:06:49.166904 139734587995904 fn_api_runner.py:844] ==================== <function expand_gbk at 0x7f1641b8e9b0> ====================\n",
      "I0109 04:06:49.171428 139734587995904 fn_api_runner.py:844] ==================== <function sink_flattens at 0x7f1641b8e8c0> ====================\n",
      "I0109 04:06:49.173270 139734587995904 fn_api_runner.py:844] ==================== <function greedily_fuse at 0x7f1641b8eaa0> ====================\n",
      "I0109 04:06:49.177407 139734587995904 fn_api_runner.py:844] ==================== <function sort_stages at 0x7f1641b8e500> ====================\n",
      "I0109 04:06:49.180087 139734587995904 fn_api_runner.py:912] Running ((ref_AppliedPTransform_WriteToTFRecord/Write/WriteImpl/DoOnce/Read_9)+((ref_AppliedPTransform_WriteToTFRecord/Write/WriteImpl/InitializeWrite_10)+(ref_PCollection_PCollection_4/Write)))+(ref_PCollection_PCollection_3/Write)\n",
      "I0109 04:06:49.195827 139734587995904 bundle_processor.py:291] start <DataOutputOperation ref_PCollection_PCollection_4/Write >\n",
      "I0109 04:06:49.199212 139734587995904 bundle_processor.py:291] start <DataOutputOperation ref_PCollection_PCollection_3/Write >\n",
      "I0109 04:06:49.201910 139734587995904 bundle_processor.py:291] start <DoOperation WriteToTFRecord/Write/WriteImpl/InitializeWrite output_tags=['out']>\n",
      "I0109 04:06:49.206669 139734587995904 bundle_processor.py:291] start <ReadOperation WriteToTFRecord/Write/WriteImpl/DoOnce/Read source=SourceBundle(weight=1.0, source=<apache_beam.transforms.create_source._CreateSource object at 0x7f1641b85d90>, start_position=None, stop_position=None)>\n",
      "I0109 04:06:49.210854 139734587995904 bundle_processor.py:303] finish <ReadOperation WriteToTFRecord/Write/WriteImpl/DoOnce/Read source=SourceBundle(weight=1.0, source=<apache_beam.transforms.create_source._CreateSource object at 0x7f1641b85d90>, start_position=None, stop_position=None), receivers=[ConsumerSet[WriteToTFRecord/Write/WriteImpl/DoOnce/Read.out0, coder=WindowedValueCoder[FastPrimitivesCoder], len(consumers)=2]]>\n",
      "I0109 04:06:49.212991 139734587995904 bundle_processor.py:303] finish <DoOperation WriteToTFRecord/Write/WriteImpl/InitializeWrite output_tags=['out'], receivers=[ConsumerSet[WriteToTFRecord/Write/WriteImpl/InitializeWrite.out0, coder=WindowedValueCoder[LengthPrefixCoder[FastPrimitivesCoder]], len(consumers)=1]]>\n",
      "I0109 04:06:49.214660 139734587995904 bundle_processor.py:303] finish <DataOutputOperation ref_PCollection_PCollection_3/Write >\n",
      "I0109 04:06:49.217144 139734587995904 bundle_processor.py:303] finish <DataOutputOperation ref_PCollection_PCollection_4/Write >\n",
      "I0109 04:06:49.224021 139734587995904 fn_api_runner.py:912] Running (ref_AppliedPTransform_read/Read_3)+((ref_AppliedPTransform_BundleToLabel_4)+((ref_AppliedPTransform_WriteToTFRecord/Write/WriteImpl/WriteBundles_11)+((ref_AppliedPTransform_WriteToTFRecord/Write/WriteImpl/Pair_12)+((ref_AppliedPTransform_WriteToTFRecord/Write/WriteImpl/WindowInto(WindowIntoFn)_13)+(WriteToTFRecord/Write/WriteImpl/GroupByKey/Write)))))\n",
      "I0109 04:06:49.244846 139734587995904 bundle_processor.py:291] start <DataOutputOperation WriteToTFRecord/Write/WriteImpl/GroupByKey/Write >\n",
      "I0109 04:06:49.247025 139734587995904 bundle_processor.py:291] start <DoOperation WriteToTFRecord/Write/WriteImpl/WindowInto(WindowIntoFn) output_tags=['out']>\n",
      "I0109 04:06:49.249963 139734587995904 bundle_processor.py:291] start <DoOperation WriteToTFRecord/Write/WriteImpl/Pair output_tags=['out']>\n",
      "I0109 04:06:49.253279 139734587995904 bundle_processor.py:291] start <DoOperation WriteToTFRecord/Write/WriteImpl/WriteBundles output_tags=['out']>\n",
      "I0109 04:06:49.256860 139734587995904 bundle_processor.py:291] start <DoOperation BundleToLabel output_tags=['out']>\n",
      "I0109 04:06:49.260236 139734587995904 bundle_processor.py:291] start <ReadOperation read/Read source=SourceBundle(weight=1.0, source=<apache_beam.io.tfrecordio._TFRecordSource object at 0x7f16377f3450>, start_position=None, stop_position=None)>\n",
      "I0109 04:06:49.265867 139734587995904 client.py:614] Attempting refresh to obtain initial access_token\n",
      "I0109 04:06:49.359580 139734587995904 client.py:614] Attempting refresh to obtain initial access_token\n",
      "I0109 04:06:49.444690 139734587995904 client.py:614] Attempting refresh to obtain initial access_token\n",
      "W0109 04:06:49.577512 139734587995904 tfrecordio.py:49] Couldn't find python-snappy so the implementation of _TFRecordUtil._masked_crc32c is not as fast as it could be.\n",
      "I0109 04:06:49.607728 139734587995904 bundle_processor.py:303] finish <ReadOperation read/Read source=SourceBundle(weight=1.0, source=<apache_beam.io.tfrecordio._TFRecordSource object at 0x7f16377f3450>, start_position=None, stop_position=None), receivers=[ConsumerSet[read/Read.out0, coder=WindowedValueCoder[FastPrimitivesCoder], len(consumers)=1]]>\n",
      "I0109 04:06:49.611782 139733536323328 client.py:614] Attempting refresh to obtain initial access_token\n",
      "I0109 04:06:49.612153 139734587995904 bundle_processor.py:303] finish <DoOperation BundleToLabel output_tags=['out'], receivers=[ConsumerSet[BundleToLabel.out0, coder=WindowedValueCoder[ProtoCoder], len(consumers)=1]]>\n",
      "I0109 04:06:49.617327 139734587995904 bundle_processor.py:303] finish <DoOperation WriteToTFRecord/Write/WriteImpl/WriteBundles output_tags=['out'], receivers=[ConsumerSet[WriteToTFRecord/Write/WriteImpl/WriteBundles.out0, coder=WindowedValueCoder[FastPrimitivesCoder], len(consumers)=1]]>\n",
      "I0109 04:06:49.994558 139734587995904 bundle_processor.py:303] finish <DoOperation WriteToTFRecord/Write/WriteImpl/Pair output_tags=['out'], receivers=[ConsumerSet[WriteToTFRecord/Write/WriteImpl/Pair.out0, coder=WindowedValueCoder[TupleCoder[FastPrimitivesCoder, FastPrimitivesCoder]], len(consumers)=1]]>\n",
      "I0109 04:06:49.996604 139734587995904 bundle_processor.py:303] finish <DoOperation WriteToTFRecord/Write/WriteImpl/WindowInto(WindowIntoFn) output_tags=['out'], receivers=[ConsumerSet[WriteToTFRecord/Write/WriteImpl/WindowInto(WindowIntoFn).out0, coder=WindowedValueCoder[TupleCoder[LengthPrefixCoder[FastPrimitivesCoder], LengthPrefixCoder[FastPrimitivesCoder]]], len(consumers)=1]]>\n",
      "I0109 04:06:49.998619 139734587995904 bundle_processor.py:303] finish <DataOutputOperation WriteToTFRecord/Write/WriteImpl/GroupByKey/Write >\n",
      "I0109 04:06:50.035187 139734587995904 fn_api_runner.py:912] Running (WriteToTFRecord/Write/WriteImpl/GroupByKey/Read)+((ref_AppliedPTransform_WriteToTFRecord/Write/WriteImpl/Extract_18)+(ref_PCollection_PCollection_11/Write))\n",
      "I0109 04:06:50.041971 139734587995904 bundle_processor.py:291] start <DataOutputOperation ref_PCollection_PCollection_11/Write >\n",
      "I0109 04:06:50.044200 139734587995904 bundle_processor.py:291] start <DoOperation WriteToTFRecord/Write/WriteImpl/Extract output_tags=['out']>\n",
      "I0109 04:06:50.048382 139734587995904 bundle_processor.py:291] start <DataInputOperation WriteToTFRecord/Write/WriteImpl/GroupByKey/Read receivers=[ConsumerSet[WriteToTFRecord/Write/WriteImpl/GroupByKey/Read.out0, coder=WindowedValueCoder[TupleCoder[LengthPrefixCoder[FastPrimitivesCoder], IterableCoder[LengthPrefixCoder[FastPrimitivesCoder]]]], len(consumers)=1]]>\n",
      "I0109 04:06:50.051069 139734587995904 bundle_processor.py:303] finish <DataInputOperation WriteToTFRecord/Write/WriteImpl/GroupByKey/Read receivers=[ConsumerSet[WriteToTFRecord/Write/WriteImpl/GroupByKey/Read.out0, coder=WindowedValueCoder[TupleCoder[LengthPrefixCoder[FastPrimitivesCoder], IterableCoder[LengthPrefixCoder[FastPrimitivesCoder]]]], len(consumers)=1]]>\n",
      "I0109 04:06:50.053164 139734587995904 bundle_processor.py:303] finish <DoOperation WriteToTFRecord/Write/WriteImpl/Extract output_tags=['out'], receivers=[ConsumerSet[WriteToTFRecord/Write/WriteImpl/Extract.out0, coder=WindowedValueCoder[LengthPrefixCoder[FastPrimitivesCoder]], len(consumers)=1]]>\n"
     ]
    },
    {
     "name": "stderr",
     "output_type": "stream",
     "text": [
      "I0109 04:06:50.054879 139734587995904 bundle_processor.py:303] finish <DataOutputOperation ref_PCollection_PCollection_11/Write >\n",
      "I0109 04:06:50.064006 139734587995904 fn_api_runner.py:912] Running ((ref_PCollection_PCollection_3/Read)+(ref_AppliedPTransform_WriteToTFRecord/Write/WriteImpl/PreFinalize_19))+(ref_PCollection_PCollection_12/Write)\n",
      "I0109 04:06:50.072561 139734587995904 bundle_processor.py:291] start <DataOutputOperation ref_PCollection_PCollection_12/Write >\n",
      "I0109 04:06:50.074151 139734587995904 bundle_processor.py:291] start <DoOperation WriteToTFRecord/Write/WriteImpl/PreFinalize output_tags=['out']>\n",
      "I0109 04:06:50.077641 139734587995904 bundle_processor.py:291] start <DataInputOperation ref_PCollection_PCollection_3/Read receivers=[ConsumerSet[ref_PCollection_PCollection_3/Read.out0, coder=WindowedValueCoder[FastPrimitivesCoder], len(consumers)=1]]>\n",
      "I0109 04:06:50.083122 139734587995904 gcsio.py:446] Starting the size estimation of the input\n",
      "I0109 04:06:50.086520 139734587995904 client.py:614] Attempting refresh to obtain initial access_token\n",
      "I0109 04:06:50.198558 139734587995904 gcsio.py:460] Finished listing 0 files in 0.115432024002 seconds.\n",
      "I0109 04:06:50.201927 139734587995904 bundle_processor.py:303] finish <DataInputOperation ref_PCollection_PCollection_3/Read receivers=[ConsumerSet[ref_PCollection_PCollection_3/Read.out0, coder=WindowedValueCoder[FastPrimitivesCoder], len(consumers)=1]]>\n",
      "I0109 04:06:50.204761 139734587995904 bundle_processor.py:303] finish <DoOperation WriteToTFRecord/Write/WriteImpl/PreFinalize output_tags=['out'], receivers=[ConsumerSet[WriteToTFRecord/Write/WriteImpl/PreFinalize.out0, coder=WindowedValueCoder[LengthPrefixCoder[FastPrimitivesCoder]], len(consumers)=1]]>\n",
      "I0109 04:06:50.206450 139734587995904 bundle_processor.py:303] finish <DataOutputOperation ref_PCollection_PCollection_12/Write >\n",
      "I0109 04:06:50.219533 139734587995904 fn_api_runner.py:912] Running (ref_PCollection_PCollection_3/Read)+(ref_AppliedPTransform_WriteToTFRecord/Write/WriteImpl/FinalizeWrite_20)\n",
      "I0109 04:06:50.227463 139734587995904 bundle_processor.py:291] start <DoOperation WriteToTFRecord/Write/WriteImpl/FinalizeWrite output_tags=['out']>\n",
      "I0109 04:06:50.243494 139734587995904 bundle_processor.py:291] start <DataInputOperation ref_PCollection_PCollection_3/Read receivers=[ConsumerSet[ref_PCollection_PCollection_3/Read.out0, coder=WindowedValueCoder[FastPrimitivesCoder], len(consumers)=1]]>\n",
      "I0109 04:06:50.248271 139734587995904 gcsio.py:446] Starting the size estimation of the input\n",
      "I0109 04:06:50.250380 139734587995904 client.py:614] Attempting refresh to obtain initial access_token\n",
      "I0109 04:06:50.349225 139734587995904 gcsio.py:460] Finished listing 1 files in 0.10094499588 seconds.\n",
      "I0109 04:06:50.357100 139734587995904 gcsio.py:446] Starting the size estimation of the input\n",
      "I0109 04:06:50.359769 139734587995904 client.py:614] Attempting refresh to obtain initial access_token\n",
      "I0109 04:06:50.444780 139734587995904 gcsio.py:460] Finished listing 0 files in 0.0876910686493 seconds.\n",
      "I0109 04:06:50.446821 139734587995904 filebasedsink.py:290] Starting finalize_write threads with num_shards: 1 (skipped: 0), batches: 1, num_threads: 1\n",
      "I0109 04:06:50.455856 139733536323328 client.py:614] Attempting refresh to obtain initial access_token\n",
      "I0109 04:06:50.723997 139733536323328 client.py:614] Attempting refresh to obtain initial access_token\n",
      "I0109 04:06:50.981653 139734587995904 filebasedsink.py:327] Renamed 1 shards in 0.53 seconds.\n",
      "I0109 04:06:50.990670 139734587995904 client.py:614] Attempting refresh to obtain initial access_token\n",
      "I0109 04:06:51.093591 139734587995904 bundle_processor.py:303] finish <DataInputOperation ref_PCollection_PCollection_3/Read receivers=[ConsumerSet[ref_PCollection_PCollection_3/Read.out0, coder=WindowedValueCoder[FastPrimitivesCoder], len(consumers)=1]]>\n",
      "I0109 04:06:51.095587 139734587995904 bundle_processor.py:303] finish <DoOperation WriteToTFRecord/Write/WriteImpl/FinalizeWrite output_tags=['out'], receivers=[ConsumerSet[WriteToTFRecord/Write/WriteImpl/FinalizeWrite.out0, coder=WindowedValueCoder[FastPrimitivesCoder], len(consumers)=0]]>\n"
     ]
    },
    {
     "data": {
      "text/plain": [
       "'DONE'"
      ]
     },
     "execution_count": 5,
     "metadata": {},
     "output_type": "execute_result"
    }
   ],
   "source": [
    "   p.run().wait_until_finish()"
   ]
  },
  {
   "cell_type": "markdown",
   "metadata": {},
   "source": [
    "YAY!!"
   ]
  }
 ],
 "metadata": {
  "kernelspec": {
   "display_name": "Python 2",
   "language": "python",
   "name": "python2"
  },
  "language_info": {
   "codemirror_mode": {
    "name": "ipython",
    "version": 2
   },
   "file_extension": ".py",
   "mimetype": "text/x-python",
   "name": "python",
   "nbconvert_exporter": "python",
   "pygments_lexer": "ipython2",
   "version": "2.7.15"
  }
 },
 "nbformat": 4,
 "nbformat_minor": 2
}
