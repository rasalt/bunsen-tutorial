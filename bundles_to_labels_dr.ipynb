{
 "cells": [
  {
   "cell_type": "markdown",
   "metadata": {},
   "source": [
    "Install packages required for apache-beam and protobuf"
   ]
  },
  {
   "cell_type": "code",
   "execution_count": 11,
   "metadata": {},
   "outputs": [
    {
     "name": "stdout",
     "output_type": "stream",
     "text": [
      "Requirement already satisfied: protobuf==3.6 in /usr/local/envs/py2env/lib/python2.7/site-packages (3.6.0)\n",
      "Requirement already satisfied: six>=1.9 in /usr/local/envs/py2env/lib/python2.7/site-packages (from protobuf==3.6) (1.10.0)\n",
      "Requirement already satisfied: setuptools in /usr/local/envs/py2env/lib/python2.7/site-packages (from protobuf==3.6) (40.6.2)\n",
      "3.6.0\n"
     ]
    }
   ],
   "source": [
    "!pip install protobuf==3.6\n",
    "import google.protobuf as proto\n",
    "!pip install apache-beam==2.7.0\n",
    "!pip install apache-beam[gcp]\n",
    "!pip install psutil\n",
    "!conda remove python-snappy -y\n",
    "!conda install psutil==5.4.8 -y"
   ]
  },
  {
   "cell_type": "markdown",
   "metadata": {},
   "source": [
    "## RESET KERNEL"
   ]
  },
  {
   "cell_type": "code",
   "execution_count": 11,
   "metadata": {},
   "outputs": [],
   "source": [
    "from absl import app\n",
    "from absl import flags\n",
    "import apache_beam as beam\n",
    "from proto.stu3 import google_extensions_pb2\n",
    "from proto.stu3 import resources_pb2\n",
    "from py.google.fhir.labels import encounter\n",
    "from py.google.fhir.labels import label\n"
   ]
  },
  {
   "cell_type": "code",
   "execution_count": 12,
   "metadata": {},
   "outputs": [],
   "source": [
    "@beam.typehints.with_input_types(resources_pb2.Bundle)\n",
    "@beam.typehints.with_output_types(google_extensions_pb2.EventLabel)\n",
    "class LengthOfStayRangeLabelAt24HoursFn(beam.DoFn):\n",
    "  \"\"\"Converts Bundle into length of stay range at 24 hours label.\n",
    "\n",
    "    Cohort: inpatient encounter that is longer than 24 hours\n",
    "    Trigger point: 24 hours after admission\n",
    "    Label: multi-label for length of stay ranges, see label.py for detail\n",
    "  \"\"\"\n",
    "\n",
    "  def process(self, bundle):\n",
    "    \"\"\"Iterate through bundle and yield label.\n",
    "\n",
    "    Args:\n",
    "      bundle: input stu3.Bundle proto\n",
    "    Yields:\n",
    "      stu3.EventLabel proto.\n",
    "    \"\"\"\n",
    "    patient = encounter.GetPatient(bundle)\n",
    "    if patient is not None:\n",
    "      # Cohort: inpatient encounter > 24 hours.\n",
    "      for enc in encounter.Inpatient24HrEncounters(bundle):\n",
    "        for one_label in label.LengthOfStayRangeAt24Hours(patient, enc):\n",
    "          yield one_label\n",
    "\n"
   ]
  },
  {
   "cell_type": "markdown",
   "metadata": {},
   "source": [
    "## Initialize pipeline variables"
   ]
  },
  {
   "cell_type": "code",
   "execution_count": 13,
   "metadata": {},
   "outputs": [],
   "source": [
    "from apache_beam.options.pipeline_options import GoogleCloudOptions\n",
    "from apache_beam.options.pipeline_options import StandardOptions\n",
    "from apache_beam.options.pipeline_options import SetupOptions\n",
    "from apache_beam.options.pipeline_options import PipelineOptions\n",
    "\n",
    "from apache_beam.io import ReadFromText\n",
    "from apache_beam.io import WriteToText\n",
    "from apache_beam.metrics import Metrics\n",
    "from apache_beam.metrics.metric import MetricsFilter\n",
    "\n",
    "import apache_beam as beam\n",
    "import re\n",
    "\n",
    "options = PipelineOptions()\n",
    "google_cloud_options = options.view_as(GoogleCloudOptions)\n",
    "google_cloud_options.project = 'de-test-224618'\n",
    "google_cloud_options.job_name = 'job1'\n",
    "google_cloud_options.staging_location = 'gs://healthedatalab/staging'\n",
    "google_cloud_options.temp_location = 'gs://healthedatalab/temp'\n",
    "options.view_as(StandardOptions).runner = 'DirectRunner'\n"
   ]
  },
  {
   "cell_type": "markdown",
   "metadata": {},
   "source": [
    "## Initalize the beam job"
   ]
  },
  {
   "cell_type": "code",
   "execution_count": 17,
   "metadata": {},
   "outputs": [
    {
     "name": "stderr",
     "output_type": "stream",
     "text": [
      "I1222 05:29:09.472229 140090207852288 client.py:614] Attempting refresh to obtain initial access_token\n",
      "I1222 05:29:09.540534 140090207852288 client.py:614] Attempting refresh to obtain initial access_token\n"
     ]
    }
   ],
   "source": [
    "\n",
    "import logging\n",
    "logger = logging.getLogger()\n",
    "logger.setLevel(logging.INFO)\n",
    "p = beam.Pipeline(options=options)\n",
    "\n",
    "bundles = p | 'read' >> beam.io.ReadFromTFRecord(\n",
    "    'gs://healthedatalab/bundle/test_bundle.tfrecord-00000-of-00001', coder=beam.coders.ProtoCoder(resources_pb2.Bundle))\n",
    "    \n",
    "labels = bundles | 'BundleToLabel' >> beam.ParDo(\n",
    "    LengthOfStayRangeLabelAt24HoursFn())\n",
    "_ = labels | beam.io.WriteToTFRecord(\n",
    "    'gs://healthedatalab/labeldata/test-label',\n",
    "    coder=beam.coders.ProtoCoder(google_extensions_pb2.EventLabel))\n",
    "\n"
   ]
  },
  {
   "cell_type": "markdown",
   "metadata": {},
   "source": [
    "## Run the transform"
   ]
  },
  {
   "cell_type": "code",
   "execution_count": 18,
   "metadata": {},
   "outputs": [
    {
     "name": "stderr",
     "output_type": "stream",
     "text": [
      "I1222 05:29:11.323322 140090207852288 fn_api_runner.py:844] ==================== <function annotate_downstream_side_inputs at 0x7f6910c230c8> ====================\n",
      "I1222 05:29:11.325918 140090207852288 fn_api_runner.py:844] ==================== <function fix_side_input_pcoll_coders at 0x7f6910c235f0> ====================\n",
      "I1222 05:29:11.330625 140090207852288 fn_api_runner.py:844] ==================== <function lift_combiners at 0x7f6910d326e0> ====================\n",
      "I1222 05:29:11.333612 140090207852288 fn_api_runner.py:844] ==================== <function expand_gbk at 0x7f6910c231b8> ====================\n",
      "I1222 05:29:11.336987 140090207852288 fn_api_runner.py:844] ==================== <function sink_flattens at 0x7f6910c23488> ====================\n",
      "I1222 05:29:11.338712 140090207852288 fn_api_runner.py:844] ==================== <function greedily_fuse at 0x7f6910c286e0> ====================\n",
      "I1222 05:29:11.365444 140090207852288 fn_api_runner.py:844] ==================== <function sort_stages at 0x7f6910c280c8> ====================\n",
      "I1222 05:29:11.368493 140090207852288 fn_api_runner.py:912] Running ((ref_AppliedPTransform_WriteToTFRecord/Write/WriteImpl/DoOnce/Read_9)+((ref_AppliedPTransform_WriteToTFRecord/Write/WriteImpl/InitializeWrite_10)+(ref_PCollection_PCollection_4/Write)))+(ref_PCollection_PCollection_3/Write)\n",
      "I1222 05:29:11.377844 140090207852288 bundle_processor.py:291] start <DataOutputOperation ref_PCollection_PCollection_4/Write >\n",
      "I1222 05:29:11.379923 140090207852288 bundle_processor.py:291] start <DataOutputOperation ref_PCollection_PCollection_3/Write >\n",
      "I1222 05:29:11.381635 140090207852288 bundle_processor.py:291] start <DoOperation WriteToTFRecord/Write/WriteImpl/InitializeWrite output_tags=['out']>\n",
      "I1222 05:29:11.384872 140090207852288 bundle_processor.py:291] start <ReadOperation WriteToTFRecord/Write/WriteImpl/DoOnce/Read source=SourceBundle(weight=1.0, source=<apache_beam.transforms.create_source._CreateSource object at 0x7f6910cb6210>, start_position=None, stop_position=None)>\n",
      "I1222 05:29:11.387516 140090207852288 bundle_processor.py:303] finish <ReadOperation WriteToTFRecord/Write/WriteImpl/DoOnce/Read source=SourceBundle(weight=1.0, source=<apache_beam.transforms.create_source._CreateSource object at 0x7f6910cb6210>, start_position=None, stop_position=None), receivers=[ConsumerSet[WriteToTFRecord/Write/WriteImpl/DoOnce/Read.out0, coder=WindowedValueCoder[FastPrimitivesCoder], len(consumers)=2]]>\n",
      "I1222 05:29:11.389061 140090207852288 bundle_processor.py:303] finish <DoOperation WriteToTFRecord/Write/WriteImpl/InitializeWrite output_tags=['out'], receivers=[ConsumerSet[WriteToTFRecord/Write/WriteImpl/InitializeWrite.out0, coder=WindowedValueCoder[LengthPrefixCoder[FastPrimitivesCoder]], len(consumers)=1]]>\n",
      "I1222 05:29:11.391557 140090207852288 bundle_processor.py:303] finish <DataOutputOperation ref_PCollection_PCollection_3/Write >\n",
      "I1222 05:29:11.393551 140090207852288 bundle_processor.py:303] finish <DataOutputOperation ref_PCollection_PCollection_4/Write >\n",
      "I1222 05:29:11.400341 140090207852288 fn_api_runner.py:912] Running (ref_AppliedPTransform_read/Read_3)+((ref_AppliedPTransform_BundleToLabel_4)+((ref_AppliedPTransform_WriteToTFRecord/Write/WriteImpl/WriteBundles_11)+((ref_AppliedPTransform_WriteToTFRecord/Write/WriteImpl/Pair_12)+((ref_AppliedPTransform_WriteToTFRecord/Write/WriteImpl/WindowInto(WindowIntoFn)_13)+(WriteToTFRecord/Write/WriteImpl/GroupByKey/Write)))))\n",
      "I1222 05:29:11.423010 140090207852288 bundle_processor.py:291] start <DataOutputOperation WriteToTFRecord/Write/WriteImpl/GroupByKey/Write >\n",
      "I1222 05:29:11.426074 140090207852288 bundle_processor.py:291] start <DoOperation WriteToTFRecord/Write/WriteImpl/WindowInto(WindowIntoFn) output_tags=['out']>\n",
      "I1222 05:29:11.429272 140090207852288 bundle_processor.py:291] start <DoOperation WriteToTFRecord/Write/WriteImpl/Pair output_tags=['out']>\n",
      "I1222 05:29:11.434686 140090207852288 bundle_processor.py:291] start <DoOperation WriteToTFRecord/Write/WriteImpl/WriteBundles output_tags=['out']>\n",
      "I1222 05:29:11.437378 140090207852288 bundle_processor.py:291] start <DoOperation BundleToLabel output_tags=['out']>\n",
      "I1222 05:29:11.443737 140090207852288 bundle_processor.py:291] start <ReadOperation read/Read source=SourceBundle(weight=1.0, source=<apache_beam.io.tfrecordio._TFRecordSource object at 0x7f6910b70f10>, start_position=None, stop_position=None)>\n",
      "I1222 05:29:11.450465 140090207852288 client.py:614] Attempting refresh to obtain initial access_token\n",
      "I1222 05:29:11.517535 140090207852288 client.py:614] Attempting refresh to obtain initial access_token\n",
      "I1222 05:29:11.586694 140090207852288 client.py:614] Attempting refresh to obtain initial access_token\n",
      "I1222 05:29:11.802298 140090207852288 bundle_processor.py:303] finish <ReadOperation read/Read source=SourceBundle(weight=1.0, source=<apache_beam.io.tfrecordio._TFRecordSource object at 0x7f6910b70f10>, start_position=None, stop_position=None), receivers=[ConsumerSet[read/Read.out0, coder=WindowedValueCoder[FastPrimitivesCoder], len(consumers)=1]]>\n",
      "I1222 05:29:11.806058 140089065723648 client.py:614] Attempting refresh to obtain initial access_token\n",
      "I1222 05:29:11.808933 140090207852288 bundle_processor.py:303] finish <DoOperation BundleToLabel output_tags=['out'], receivers=[ConsumerSet[BundleToLabel.out0, coder=WindowedValueCoder[ProtoCoder], len(consumers)=1]]>\n",
      "I1222 05:29:11.817186 140090207852288 bundle_processor.py:303] finish <DoOperation WriteToTFRecord/Write/WriteImpl/WriteBundles output_tags=['out'], receivers=[ConsumerSet[WriteToTFRecord/Write/WriteImpl/WriteBundles.out0, coder=WindowedValueCoder[FastPrimitivesCoder], len(consumers)=1]]>\n",
      "I1222 05:29:12.292350 140090207852288 bundle_processor.py:303] finish <DoOperation WriteToTFRecord/Write/WriteImpl/Pair output_tags=['out'], receivers=[ConsumerSet[WriteToTFRecord/Write/WriteImpl/Pair.out0, coder=WindowedValueCoder[TupleCoder[FastPrimitivesCoder, FastPrimitivesCoder]], len(consumers)=1]]>\n",
      "I1222 05:29:12.295659 140090207852288 bundle_processor.py:303] finish <DoOperation WriteToTFRecord/Write/WriteImpl/WindowInto(WindowIntoFn) output_tags=['out'], receivers=[ConsumerSet[WriteToTFRecord/Write/WriteImpl/WindowInto(WindowIntoFn).out0, coder=WindowedValueCoder[TupleCoder[LengthPrefixCoder[FastPrimitivesCoder], LengthPrefixCoder[FastPrimitivesCoder]]], len(consumers)=1]]>\n",
      "I1222 05:29:12.298589 140090207852288 bundle_processor.py:303] finish <DataOutputOperation WriteToTFRecord/Write/WriteImpl/GroupByKey/Write >\n",
      "I1222 05:29:12.373481 140090207852288 fn_api_runner.py:912] Running (WriteToTFRecord/Write/WriteImpl/GroupByKey/Read)+((ref_AppliedPTransform_WriteToTFRecord/Write/WriteImpl/Extract_18)+(ref_PCollection_PCollection_11/Write))\n",
      "I1222 05:29:12.382045 140090207852288 bundle_processor.py:291] start <DataOutputOperation ref_PCollection_PCollection_11/Write >\n",
      "I1222 05:29:12.384315 140090207852288 bundle_processor.py:291] start <DoOperation WriteToTFRecord/Write/WriteImpl/Extract output_tags=['out']>\n",
      "I1222 05:29:12.387598 140090207852288 bundle_processor.py:291] start <DataInputOperation WriteToTFRecord/Write/WriteImpl/GroupByKey/Read receivers=[ConsumerSet[WriteToTFRecord/Write/WriteImpl/GroupByKey/Read.out0, coder=WindowedValueCoder[TupleCoder[LengthPrefixCoder[FastPrimitivesCoder], IterableCoder[LengthPrefixCoder[FastPrimitivesCoder]]]], len(consumers)=1]]>\n",
      "I1222 05:29:12.389566 140090207852288 bundle_processor.py:303] finish <DataInputOperation WriteToTFRecord/Write/WriteImpl/GroupByKey/Read receivers=[ConsumerSet[WriteToTFRecord/Write/WriteImpl/GroupByKey/Read.out0, coder=WindowedValueCoder[TupleCoder[LengthPrefixCoder[FastPrimitivesCoder], IterableCoder[LengthPrefixCoder[FastPrimitivesCoder]]]], len(consumers)=1]]>\n",
      "I1222 05:29:12.391190 140090207852288 bundle_processor.py:303] finish <DoOperation WriteToTFRecord/Write/WriteImpl/Extract output_tags=['out'], receivers=[ConsumerSet[WriteToTFRecord/Write/WriteImpl/Extract.out0, coder=WindowedValueCoder[LengthPrefixCoder[FastPrimitivesCoder]], len(consumers)=1]]>\n",
      "I1222 05:29:12.392802 140090207852288 bundle_processor.py:303] finish <DataOutputOperation ref_PCollection_PCollection_11/Write >\n",
      "I1222 05:29:12.399452 140090207852288 fn_api_runner.py:912] Running ((ref_PCollection_PCollection_3/Read)+(ref_AppliedPTransform_WriteToTFRecord/Write/WriteImpl/PreFinalize_19))+(ref_PCollection_PCollection_12/Write)\n"
     ]
    },
    {
     "name": "stderr",
     "output_type": "stream",
     "text": [
      "I1222 05:29:12.412421 140090207852288 bundle_processor.py:291] start <DataOutputOperation ref_PCollection_PCollection_12/Write >\n",
      "I1222 05:29:12.414108 140090207852288 bundle_processor.py:291] start <DoOperation WriteToTFRecord/Write/WriteImpl/PreFinalize output_tags=['out']>\n",
      "I1222 05:29:12.418554 140090207852288 bundle_processor.py:291] start <DataInputOperation ref_PCollection_PCollection_3/Read receivers=[ConsumerSet[ref_PCollection_PCollection_3/Read.out0, coder=WindowedValueCoder[FastPrimitivesCoder], len(consumers)=1]]>\n",
      "I1222 05:29:12.423790 140090207852288 gcsio.py:446] Starting the size estimation of the input\n",
      "I1222 05:29:12.428107 140090207852288 client.py:614] Attempting refresh to obtain initial access_token\n",
      "I1222 05:29:12.507543 140090207852288 gcsio.py:460] Finished listing 0 files in 0.0837459564209 seconds.\n",
      "I1222 05:29:12.509641 140090207852288 bundle_processor.py:303] finish <DataInputOperation ref_PCollection_PCollection_3/Read receivers=[ConsumerSet[ref_PCollection_PCollection_3/Read.out0, coder=WindowedValueCoder[FastPrimitivesCoder], len(consumers)=1]]>\n",
      "I1222 05:29:12.511739 140090207852288 bundle_processor.py:303] finish <DoOperation WriteToTFRecord/Write/WriteImpl/PreFinalize output_tags=['out'], receivers=[ConsumerSet[WriteToTFRecord/Write/WriteImpl/PreFinalize.out0, coder=WindowedValueCoder[LengthPrefixCoder[FastPrimitivesCoder]], len(consumers)=1]]>\n",
      "I1222 05:29:12.513755 140090207852288 bundle_processor.py:303] finish <DataOutputOperation ref_PCollection_PCollection_12/Write >\n",
      "I1222 05:29:12.535463 140090207852288 fn_api_runner.py:912] Running (ref_PCollection_PCollection_3/Read)+(ref_AppliedPTransform_WriteToTFRecord/Write/WriteImpl/FinalizeWrite_20)\n",
      "I1222 05:29:12.548316 140090207852288 bundle_processor.py:291] start <DoOperation WriteToTFRecord/Write/WriteImpl/FinalizeWrite output_tags=['out']>\n",
      "I1222 05:29:12.552392 140090207852288 bundle_processor.py:291] start <DataInputOperation ref_PCollection_PCollection_3/Read receivers=[ConsumerSet[ref_PCollection_PCollection_3/Read.out0, coder=WindowedValueCoder[FastPrimitivesCoder], len(consumers)=1]]>\n",
      "I1222 05:29:12.558423 140090207852288 gcsio.py:446] Starting the size estimation of the input\n",
      "I1222 05:29:12.562144 140090207852288 client.py:614] Attempting refresh to obtain initial access_token\n",
      "I1222 05:29:12.654098 140090207852288 gcsio.py:460] Finished listing 1 files in 0.0956699848175 seconds.\n",
      "I1222 05:29:12.660116 140090207852288 gcsio.py:446] Starting the size estimation of the input\n",
      "I1222 05:29:12.664277 140090207852288 client.py:614] Attempting refresh to obtain initial access_token\n",
      "I1222 05:29:12.745702 140090207852288 gcsio.py:460] Finished listing 0 files in 0.0855810642242 seconds.\n",
      "I1222 05:29:12.747756 140090207852288 filebasedsink.py:290] Starting finalize_write threads with num_shards: 1 (skipped: 0), batches: 1, num_threads: 1\n",
      "I1222 05:29:12.758480 140089065723648 client.py:614] Attempting refresh to obtain initial access_token\n",
      "I1222 05:29:13.136009 140089065723648 client.py:614] Attempting refresh to obtain initial access_token\n",
      "I1222 05:29:13.357543 140090207852288 filebasedsink.py:327] Renamed 1 shards in 0.61 seconds.\n",
      "I1222 05:29:13.366048 140090207852288 client.py:614] Attempting refresh to obtain initial access_token\n",
      "I1222 05:29:13.508915 140090207852288 bundle_processor.py:303] finish <DataInputOperation ref_PCollection_PCollection_3/Read receivers=[ConsumerSet[ref_PCollection_PCollection_3/Read.out0, coder=WindowedValueCoder[FastPrimitivesCoder], len(consumers)=1]]>\n",
      "I1222 05:29:13.511092 140090207852288 bundle_processor.py:303] finish <DoOperation WriteToTFRecord/Write/WriteImpl/FinalizeWrite output_tags=['out'], receivers=[ConsumerSet[WriteToTFRecord/Write/WriteImpl/FinalizeWrite.out0, coder=WindowedValueCoder[FastPrimitivesCoder], len(consumers)=0]]>\n"
     ]
    },
    {
     "data": {
      "text/plain": [
       "'DONE'"
      ]
     },
     "execution_count": 18,
     "metadata": {},
     "output_type": "execute_result"
    }
   ],
   "source": [
    "   p.run().wait_until_finish()"
   ]
  },
  {
   "cell_type": "markdown",
   "metadata": {},
   "source": [
    "YAY!!"
   ]
  }
 ],
 "metadata": {
  "kernelspec": {
   "display_name": "Python 2",
   "language": "python",
   "name": "python2"
  },
  "language_info": {
   "codemirror_mode": {
    "name": "ipython",
    "version": 2
   },
   "file_extension": ".py",
   "mimetype": "text/x-python",
   "name": "python",
   "nbconvert_exporter": "python",
   "pygments_lexer": "ipython2",
   "version": "2.7.15"
  }
 },
 "nbformat": 4,
 "nbformat_minor": 2
}
