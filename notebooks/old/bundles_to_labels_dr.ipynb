{
 "cells": [
  {
   "cell_type": "code",
   "execution_count": 2,
   "metadata": {},
   "outputs": [],
   "source": [
    "from absl import app\n",
    "from absl import flags\n",
    "import apache_beam as beam\n",
    "from proto.stu3 import google_extensions_pb2\n",
    "from proto.stu3 import resources_pb2\n",
    "from py.google.fhir.labels import encounter\n",
    "from py.google.fhir.labels import label\n"
   ]
  },
  {
   "cell_type": "code",
   "execution_count": 19,
   "metadata": {},
   "outputs": [],
   "source": [
    "input_path = 'gs://healthedatalab/synthea/bundles/bundles*'\n",
    "output_path = 'gs://healthedatalab/synthea/labels/label'"
   ]
  },
  {
   "cell_type": "code",
   "execution_count": 20,
   "metadata": {},
   "outputs": [],
   "source": [
    "@beam.typehints.with_input_types(resources_pb2.Bundle)\n",
    "@beam.typehints.with_output_types(google_extensions_pb2.EventLabel)\n",
    "class LengthOfStayRangeLabelAt24HoursFn(beam.DoFn):\n",
    "  \"\"\"Converts Bundle into length of stay range at 24 hours label.\n",
    "    Cohort: inpatient encounter that is longer than 24 hours\n",
    "    Trigger point: 24 hours after admission\n",
    "    Label: multi-label for length of stay ranges, see label.py for detail\n",
    "  \"\"\"\n",
    "\n",
    "  def __init__(self, for_synthea=False):\n",
    "    self._for_synthea = for_synthea\n",
    "\n",
    "  def process(self, bundle):\n",
    "    \"\"\"Iterate through bundle and yield label.\n",
    "    Args:\n",
    "      bundle: input stu3.Bundle proto\n",
    "    Yields:\n",
    "      stu3.EventLabel proto.\n",
    "    \"\"\"\n",
    "    patient = encounter.GetPatient(bundle)\n",
    "    if patient is not None:\n",
    "      # Cohort: inpatient encounter > 24 hours.\n",
    "      for enc in encounter.Inpatient24HrEncounters(bundle, self._for_synthea):\n",
    "        for one_label in label.LengthOfStayRangeAt24Hours(patient, enc):\n",
    "          yield one_label\n",
    "\n"
   ]
  },
  {
   "cell_type": "markdown",
   "metadata": {},
   "source": [
    "## Initialize pipeline variables"
   ]
  },
  {
   "cell_type": "code",
   "execution_count": 21,
   "metadata": {},
   "outputs": [],
   "source": [
    "from apache_beam.options.pipeline_options import GoogleCloudOptions\n",
    "from apache_beam.options.pipeline_options import StandardOptions\n",
    "from apache_beam.options.pipeline_options import SetupOptions\n",
    "from apache_beam.options.pipeline_options import PipelineOptions\n",
    "\n",
    "from apache_beam.io import ReadFromText\n",
    "from apache_beam.io import WriteToText\n",
    "from apache_beam.metrics import Metrics\n",
    "from apache_beam.metrics.metric import MetricsFilter\n",
    "\n",
    "import apache_beam as beam\n",
    "import re\n",
    "\n",
    "options = PipelineOptions()\n",
    "google_cloud_options = options.view_as(GoogleCloudOptions)\n",
    "google_cloud_options.project = 'de-test-224618'\n",
    "google_cloud_options.job_name = 'job1'\n",
    "google_cloud_options.staging_location = 'gs://healthedatalab/staging'\n",
    "google_cloud_options.temp_location = 'gs://healthedatalab/temp'\n",
    "options.view_as(StandardOptions).runner = 'DirectRunner'"
   ]
  },
  {
   "cell_type": "markdown",
   "metadata": {},
   "source": [
    "## Initalize the beam job"
   ]
  },
  {
   "cell_type": "code",
   "execution_count": 22,
   "metadata": {},
   "outputs": [
    {
     "name": "stderr",
     "output_type": "stream",
     "text": [
      "I0111 21:06:45.081870 140056621651712 gcsio.py:446] Starting the size estimation of the input\n",
      "I0111 21:06:45.084059 140056621651712 client.py:614] Attempting refresh to obtain initial access_token\n",
      "I0111 21:06:45.201682 140056621651712 gcsio.py:460] Finished listing 10 files in 0.119797945023 seconds.\n"
     ]
    }
   ],
   "source": [
    "import logging\n",
    "logger = logging.getLogger()\n",
    "logger.setLevel(logging.INFO)\n",
    "p = beam.Pipeline(options=options)\n",
    "\n",
    "bundles = p | 'read' >> beam.io.ReadFromTFRecord(\n",
    "    input_path, coder=beam.coders.ProtoCoder(resources_pb2.Bundle))\n",
    "    \n",
    "labels = bundles | 'BundleToLabel' >> beam.ParDo(\n",
    "    LengthOfStayRangeLabelAt24HoursFn(for_synthea=True))\n",
    "_ = labels | beam.io.WriteToTFRecord(\n",
    "    output_path,\n",
    "    coder=beam.coders.ProtoCoder(google_extensions_pb2.EventLabel),\n",
    "    file_name_suffix='.tfrecords')"
   ]
  },
  {
   "cell_type": "markdown",
   "metadata": {},
   "source": [
    "## Run the transform"
   ]
  },
  {
   "cell_type": "code",
   "execution_count": 23,
   "metadata": {},
   "outputs": [
    {
     "name": "stderr",
     "output_type": "stream",
     "text": [
      "I0111 21:06:50.939930 140056621651712 fn_api_runner.py:844] ==================== <function annotate_downstream_side_inputs at 0x7f6132575a28> ====================\n",
      "I0111 21:06:50.945723 140056621651712 fn_api_runner.py:844] ==================== <function fix_side_input_pcoll_coders at 0x7f6132575e60> ====================\n",
      "I0111 21:06:50.949475 140056621651712 fn_api_runner.py:844] ==================== <function lift_combiners at 0x7f6132575cf8> ====================\n",
      "I0111 21:06:50.951680 140056621651712 fn_api_runner.py:844] ==================== <function expand_gbk at 0x7f6132575f50> ====================\n",
      "I0111 21:06:50.955533 140056621651712 fn_api_runner.py:844] ==================== <function sink_flattens at 0x7f6132575de8> ====================\n",
      "I0111 21:06:50.957216 140056621651712 fn_api_runner.py:844] ==================== <function greedily_fuse at 0x7f6132575ed8> ====================\n",
      "I0111 21:06:50.960843 140056621651712 fn_api_runner.py:844] ==================== <function sort_stages at 0x7f61325758c0> ====================\n",
      "I0111 21:06:50.963116 140056621651712 fn_api_runner.py:912] Running ((ref_AppliedPTransform_WriteToTFRecord/Write/WriteImpl/DoOnce/Read_9)+((ref_AppliedPTransform_WriteToTFRecord/Write/WriteImpl/InitializeWrite_10)+(ref_PCollection_PCollection_4/Write)))+(ref_PCollection_PCollection_3/Write)\n",
      "I0111 21:06:50.970968 140056621651712 bundle_processor.py:291] start <DataOutputOperation ref_PCollection_PCollection_4/Write >\n",
      "I0111 21:06:50.973063 140056621651712 bundle_processor.py:291] start <DataOutputOperation ref_PCollection_PCollection_3/Write >\n",
      "I0111 21:06:50.975696 140056621651712 bundle_processor.py:291] start <DoOperation WriteToTFRecord/Write/WriteImpl/InitializeWrite output_tags=['out']>\n",
      "I0111 21:06:50.980231 140056621651712 bundle_processor.py:291] start <ReadOperation WriteToTFRecord/Write/WriteImpl/DoOnce/Read source=SourceBundle(weight=1.0, source=<apache_beam.transforms.create_source._CreateSource object at 0x7f6132fd7090>, start_position=None, stop_position=None)>\n",
      "I0111 21:06:50.982897 140056621651712 bundle_processor.py:303] finish <ReadOperation WriteToTFRecord/Write/WriteImpl/DoOnce/Read source=SourceBundle(weight=1.0, source=<apache_beam.transforms.create_source._CreateSource object at 0x7f6132fd7090>, start_position=None, stop_position=None), receivers=[ConsumerSet[WriteToTFRecord/Write/WriteImpl/DoOnce/Read.out0, coder=WindowedValueCoder[FastPrimitivesCoder], len(consumers)=2]]>\n",
      "I0111 21:06:50.985439 140056621651712 bundle_processor.py:303] finish <DoOperation WriteToTFRecord/Write/WriteImpl/InitializeWrite output_tags=['out'], receivers=[ConsumerSet[WriteToTFRecord/Write/WriteImpl/InitializeWrite.out0, coder=WindowedValueCoder[LengthPrefixCoder[FastPrimitivesCoder]], len(consumers)=1]]>\n",
      "I0111 21:06:50.988307 140056621651712 bundle_processor.py:303] finish <DataOutputOperation ref_PCollection_PCollection_3/Write >\n",
      "I0111 21:06:50.990339 140056621651712 bundle_processor.py:303] finish <DataOutputOperation ref_PCollection_PCollection_4/Write >\n",
      "I0111 21:06:50.999672 140056621651712 fn_api_runner.py:912] Running (ref_AppliedPTransform_read/Read_3)+((ref_AppliedPTransform_BundleToLabel_4)+((ref_AppliedPTransform_WriteToTFRecord/Write/WriteImpl/WriteBundles_11)+((ref_AppliedPTransform_WriteToTFRecord/Write/WriteImpl/Pair_12)+((ref_AppliedPTransform_WriteToTFRecord/Write/WriteImpl/WindowInto(WindowIntoFn)_13)+(WriteToTFRecord/Write/WriteImpl/GroupByKey/Write)))))\n",
      "I0111 21:06:51.025917 140056621651712 bundle_processor.py:291] start <DataOutputOperation WriteToTFRecord/Write/WriteImpl/GroupByKey/Write >\n",
      "I0111 21:06:51.028290 140056621651712 bundle_processor.py:291] start <DoOperation WriteToTFRecord/Write/WriteImpl/WindowInto(WindowIntoFn) output_tags=['out']>\n",
      "I0111 21:06:51.033847 140056621651712 bundle_processor.py:291] start <DoOperation WriteToTFRecord/Write/WriteImpl/Pair output_tags=['out']>\n",
      "I0111 21:06:51.037307 140056621651712 bundle_processor.py:291] start <DoOperation WriteToTFRecord/Write/WriteImpl/WriteBundles output_tags=['out']>\n",
      "I0111 21:06:51.041066 140056621651712 bundle_processor.py:291] start <DoOperation BundleToLabel output_tags=['out']>\n",
      "I0111 21:06:51.044724 140056621651712 bundle_processor.py:291] start <ReadOperation read/Read source=SourceBundle(weight=1.0, source=<apache_beam.io.tfrecordio._TFRecordSource object at 0x7f61407fecd0>, start_position=None, stop_position=None)>\n",
      "I0111 21:06:51.050219 140056621651712 gcsio.py:446] Starting the size estimation of the input\n",
      "I0111 21:06:51.053788 140056621651712 client.py:614] Attempting refresh to obtain initial access_token\n",
      "I0111 21:06:51.133450 140056621651712 gcsio.py:460] Finished listing 10 files in 0.0832278728485 seconds.\n",
      "I0111 21:06:51.139895 140056621651712 client.py:614] Attempting refresh to obtain initial access_token\n",
      "I0111 21:06:51.615611 140055567910656 client.py:614] Attempting refresh to obtain initial access_token\n",
      "I0111 21:06:53.676342 140056621651712 client.py:614] Attempting refresh to obtain initial access_token\n",
      "I0111 21:06:56.544994 140056621651712 client.py:614] Attempting refresh to obtain initial access_token\n",
      "I0111 21:06:58.825490 140056621651712 client.py:614] Attempting refresh to obtain initial access_token\n",
      "I0111 21:07:01.073999 140056621651712 client.py:614] Attempting refresh to obtain initial access_token\n",
      "I0111 21:07:03.448756 140056621651712 client.py:614] Attempting refresh to obtain initial access_token\n",
      "I0111 21:07:05.769381 140056621651712 client.py:614] Attempting refresh to obtain initial access_token\n",
      "I0111 21:07:08.859553 140056621651712 client.py:614] Attempting refresh to obtain initial access_token\n",
      "I0111 21:07:11.847933 140056621651712 client.py:614] Attempting refresh to obtain initial access_token\n",
      "I0111 21:07:14.261909 140056621651712 client.py:614] Attempting refresh to obtain initial access_token\n",
      "I0111 21:07:16.812366 140056621651712 bundle_processor.py:303] finish <ReadOperation read/Read source=SourceBundle(weight=1.0, source=<apache_beam.io.tfrecordio._TFRecordSource object at 0x7f61407fecd0>, start_position=None, stop_position=None), receivers=[ConsumerSet[read/Read.out0, coder=WindowedValueCoder[FastPrimitivesCoder], len(consumers)=1]]>\n",
      "I0111 21:07:16.815289 140056621651712 bundle_processor.py:303] finish <DoOperation BundleToLabel output_tags=['out'], receivers=[ConsumerSet[BundleToLabel.out0, coder=WindowedValueCoder[ProtoCoder], len(consumers)=1]]>\n",
      "I0111 21:07:16.817027 140056621651712 bundle_processor.py:303] finish <DoOperation WriteToTFRecord/Write/WriteImpl/WriteBundles output_tags=['out'], receivers=[ConsumerSet[WriteToTFRecord/Write/WriteImpl/WriteBundles.out0, coder=WindowedValueCoder[FastPrimitivesCoder], len(consumers)=1]]>\n",
      "I0111 21:07:17.034214 140056621651712 bundle_processor.py:303] finish <DoOperation WriteToTFRecord/Write/WriteImpl/Pair output_tags=['out'], receivers=[ConsumerSet[WriteToTFRecord/Write/WriteImpl/Pair.out0, coder=WindowedValueCoder[TupleCoder[FastPrimitivesCoder, FastPrimitivesCoder]], len(consumers)=1]]>\n",
      "I0111 21:07:17.037403 140056621651712 bundle_processor.py:303] finish <DoOperation WriteToTFRecord/Write/WriteImpl/WindowInto(WindowIntoFn) output_tags=['out'], receivers=[ConsumerSet[WriteToTFRecord/Write/WriteImpl/WindowInto(WindowIntoFn).out0, coder=WindowedValueCoder[TupleCoder[LengthPrefixCoder[FastPrimitivesCoder], LengthPrefixCoder[FastPrimitivesCoder]]], len(consumers)=1]]>\n",
      "I0111 21:07:17.039902 140056621651712 bundle_processor.py:303] finish <DataOutputOperation WriteToTFRecord/Write/WriteImpl/GroupByKey/Write >\n",
      "I0111 21:07:17.182575 140056621651712 fn_api_runner.py:912] Running (WriteToTFRecord/Write/WriteImpl/GroupByKey/Read)+((ref_AppliedPTransform_WriteToTFRecord/Write/WriteImpl/Extract_18)+(ref_PCollection_PCollection_11/Write))\n",
      "I0111 21:07:17.190861 140056621651712 bundle_processor.py:291] start <DataOutputOperation ref_PCollection_PCollection_11/Write >\n",
      "I0111 21:07:17.192446 140056621651712 bundle_processor.py:291] start <DoOperation WriteToTFRecord/Write/WriteImpl/Extract output_tags=['out']>\n",
      "I0111 21:07:17.196233 140056621651712 bundle_processor.py:291] start <DataInputOperation WriteToTFRecord/Write/WriteImpl/GroupByKey/Read receivers=[ConsumerSet[WriteToTFRecord/Write/WriteImpl/GroupByKey/Read.out0, coder=WindowedValueCoder[TupleCoder[LengthPrefixCoder[FastPrimitivesCoder], IterableCoder[LengthPrefixCoder[FastPrimitivesCoder]]]], len(consumers)=1]]>\n"
     ]
    },
    {
     "name": "stderr",
     "output_type": "stream",
     "text": [
      "I0111 21:07:17.198107 140056621651712 bundle_processor.py:303] finish <DataInputOperation WriteToTFRecord/Write/WriteImpl/GroupByKey/Read receivers=[ConsumerSet[WriteToTFRecord/Write/WriteImpl/GroupByKey/Read.out0, coder=WindowedValueCoder[TupleCoder[LengthPrefixCoder[FastPrimitivesCoder], IterableCoder[LengthPrefixCoder[FastPrimitivesCoder]]]], len(consumers)=1]]>\n",
      "I0111 21:07:17.199670 140056621651712 bundle_processor.py:303] finish <DoOperation WriteToTFRecord/Write/WriteImpl/Extract output_tags=['out'], receivers=[ConsumerSet[WriteToTFRecord/Write/WriteImpl/Extract.out0, coder=WindowedValueCoder[LengthPrefixCoder[FastPrimitivesCoder]], len(consumers)=1]]>\n",
      "I0111 21:07:17.201383 140056621651712 bundle_processor.py:303] finish <DataOutputOperation ref_PCollection_PCollection_11/Write >\n",
      "I0111 21:07:17.207993 140056621651712 fn_api_runner.py:912] Running ((ref_PCollection_PCollection_3/Read)+(ref_AppliedPTransform_WriteToTFRecord/Write/WriteImpl/PreFinalize_19))+(ref_PCollection_PCollection_12/Write)\n",
      "I0111 21:07:17.219324 140056621651712 bundle_processor.py:291] start <DataOutputOperation ref_PCollection_PCollection_12/Write >\n",
      "I0111 21:07:17.222177 140056621651712 bundle_processor.py:291] start <DoOperation WriteToTFRecord/Write/WriteImpl/PreFinalize output_tags=['out']>\n",
      "I0111 21:07:17.226763 140056621651712 bundle_processor.py:291] start <DataInputOperation ref_PCollection_PCollection_3/Read receivers=[ConsumerSet[ref_PCollection_PCollection_3/Read.out0, coder=WindowedValueCoder[FastPrimitivesCoder], len(consumers)=1]]>\n",
      "I0111 21:07:17.233957 140056621651712 gcsio.py:446] Starting the size estimation of the input\n",
      "I0111 21:07:17.236951 140056621651712 client.py:614] Attempting refresh to obtain initial access_token\n",
      "I0111 21:07:17.328564 140056621651712 gcsio.py:460] Finished listing 0 files in 0.0946028232574 seconds.\n",
      "I0111 21:07:17.330301 140056621651712 bundle_processor.py:303] finish <DataInputOperation ref_PCollection_PCollection_3/Read receivers=[ConsumerSet[ref_PCollection_PCollection_3/Read.out0, coder=WindowedValueCoder[FastPrimitivesCoder], len(consumers)=1]]>\n",
      "I0111 21:07:17.332776 140056621651712 bundle_processor.py:303] finish <DoOperation WriteToTFRecord/Write/WriteImpl/PreFinalize output_tags=['out'], receivers=[ConsumerSet[WriteToTFRecord/Write/WriteImpl/PreFinalize.out0, coder=WindowedValueCoder[LengthPrefixCoder[FastPrimitivesCoder]], len(consumers)=1]]>\n",
      "I0111 21:07:17.334517 140056621651712 bundle_processor.py:303] finish <DataOutputOperation ref_PCollection_PCollection_12/Write >\n",
      "I0111 21:07:17.340898 140056621651712 fn_api_runner.py:912] Running (ref_PCollection_PCollection_3/Read)+(ref_AppliedPTransform_WriteToTFRecord/Write/WriteImpl/FinalizeWrite_20)\n",
      "I0111 21:07:17.349747 140056621651712 bundle_processor.py:291] start <DoOperation WriteToTFRecord/Write/WriteImpl/FinalizeWrite output_tags=['out']>\n",
      "I0111 21:07:17.352906 140056621651712 bundle_processor.py:291] start <DataInputOperation ref_PCollection_PCollection_3/Read receivers=[ConsumerSet[ref_PCollection_PCollection_3/Read.out0, coder=WindowedValueCoder[FastPrimitivesCoder], len(consumers)=1]]>\n",
      "I0111 21:07:17.359340 140056621651712 gcsio.py:446] Starting the size estimation of the input\n",
      "I0111 21:07:17.362720 140056621651712 client.py:614] Attempting refresh to obtain initial access_token\n",
      "I0111 21:07:17.446259 140056621651712 gcsio.py:460] Finished listing 1 files in 0.0869078636169 seconds.\n",
      "I0111 21:07:17.455851 140056621651712 gcsio.py:446] Starting the size estimation of the input\n",
      "I0111 21:07:17.459125 140056621651712 client.py:614] Attempting refresh to obtain initial access_token\n",
      "I0111 21:07:17.552747 140056621651712 gcsio.py:460] Finished listing 0 files in 0.0968480110168 seconds.\n",
      "I0111 21:07:17.555993 140056621651712 filebasedsink.py:290] Starting finalize_write threads with num_shards: 1 (skipped: 0), batches: 1, num_threads: 1\n",
      "I0111 21:07:17.564840 140055567910656 client.py:614] Attempting refresh to obtain initial access_token\n",
      "I0111 21:07:18.006958 140055567910656 client.py:614] Attempting refresh to obtain initial access_token\n",
      "I0111 21:07:18.296812 140056621651712 filebasedsink.py:327] Renamed 1 shards in 0.74 seconds.\n",
      "I0111 21:07:18.305358 140056621651712 client.py:614] Attempting refresh to obtain initial access_token\n",
      "I0111 21:07:18.383266 140056621651712 bundle_processor.py:303] finish <DataInputOperation ref_PCollection_PCollection_3/Read receivers=[ConsumerSet[ref_PCollection_PCollection_3/Read.out0, coder=WindowedValueCoder[FastPrimitivesCoder], len(consumers)=1]]>\n",
      "I0111 21:07:18.386046 140056621651712 bundle_processor.py:303] finish <DoOperation WriteToTFRecord/Write/WriteImpl/FinalizeWrite output_tags=['out'], receivers=[ConsumerSet[WriteToTFRecord/Write/WriteImpl/FinalizeWrite.out0, coder=WindowedValueCoder[FastPrimitivesCoder], len(consumers)=0]]>\n"
     ]
    },
    {
     "data": {
      "text/plain": [
       "'DONE'"
      ]
     },
     "execution_count": 23,
     "metadata": {},
     "output_type": "execute_result"
    }
   ],
   "source": [
    "   p.run().wait_until_finish()"
   ]
  },
  {
   "cell_type": "markdown",
   "metadata": {},
   "source": [
    "YAY!!"
   ]
  }
 ],
 "metadata": {
  "kernelspec": {
   "display_name": "Python 2",
   "language": "python",
   "name": "python2"
  },
  "language_info": {
   "codemirror_mode": {
    "name": "ipython",
    "version": 2
   },
   "file_extension": ".py",
   "mimetype": "text/x-python",
   "name": "python",
   "nbconvert_exporter": "python",
   "pygments_lexer": "ipython2",
   "version": "2.7.15"
  }
 },
 "nbformat": 4,
 "nbformat_minor": 2
}
