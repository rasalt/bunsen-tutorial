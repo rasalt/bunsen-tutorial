{
 "cells": [
  {
   "cell_type": "markdown",
   "metadata": {},
   "source": [
    "## Initialize python code variables"
   ]
  },
  {
   "cell_type": "code",
   "execution_count": 17,
   "metadata": {},
   "outputs": [],
   "source": [
    "from absl import app\n",
    "from absl import flags\n",
    "import apache_beam as beam\n",
    "from proto.stu3 import google_extensions_pb2\n",
    "from proto.stu3 import resources_pb2\n",
    "from py.google.fhir.labels import encounter\n",
    "from py.google.fhir.labels import label\n"
   ]
  },
  {
   "cell_type": "markdown",
   "metadata": {},
   "source": [
    "## Initialize input and output gcs buckets"
   ]
  },
  {
   "cell_type": "code",
   "execution_count": 20,
   "metadata": {},
   "outputs": [],
   "source": [
    "input_path = 'gs://hdlcluster3/synthea/bundles/bundles*'\n",
    "output_path = 'gs://hdlcluster3/synthea/labels/label'"
   ]
  },
  {
   "cell_type": "code",
   "execution_count": 19,
   "metadata": {},
   "outputs": [
    {
     "name": "stderr",
     "output_type": "stream",
     "text": [
      "Removing gs://hdlcluster3/synthea/labels/label-00000-of-00001.tfrecords...\n",
      "/ [1 objects]                                                                   \r\n",
      "Operation completed over 1 objects.                                              \n",
      "CommandException: One or more URLs matched no objects.\n"
     ]
    }
   ],
   "source": [
    "%%bash\n",
    "#Ensure the output bucket is empty \n",
    "gsutil rm gs://hdlcluster3/synthea/labels/*\n",
    "#List the contents of the output bucket\n",
    "gsutil ls gs://hdlcluster3/synthea/labels"
   ]
  },
  {
   "cell_type": "markdown",
   "metadata": {},
   "source": [
    "## helper function"
   ]
  },
  {
   "cell_type": "code",
   "execution_count": 21,
   "metadata": {},
   "outputs": [],
   "source": [
    "@beam.typehints.with_input_types(resources_pb2.Bundle)\n",
    "@beam.typehints.with_output_types(google_extensions_pb2.EventLabel)\n",
    "class LengthOfStayRangeLabelAt24HoursFn(beam.DoFn):\n",
    "  \"\"\"Converts Bundle into length of stay range at 24 hours label.\n",
    "    Cohort: inpatient encounter that is longer than 24 hours\n",
    "    Trigger point: 24 hours after admission\n",
    "    Label: multi-label for length of stay ranges, see label.py for detail\n",
    "  \"\"\"\n",
    "\n",
    "  def __init__(self, for_synthea=False):\n",
    "    self._for_synthea = for_synthea\n",
    "\n",
    "  def process(self, bundle):\n",
    "    \"\"\"Iterate through bundle and yield label.\n",
    "    Args:\n",
    "      bundle: input stu3.Bundle proto\n",
    "    Yields:\n",
    "      stu3.EventLabel proto.\n",
    "    \"\"\"\n",
    "    patient = encounter.GetPatient(bundle)\n",
    "    if patient is not None:\n",
    "      # Cohort: inpatient encounter > 24 hours.\n",
    "      for enc in encounter.Inpatient24HrEncounters(bundle, self._for_synthea):\n",
    "        for one_label in label.LengthOfStayRangeAt24Hours(patient, enc):\n",
    "          yield one_label\n",
    "\n"
   ]
  },
  {
   "cell_type": "markdown",
   "metadata": {},
   "source": [
    "## Initialize pipeline variables"
   ]
  },
  {
   "cell_type": "code",
   "execution_count": 22,
   "metadata": {},
   "outputs": [],
   "source": [
    "from apache_beam.options.pipeline_options import GoogleCloudOptions\n",
    "from apache_beam.options.pipeline_options import StandardOptions\n",
    "from apache_beam.options.pipeline_options import SetupOptions\n",
    "from apache_beam.options.pipeline_options import PipelineOptions\n",
    "\n",
    "from apache_beam.io import ReadFromText\n",
    "from apache_beam.io import WriteToText\n",
    "from apache_beam.metrics import Metrics\n",
    "from apache_beam.metrics.metric import MetricsFilter\n",
    "\n",
    "import apache_beam as beam\n",
    "import re\n",
    "\n",
    "options = PipelineOptions()\n",
    "google_cloud_options = options.view_as(GoogleCloudOptions)\n",
    "google_cloud_options.project = 'dp-workspace'\n",
    "google_cloud_options.job_name = 'job1'\n",
    "google_cloud_options.staging_location = 'gs://hdlcluster3/staging'\n",
    "google_cloud_options.temp_location = 'gs://hdlcluster3/temp'\n",
    "options.view_as(StandardOptions).runner = 'DirectRunner'"
   ]
  },
  {
   "cell_type": "markdown",
   "metadata": {},
   "source": [
    "## Initalize the beam job"
   ]
  },
  {
   "cell_type": "code",
   "execution_count": 23,
   "metadata": {},
   "outputs": [
    {
     "name": "stderr",
     "output_type": "stream",
     "text": [
      "I0125 14:07:26.789550 140097622570752 gcsio.py:446] Starting the size estimation of the input\n",
      "I0125 14:07:26.792119 140097622570752 client.py:614] Attempting refresh to obtain initial access_token\n",
      "I0125 14:07:26.897506 140097622570752 gcsio.py:460] Finished listing 9 files in 0.107965946198 seconds.\n"
     ]
    }
   ],
   "source": [
    "import logging\n",
    "logger = logging.getLogger()\n",
    "logger.setLevel(logging.INFO)\n",
    "p = beam.Pipeline(options=options)\n",
    "\n",
    "bundles = p | 'read' >> beam.io.ReadFromTFRecord(\n",
    "    input_path, coder=beam.coders.ProtoCoder(resources_pb2.Bundle))\n",
    "    \n",
    "labels = bundles | 'BundleToLabel' >> beam.ParDo(\n",
    "    LengthOfStayRangeLabelAt24HoursFn(for_synthea=True))\n",
    "_ = labels | beam.io.WriteToTFRecord(\n",
    "    output_path,\n",
    "    coder=beam.coders.ProtoCoder(google_extensions_pb2.EventLabel),\n",
    "    file_name_suffix='.tfrecords')"
   ]
  },
  {
   "cell_type": "markdown",
   "metadata": {},
   "source": [
    "## Run the transform"
   ]
  },
  {
   "cell_type": "code",
   "execution_count": 24,
   "metadata": {},
   "outputs": [
    {
     "name": "stderr",
     "output_type": "stream",
     "text": [
      "I0125 14:07:31.554686 140097622570752 fn_api_runner.py:844] ==================== <function annotate_downstream_side_inputs at 0x7f6abed3a488> ====================\n",
      "I0125 14:07:31.556801 140097622570752 fn_api_runner.py:844] ==================== <function fix_side_input_pcoll_coders at 0x7f6abed3ac80> ====================\n",
      "I0125 14:07:31.560578 140097622570752 fn_api_runner.py:844] ==================== <function lift_combiners at 0x7f6abed3a938> ====================\n",
      "I0125 14:07:31.563211 140097622570752 fn_api_runner.py:844] ==================== <function expand_gbk at 0x7f6abed3a398> ====================\n",
      "I0125 14:07:31.566139 140097622570752 fn_api_runner.py:844] ==================== <function sink_flattens at 0x7f6abed3a140> ====================\n",
      "I0125 14:07:31.570559 140097622570752 fn_api_runner.py:844] ==================== <function greedily_fuse at 0x7f6abed3a9b0> ====================\n",
      "I0125 14:07:31.574673 140097622570752 fn_api_runner.py:844] ==================== <function sort_stages at 0x7f6abed3a7d0> ====================\n",
      "I0125 14:07:31.576694 140097622570752 fn_api_runner.py:912] Running ((ref_AppliedPTransform_WriteToTFRecord/Write/WriteImpl/DoOnce/Read_9)+((ref_AppliedPTransform_WriteToTFRecord/Write/WriteImpl/InitializeWrite_10)+(ref_PCollection_PCollection_4/Write)))+(ref_PCollection_PCollection_3/Write)\n",
      "I0125 14:07:31.585122 140097622570752 bundle_processor.py:291] start <DataOutputOperation ref_PCollection_PCollection_4/Write >\n",
      "I0125 14:07:31.587593 140097622570752 bundle_processor.py:291] start <DataOutputOperation ref_PCollection_PCollection_3/Write >\n",
      "I0125 14:07:31.590033 140097622570752 bundle_processor.py:291] start <DoOperation WriteToTFRecord/Write/WriteImpl/InitializeWrite output_tags=['out']>\n",
      "I0125 14:07:31.594676 140097622570752 bundle_processor.py:291] start <ReadOperation WriteToTFRecord/Write/WriteImpl/DoOnce/Read source=SourceBundle(weight=1.0, source=<apache_beam.transforms.create_source._CreateSource object at 0x7f6ac6973d50>, start_position=None, stop_position=None)>\n",
      "I0125 14:07:31.597420 140097622570752 bundle_processor.py:303] finish <ReadOperation WriteToTFRecord/Write/WriteImpl/DoOnce/Read source=SourceBundle(weight=1.0, source=<apache_beam.transforms.create_source._CreateSource object at 0x7f6ac6973d50>, start_position=None, stop_position=None), receivers=[ConsumerSet[WriteToTFRecord/Write/WriteImpl/DoOnce/Read.out0, coder=WindowedValueCoder[FastPrimitivesCoder], len(consumers)=2]]>\n",
      "I0125 14:07:31.599659 140097622570752 bundle_processor.py:303] finish <DoOperation WriteToTFRecord/Write/WriteImpl/InitializeWrite output_tags=['out'], receivers=[ConsumerSet[WriteToTFRecord/Write/WriteImpl/InitializeWrite.out0, coder=WindowedValueCoder[LengthPrefixCoder[FastPrimitivesCoder]], len(consumers)=1]]>\n",
      "I0125 14:07:31.602159 140097622570752 bundle_processor.py:303] finish <DataOutputOperation ref_PCollection_PCollection_3/Write >\n",
      "I0125 14:07:31.604630 140097622570752 bundle_processor.py:303] finish <DataOutputOperation ref_PCollection_PCollection_4/Write >\n",
      "I0125 14:07:31.613225 140097622570752 fn_api_runner.py:912] Running (ref_AppliedPTransform_read/Read_3)+((ref_AppliedPTransform_BundleToLabel_4)+((ref_AppliedPTransform_WriteToTFRecord/Write/WriteImpl/WriteBundles_11)+((ref_AppliedPTransform_WriteToTFRecord/Write/WriteImpl/Pair_12)+((ref_AppliedPTransform_WriteToTFRecord/Write/WriteImpl/WindowInto(WindowIntoFn)_13)+(WriteToTFRecord/Write/WriteImpl/GroupByKey/Write)))))\n",
      "I0125 14:07:31.639039 140097622570752 bundle_processor.py:291] start <DataOutputOperation WriteToTFRecord/Write/WriteImpl/GroupByKey/Write >\n",
      "I0125 14:07:31.640697 140097622570752 bundle_processor.py:291] start <DoOperation WriteToTFRecord/Write/WriteImpl/WindowInto(WindowIntoFn) output_tags=['out']>\n",
      "I0125 14:07:31.645092 140097622570752 bundle_processor.py:291] start <DoOperation WriteToTFRecord/Write/WriteImpl/Pair output_tags=['out']>\n",
      "I0125 14:07:31.648020 140097622570752 bundle_processor.py:291] start <DoOperation WriteToTFRecord/Write/WriteImpl/WriteBundles output_tags=['out']>\n",
      "I0125 14:07:31.653232 140097622570752 bundle_processor.py:291] start <DoOperation BundleToLabel output_tags=['out']>\n",
      "I0125 14:07:31.657319 140097622570752 bundle_processor.py:291] start <ReadOperation read/Read source=SourceBundle(weight=1.0, source=<apache_beam.io.tfrecordio._TFRecordSource object at 0x7f6accdd5a10>, start_position=None, stop_position=None)>\n",
      "I0125 14:07:31.661854 140097622570752 gcsio.py:446] Starting the size estimation of the input\n",
      "I0125 14:07:31.665477 140097622570752 client.py:614] Attempting refresh to obtain initial access_token\n",
      "I0125 14:07:31.758749 140097622570752 gcsio.py:460] Finished listing 9 files in 0.096862077713 seconds.\n",
      "I0125 14:07:31.767137 140097622570752 client.py:614] Attempting refresh to obtain initial access_token\n",
      "I0125 14:07:32.307015 140096551778048 client.py:614] Attempting refresh to obtain initial access_token\n",
      "I0125 14:07:34.648344 140097622570752 client.py:614] Attempting refresh to obtain initial access_token\n",
      "I0125 14:07:36.941566 140097622570752 client.py:614] Attempting refresh to obtain initial access_token\n",
      "I0125 14:07:38.891725 140097622570752 client.py:614] Attempting refresh to obtain initial access_token\n",
      "I0125 14:07:41.639991 140097622570752 client.py:614] Attempting refresh to obtain initial access_token\n",
      "I0125 14:07:43.751939 140097622570752 client.py:614] Attempting refresh to obtain initial access_token\n",
      "I0125 14:07:45.590508 140097622570752 client.py:614] Attempting refresh to obtain initial access_token\n",
      "I0125 14:07:47.678082 140097622570752 client.py:614] Attempting refresh to obtain initial access_token\n",
      "I0125 14:07:50.256963 140097622570752 client.py:614] Attempting refresh to obtain initial access_token\n",
      "I0125 14:07:52.495799 140097622570752 bundle_processor.py:303] finish <ReadOperation read/Read source=SourceBundle(weight=1.0, source=<apache_beam.io.tfrecordio._TFRecordSource object at 0x7f6accdd5a10>, start_position=None, stop_position=None), receivers=[ConsumerSet[read/Read.out0, coder=WindowedValueCoder[FastPrimitivesCoder], len(consumers)=1]]>\n",
      "I0125 14:07:52.498565 140097622570752 bundle_processor.py:303] finish <DoOperation BundleToLabel output_tags=['out'], receivers=[ConsumerSet[BundleToLabel.out0, coder=WindowedValueCoder[ProtoCoder], len(consumers)=1]]>\n",
      "I0125 14:07:52.500413 140097622570752 bundle_processor.py:303] finish <DoOperation WriteToTFRecord/Write/WriteImpl/WriteBundles output_tags=['out'], receivers=[ConsumerSet[WriteToTFRecord/Write/WriteImpl/WriteBundles.out0, coder=WindowedValueCoder[FastPrimitivesCoder], len(consumers)=1]]>\n",
      "I0125 14:07:52.735626 140097622570752 bundle_processor.py:303] finish <DoOperation WriteToTFRecord/Write/WriteImpl/Pair output_tags=['out'], receivers=[ConsumerSet[WriteToTFRecord/Write/WriteImpl/Pair.out0, coder=WindowedValueCoder[TupleCoder[FastPrimitivesCoder, FastPrimitivesCoder]], len(consumers)=1]]>\n",
      "I0125 14:07:52.737828 140097622570752 bundle_processor.py:303] finish <DoOperation WriteToTFRecord/Write/WriteImpl/WindowInto(WindowIntoFn) output_tags=['out'], receivers=[ConsumerSet[WriteToTFRecord/Write/WriteImpl/WindowInto(WindowIntoFn).out0, coder=WindowedValueCoder[TupleCoder[LengthPrefixCoder[FastPrimitivesCoder], LengthPrefixCoder[FastPrimitivesCoder]]], len(consumers)=1]]>\n",
      "I0125 14:07:52.739521 140097622570752 bundle_processor.py:303] finish <DataOutputOperation WriteToTFRecord/Write/WriteImpl/GroupByKey/Write >\n",
      "I0125 14:07:52.790539 140097622570752 fn_api_runner.py:912] Running (WriteToTFRecord/Write/WriteImpl/GroupByKey/Read)+((ref_AppliedPTransform_WriteToTFRecord/Write/WriteImpl/Extract_18)+(ref_PCollection_PCollection_11/Write))\n",
      "I0125 14:07:52.798472 140097622570752 bundle_processor.py:291] start <DataOutputOperation ref_PCollection_PCollection_11/Write >\n",
      "I0125 14:07:52.800954 140097622570752 bundle_processor.py:291] start <DoOperation WriteToTFRecord/Write/WriteImpl/Extract output_tags=['out']>\n",
      "I0125 14:07:52.804685 140097622570752 bundle_processor.py:291] start <DataInputOperation WriteToTFRecord/Write/WriteImpl/GroupByKey/Read receivers=[ConsumerSet[WriteToTFRecord/Write/WriteImpl/GroupByKey/Read.out0, coder=WindowedValueCoder[TupleCoder[LengthPrefixCoder[FastPrimitivesCoder], IterableCoder[LengthPrefixCoder[FastPrimitivesCoder]]]], len(consumers)=1]]>\n"
     ]
    },
    {
     "name": "stderr",
     "output_type": "stream",
     "text": [
      "I0125 14:07:52.807261 140097622570752 bundle_processor.py:303] finish <DataInputOperation WriteToTFRecord/Write/WriteImpl/GroupByKey/Read receivers=[ConsumerSet[WriteToTFRecord/Write/WriteImpl/GroupByKey/Read.out0, coder=WindowedValueCoder[TupleCoder[LengthPrefixCoder[FastPrimitivesCoder], IterableCoder[LengthPrefixCoder[FastPrimitivesCoder]]]], len(consumers)=1]]>\n",
      "I0125 14:07:52.809660 140097622570752 bundle_processor.py:303] finish <DoOperation WriteToTFRecord/Write/WriteImpl/Extract output_tags=['out'], receivers=[ConsumerSet[WriteToTFRecord/Write/WriteImpl/Extract.out0, coder=WindowedValueCoder[LengthPrefixCoder[FastPrimitivesCoder]], len(consumers)=1]]>\n",
      "I0125 14:07:52.812208 140097622570752 bundle_processor.py:303] finish <DataOutputOperation ref_PCollection_PCollection_11/Write >\n",
      "I0125 14:07:52.820162 140097622570752 fn_api_runner.py:912] Running ((ref_PCollection_PCollection_3/Read)+(ref_AppliedPTransform_WriteToTFRecord/Write/WriteImpl/PreFinalize_19))+(ref_PCollection_PCollection_12/Write)\n",
      "I0125 14:07:52.829485 140097622570752 bundle_processor.py:291] start <DataOutputOperation ref_PCollection_PCollection_12/Write >\n",
      "I0125 14:07:52.831957 140097622570752 bundle_processor.py:291] start <DoOperation WriteToTFRecord/Write/WriteImpl/PreFinalize output_tags=['out']>\n",
      "I0125 14:07:52.835597 140097622570752 bundle_processor.py:291] start <DataInputOperation ref_PCollection_PCollection_3/Read receivers=[ConsumerSet[ref_PCollection_PCollection_3/Read.out0, coder=WindowedValueCoder[FastPrimitivesCoder], len(consumers)=1]]>\n",
      "I0125 14:07:52.841231 140097622570752 gcsio.py:446] Starting the size estimation of the input\n",
      "I0125 14:07:52.844254 140097622570752 client.py:614] Attempting refresh to obtain initial access_token\n",
      "I0125 14:07:52.923854 140097622570752 gcsio.py:460] Finished listing 0 files in 0.0826170444489 seconds.\n",
      "I0125 14:07:52.926276 140097622570752 bundle_processor.py:303] finish <DataInputOperation ref_PCollection_PCollection_3/Read receivers=[ConsumerSet[ref_PCollection_PCollection_3/Read.out0, coder=WindowedValueCoder[FastPrimitivesCoder], len(consumers)=1]]>\n",
      "I0125 14:07:52.928667 140097622570752 bundle_processor.py:303] finish <DoOperation WriteToTFRecord/Write/WriteImpl/PreFinalize output_tags=['out'], receivers=[ConsumerSet[WriteToTFRecord/Write/WriteImpl/PreFinalize.out0, coder=WindowedValueCoder[LengthPrefixCoder[FastPrimitivesCoder]], len(consumers)=1]]>\n",
      "I0125 14:07:52.930537 140097622570752 bundle_processor.py:303] finish <DataOutputOperation ref_PCollection_PCollection_12/Write >\n",
      "I0125 14:07:52.950670 140097622570752 fn_api_runner.py:912] Running (ref_PCollection_PCollection_3/Read)+(ref_AppliedPTransform_WriteToTFRecord/Write/WriteImpl/FinalizeWrite_20)\n",
      "I0125 14:07:52.958528 140097622570752 bundle_processor.py:291] start <DoOperation WriteToTFRecord/Write/WriteImpl/FinalizeWrite output_tags=['out']>\n",
      "I0125 14:07:52.961427 140097622570752 bundle_processor.py:291] start <DataInputOperation ref_PCollection_PCollection_3/Read receivers=[ConsumerSet[ref_PCollection_PCollection_3/Read.out0, coder=WindowedValueCoder[FastPrimitivesCoder], len(consumers)=1]]>\n",
      "I0125 14:07:52.966772 140097622570752 gcsio.py:446] Starting the size estimation of the input\n",
      "I0125 14:07:52.969902 140097622570752 client.py:614] Attempting refresh to obtain initial access_token\n",
      "I0125 14:07:53.051245 140097622570752 gcsio.py:460] Finished listing 1 files in 0.0844700336456 seconds.\n",
      "I0125 14:07:53.058799 140097622570752 gcsio.py:446] Starting the size estimation of the input\n",
      "I0125 14:07:53.061240 140097622570752 client.py:614] Attempting refresh to obtain initial access_token\n",
      "I0125 14:07:53.140314 140097622570752 gcsio.py:460] Finished listing 0 files in 0.081512928009 seconds.\n",
      "I0125 14:07:53.142379 140097622570752 filebasedsink.py:290] Starting finalize_write threads with num_shards: 1 (skipped: 0), batches: 1, num_threads: 1\n",
      "I0125 14:07:53.150954 140096551778048 client.py:614] Attempting refresh to obtain initial access_token\n",
      "I0125 14:07:53.370536 140096551778048 client.py:614] Attempting refresh to obtain initial access_token\n",
      "I0125 14:07:53.548188 140097622570752 filebasedsink.py:327] Renamed 1 shards in 0.40 seconds.\n",
      "I0125 14:07:53.553497 140097622570752 client.py:614] Attempting refresh to obtain initial access_token\n",
      "I0125 14:07:53.620614 140097622570752 bundle_processor.py:303] finish <DataInputOperation ref_PCollection_PCollection_3/Read receivers=[ConsumerSet[ref_PCollection_PCollection_3/Read.out0, coder=WindowedValueCoder[FastPrimitivesCoder], len(consumers)=1]]>\n",
      "I0125 14:07:53.623090 140097622570752 bundle_processor.py:303] finish <DoOperation WriteToTFRecord/Write/WriteImpl/FinalizeWrite output_tags=['out'], receivers=[ConsumerSet[WriteToTFRecord/Write/WriteImpl/FinalizeWrite.out0, coder=WindowedValueCoder[FastPrimitivesCoder], len(consumers)=0]]>\n"
     ]
    },
    {
     "data": {
      "text/plain": [
       "'DONE'"
      ]
     },
     "execution_count": 24,
     "metadata": {},
     "output_type": "execute_result"
    }
   ],
   "source": [
    "   p.run().wait_until_finish()"
   ]
  },
  {
   "cell_type": "code",
   "execution_count": 25,
   "metadata": {},
   "outputs": [
    {
     "name": "stdout",
     "output_type": "stream",
     "text": [
      "gs://hdlcluster3/synthea/labels/label-00000-of-00001.tfrecords\n"
     ]
    }
   ],
   "source": [
    "%%bash\n",
    "#List the contents of the output bucket\n",
    "gsutil ls gs://hdlcluster3/synthea/labels"
   ]
  },
  {
   "cell_type": "markdown",
   "metadata": {},
   "source": [
    "YAY!!"
   ]
  }
 ],
 "metadata": {
  "kernelspec": {
   "display_name": "Python 2",
   "language": "python",
   "name": "python2"
  },
  "language_info": {
   "codemirror_mode": {
    "name": "ipython",
    "version": 2
   },
   "file_extension": ".py",
   "mimetype": "text/x-python",
   "name": "python",
   "nbconvert_exporter": "python",
   "pygments_lexer": "ipython2",
   "version": "2.7.15"
  }
 },
 "nbformat": 4,
 "nbformat_minor": 2
}
