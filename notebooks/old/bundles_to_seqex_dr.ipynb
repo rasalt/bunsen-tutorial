{
 "cells": [
  {
   "cell_type": "markdown",
   "metadata": {},
   "source": [
    "## This notebook demonstrates bundles to seqex example"
   ]
  },
  {
   "cell_type": "markdown",
   "metadata": {},
   "source": [
    "Install packages required for apache-beam and protobuf"
   ]
  },
  {
   "cell_type": "code",
   "execution_count": 1,
   "metadata": {},
   "outputs": [
    {
     "name": "stderr",
     "output_type": "stream",
     "text": [
      "/usr/local/envs/py2env/lib/python2.7/site-packages/ipykernel/__main__.py:12: ImportWarning: Not importing directory '/usr/local/fhir/proto': missing __init__.py\n",
      "/usr/local/envs/py2env/lib/python2.7/site-packages/h5py/__init__.py:36: RuntimeWarning: numpy.dtype size changed, may indicate binary incompatibility. Expected 96, got 88\n",
      "  from ._conv import register_converters as _register_converters\n",
      "/usr/local/envs/py2env/lib/python2.7/site-packages/h5py/__init__.py:36: FutureWarning: Conversion of the second argument of issubdtype from `float` to `np.floating` is deprecated. In future, it will be treated as `np.float64 == np.dtype(float).type`.\n",
      "  from ._conv import register_converters as _register_converters\n",
      "/usr/local/envs/py2env/lib/python2.7/site-packages/h5py/_hl/group.py:22: RuntimeWarning: numpy.dtype size changed, may indicate binary incompatibility. Expected 96, got 88\n",
      "  from .. import h5g, h5i, h5o, h5r, h5t, h5l, h5p\n",
      "/usr/local/envs/py2env/lib/python2.7/site-packages/scipy/ndimage/measurements.py:36: RuntimeWarning: numpy.dtype size changed, may indicate binary incompatibility. Expected 96, got 88\n",
      "  from . import _ni_label\n"
     ]
    }
   ],
   "source": [
    "from __future__ import absolute_import\n",
    "from __future__ import division\n",
    "from __future__ import print_function\n",
    "import logging\n",
    "logger = logging.getLogger()\n",
    "logger.setLevel(logging.INFO)\n",
    "\n",
    "from absl import app\n",
    "from absl import flags\n",
    "import apache_beam as beam\n",
    "from google.protobuf import text_format\n",
    "from proto.stu3 import google_extensions_pb2\n",
    "from proto.stu3 import resources_pb2\n",
    "from proto.stu3 import version_config_pb2\n",
    "from tensorflow.core.example import example_pb2\n",
    "from py.google.fhir.seqex import bundle_to_seqex\n",
    "import time"
   ]
  },
  {
   "cell_type": "code",
   "execution_count": 3,
   "metadata": {},
   "outputs": [],
   "source": [
    "def _get_version_config(version_config_path):\n",
    "  with open(version_config_path) as f:\n",
    "    return text_format.Parse(f.read(), version_config_pb2.VersionConfig())"
   ]
  },
  {
   "cell_type": "markdown",
   "metadata": {},
   "source": [
    "# Initialize variables"
   ]
  },
  {
   "cell_type": "code",
   "execution_count": 2,
   "metadata": {},
   "outputs": [],
   "source": [
    "from apache_beam.options.pipeline_options import GoogleCloudOptions\n",
    "from apache_beam.options.pipeline_options import StandardOptions\n",
    "from apache_beam.options.pipeline_options import SetupOptions\n",
    "from apache_beam.options.pipeline_options import PipelineOptions\n",
    "\n",
    "from apache_beam.io import ReadFromText\n",
    "from apache_beam.io import WriteToText\n",
    "from apache_beam.metrics import Metrics\n",
    "from apache_beam.metrics.metric import MetricsFilter\n",
    "\n",
    "import apache_beam as beam\n",
    "import re\n",
    "\n",
    "options = PipelineOptions()\n",
    "google_cloud_options = options.view_as(GoogleCloudOptions)\n",
    "google_cloud_options.project = 'dp-workspace'\n",
    "google_cloud_options.job_name = 'generate_seqex'\n",
    "google_cloud_options.staging_location = 'gs://hdlcluster3/staging'\n",
    "google_cloud_options.temp_location = 'gs://hdlcluster3/temp'\n",
    "options.view_as(StandardOptions).runner = 'DirectRunner'"
   ]
  },
  {
   "cell_type": "code",
   "execution_count": 7,
   "metadata": {},
   "outputs": [],
   "source": [
    "input_path = 'gs://hdlcluster3/synthea/bundles/bundles*'\n",
    "label_path = 'gs://hdlcluster3/synthea/labels/label-00000-of-00001.tfrecords'\n",
    "output_path = 'gs://hdlcluster3/synthea/seqex/seqex'"
   ]
  },
  {
   "cell_type": "code",
   "execution_count": 8,
   "metadata": {},
   "outputs": [
    {
     "name": "stderr",
     "output_type": "stream",
     "text": [
      "CommandException: No URLs matched: gs://hdlcluster3/synthea/seqex/*\n"
     ]
    }
   ],
   "source": [
    "%%bash\n",
    "gsutil rm gs://hdlcluster3/synthea/seqex/*\n",
    "gsutil ls gs://hdlcluster3/synthea/seqex"
   ]
  },
  {
   "cell_type": "markdown",
   "metadata": {},
   "source": [
    "## Transform definition"
   ]
  },
  {
   "cell_type": "code",
   "execution_count": 9,
   "metadata": {},
   "outputs": [
    {
     "name": "stderr",
     "output_type": "stream",
     "text": [
      "I0125 14:12:08.349047 140523616286464 gcsio.py:446] Starting the size estimation of the input\n",
      "I0125 14:12:08.351886 140523616286464 client.py:614] Attempting refresh to obtain initial access_token\n",
      "I0125 14:12:08.442349 140523616286464 gcsio.py:460] Finished listing 9 files in 0.0933110713959 seconds.\n",
      "I0125 14:12:08.453818 140523616286464 client.py:614] Attempting refresh to obtain initial access_token\n",
      "I0125 14:12:08.523930 140523616286464 client.py:614] Attempting refresh to obtain initial access_token\n"
     ]
    }
   ],
   "source": [
    "p = beam.Pipeline(options=options)\n",
    "version_config = _get_version_config(\"/usr/local/fhir/proto/stu3/version_config.textproto\")\n",
    "\n",
    "keyed_bundles = ( \n",
    "    p \n",
    "    | 'readBundles' >> beam.io.ReadFromTFRecord(\n",
    "        input_path, coder=beam.coders.ProtoCoder(resources_pb2.Bundle))\n",
    "    | 'KeyBundlesByPatientId' >> beam.ParDo(\n",
    "        bundle_to_seqex.KeyBundleByPatientIdFn()))\n",
    "event_labels = ( \n",
    "    p | 'readEventLabels' >> beam.io.ReadFromTFRecord(\n",
    "        label_path,\n",
    "        coder=beam.coders.ProtoCoder(google_extensions_pb2.EventLabel)))\n",
    "keyed_event_labels = bundle_to_seqex.CreateTriggerLabelsPairLists(\n",
    "    event_labels)\n",
    "bundles_and_labels = bundle_to_seqex.CreateBundleAndLabels(\n",
    "    keyed_bundles, keyed_event_labels)\n",
    "_ = ( \n",
    "    bundles_and_labels\n",
    "    | 'Reshuffle1' >> beam.Reshuffle()\n",
    "    | 'GenerateSeqex' >> beam.ParDo(\n",
    "        bundle_to_seqex.BundleAndLabelsToSeqexDoFn(\n",
    "            version_config=version_config,\n",
    "            enable_attribution=False,\n",
    "            generate_sequence_label=False))\n",
    "    | 'Reshuffle2' >> beam.Reshuffle()\n",
    "    | 'WriteSeqex' >> beam.io.WriteToTFRecord(\n",
    "        output_path,\n",
    "        coder=beam.coders.ProtoCoder(example_pb2.SequenceExample),\n",
    "        file_name_suffix='.tfrecords',\n",
    "        num_shards=2))"
   ]
  },
  {
   "cell_type": "markdown",
   "metadata": {},
   "source": [
    "Run the transform"
   ]
  },
  {
   "cell_type": "code",
   "execution_count": 10,
   "metadata": {},
   "outputs": [
    {
     "name": "stderr",
     "output_type": "stream",
     "text": [
      "I0125 14:12:11.631007 140523616286464 fn_api_runner.py:844] ==================== <function annotate_downstream_side_inputs at 0x7fcde234a668> ====================\n",
      "I0125 14:12:11.634602 140523616286464 fn_api_runner.py:844] ==================== <function fix_side_input_pcoll_coders at 0x7fcde234a848> ====================\n",
      "I0125 14:12:11.638451 140523616286464 fn_api_runner.py:844] ==================== <function lift_combiners at 0x7fcde234ab90> ====================\n",
      "I0125 14:12:11.640438 140523616286464 fn_api_runner.py:844] ==================== <function expand_gbk at 0x7fcde234a1b8> ====================\n",
      "I0125 14:12:11.647206 140523616286464 fn_api_runner.py:844] ==================== <function sink_flattens at 0x7fcde234a938> ====================\n",
      "I0125 14:12:11.650182 140523616286464 fn_api_runner.py:844] ==================== <function greedily_fuse at 0x7fcde234acf8> ====================\n",
      "I0125 14:12:11.654597 140523616286464 fn_api_runner.py:844] ==================== <function sort_stages at 0x7fcde234a140> ====================\n",
      "I0125 14:12:11.657558 140523616286464 fn_api_runner.py:912] Running (ref_AppliedPTransform_readEventLabels/Read_6)+((ref_AppliedPTransform_KeyEventLabelsByPatientId_7)+(GroupEventLabelsByPatientId/Write))\n",
      "I0125 14:12:11.668648 140523616286464 bundle_processor.py:291] start <DataOutputOperation GroupEventLabelsByPatientId/Write >\n",
      "I0125 14:12:11.671686 140523616286464 bundle_processor.py:291] start <DoOperation KeyEventLabelsByPatientId output_tags=['out']>\n",
      "I0125 14:12:11.676134 140523616286464 bundle_processor.py:291] start <ReadOperation readEventLabels/Read source=SourceBundle(weight=1.0, source=<apache_beam.io.tfrecordio._TFRecordSource object at 0x7fcde1e2b390>, start_position=None, stop_position=None)>\n",
      "I0125 14:12:11.682984 140523616286464 client.py:614] Attempting refresh to obtain initial access_token\n",
      "I0125 14:12:11.751384 140523616286464 client.py:614] Attempting refresh to obtain initial access_token\n",
      "I0125 14:12:11.818739 140523616286464 client.py:614] Attempting refresh to obtain initial access_token\n",
      "W0125 14:12:12.048326 140523616286464 tfrecordio.py:49] Couldn't find python-snappy so the implementation of _TFRecordUtil._masked_crc32c is not as fast as it could be.\n",
      "I0125 14:12:12.081042 140523616286464 bundle_processor.py:303] finish <ReadOperation readEventLabels/Read source=SourceBundle(weight=1.0, source=<apache_beam.io.tfrecordio._TFRecordSource object at 0x7fcde1e2b390>, start_position=None, stop_position=None), receivers=[ConsumerSet[readEventLabels/Read.out0, coder=WindowedValueCoder[FastPrimitivesCoder], len(consumers)=1]]>\n",
      "I0125 14:12:12.083921 140523616286464 bundle_processor.py:303] finish <DoOperation KeyEventLabelsByPatientId output_tags=['out'], receivers=[ConsumerSet[KeyEventLabelsByPatientId.out0, coder=WindowedValueCoder[TupleCoder[BytesCoder, LengthPrefixCoder[ProtoCoder]]], len(consumers)=1]]>\n",
      "I0125 14:12:12.085690 140523616286464 bundle_processor.py:303] finish <DataOutputOperation GroupEventLabelsByPatientId/Write >\n",
      "I0125 14:12:12.124646 140523616286464 fn_api_runner.py:912] Running (((GroupEventLabelsByPatientId/Read)+(ref_AppliedPTransform_CreateTriggerLabelsPairLists_12))+((ref_AppliedPTransform_GroupBundleAndTriggers/pair_with_trigger_labels_pair_lists_14)+(GroupBundleAndTriggers/Flatten/Transcode/0)))+(GroupBundleAndTriggers/Flatten/Write/0)\n",
      "I0125 14:12:12.137094 140523616286464 bundle_processor.py:291] start <DataOutputOperation GroupBundleAndTriggers/Flatten/Write/0 >\n",
      "I0125 14:12:12.139091 140523616286464 bundle_processor.py:291] start <FlattenOperation GroupBundleAndTriggers/Flatten/Transcode/0 >\n",
      "I0125 14:12:12.141666 140523616286464 bundle_processor.py:291] start <DoOperation GroupBundleAndTriggers/pair_with_trigger_labels_pair_lists output_tags=['out']>\n",
      "I0125 14:12:12.144737 140523616286464 bundle_processor.py:291] start <DoOperation CreateTriggerLabelsPairLists output_tags=['out']>\n",
      "I0125 14:12:12.147325 140523616286464 bundle_processor.py:291] start <DataInputOperation GroupEventLabelsByPatientId/Read receivers=[ConsumerSet[GroupEventLabelsByPatientId/Read.out0, coder=WindowedValueCoder[TupleCoder[BytesCoder, IterableCoder[LengthPrefixCoder[ProtoCoder]]]], len(consumers)=1]]>\n",
      "I0125 14:12:12.298824 140523616286464 bundle_processor.py:303] finish <DataInputOperation GroupEventLabelsByPatientId/Read receivers=[ConsumerSet[GroupEventLabelsByPatientId/Read.out0, coder=WindowedValueCoder[TupleCoder[BytesCoder, IterableCoder[LengthPrefixCoder[ProtoCoder]]]], len(consumers)=1]]>\n",
      "I0125 14:12:12.301306 140523616286464 bundle_processor.py:303] finish <DoOperation CreateTriggerLabelsPairLists output_tags=['out'], receivers=[ConsumerSet[CreateTriggerLabelsPairLists.out0, coder=WindowedValueCoder[TupleCoder[BytesCoder, FastPrimitivesCoder]], len(consumers)=1]]>\n",
      "I0125 14:12:12.303030 140523616286464 bundle_processor.py:303] finish <DoOperation GroupBundleAndTriggers/pair_with_trigger_labels_pair_lists output_tags=['out'], receivers=[ConsumerSet[GroupBundleAndTriggers/pair_with_trigger_labels_pair_lists.out0, coder=WindowedValueCoder[TupleCoder[LengthPrefixCoder[FastPrimitivesCoder], LengthPrefixCoder[FastPrimitivesCoder]]], len(consumers)=1]]>\n",
      "I0125 14:12:12.304635 140523616286464 bundle_processor.py:303] finish <FlattenOperation GroupBundleAndTriggers/Flatten/Transcode/0 receivers=[ConsumerSet[GroupBundleAndTriggers/Flatten/Transcode/0.out0, coder=WindowedValueCoder[TupleCoder[LengthPrefixCoder[FastPrimitivesCoder], LengthPrefixCoder[FastPrimitivesCoder]]], len(consumers)=1]]>\n",
      "I0125 14:12:12.306418 140523616286464 bundle_processor.py:303] finish <DataOutputOperation GroupBundleAndTriggers/Flatten/Write/0 >\n",
      "I0125 14:12:12.315890 140523616286464 fn_api_runner.py:912] Running (((ref_AppliedPTransform_readBundles/Read_3)+((ref_AppliedPTransform_KeyBundlesByPatientId_4)+(ref_AppliedPTransform_GroupBundleAndTriggers/pair_with_bundle_15)))+(GroupBundleAndTriggers/Flatten/Transcode/1))+(GroupBundleAndTriggers/Flatten/Write/1)\n",
      "I0125 14:12:12.328883 140523616286464 bundle_processor.py:291] start <DataOutputOperation GroupBundleAndTriggers/Flatten/Write/1 >\n",
      "I0125 14:12:12.330427 140523616286464 bundle_processor.py:291] start <FlattenOperation GroupBundleAndTriggers/Flatten/Transcode/1 >\n",
      "I0125 14:12:12.332052 140523616286464 bundle_processor.py:291] start <DoOperation GroupBundleAndTriggers/pair_with_bundle output_tags=['out']>\n",
      "I0125 14:12:12.334739 140523616286464 bundle_processor.py:291] start <DoOperation KeyBundlesByPatientId output_tags=['out']>\n",
      "I0125 14:12:12.338434 140523616286464 bundle_processor.py:291] start <ReadOperation readBundles/Read source=SourceBundle(weight=1.0, source=<apache_beam.io.tfrecordio._TFRecordSource object at 0x7fcde157ffd0>, start_position=None, stop_position=None)>\n",
      "I0125 14:12:12.343974 140523616286464 gcsio.py:446] Starting the size estimation of the input\n",
      "I0125 14:12:12.346826 140523616286464 client.py:614] Attempting refresh to obtain initial access_token\n",
      "I0125 14:12:12.457659 140523616286464 gcsio.py:460] Finished listing 9 files in 0.113702058792 seconds.\n",
      "I0125 14:12:12.475256 140523616286464 client.py:614] Attempting refresh to obtain initial access_token\n",
      "I0125 14:12:19.541663 140523616286464 client.py:614] Attempting refresh to obtain initial access_token\n",
      "I0125 14:12:23.668550 140523616286464 client.py:614] Attempting refresh to obtain initial access_token\n",
      "I0125 14:12:27.317667 140523616286464 client.py:614] Attempting refresh to obtain initial access_token\n",
      "I0125 14:12:32.340488 140523616286464 client.py:614] Attempting refresh to obtain initial access_token\n",
      "I0125 14:12:35.882616 140523616286464 client.py:614] Attempting refresh to obtain initial access_token\n",
      "I0125 14:12:38.957230 140523616286464 client.py:614] Attempting refresh to obtain initial access_token\n",
      "I0125 14:12:43.163558 140523616286464 client.py:614] Attempting refresh to obtain initial access_token\n",
      "I0125 14:12:47.785022 140523616286464 client.py:614] Attempting refresh to obtain initial access_token\n",
      "I0125 14:12:51.304656 140523616286464 bundle_processor.py:303] finish <ReadOperation readBundles/Read source=SourceBundle(weight=1.0, source=<apache_beam.io.tfrecordio._TFRecordSource object at 0x7fcde157ffd0>, start_position=None, stop_position=None), receivers=[ConsumerSet[readBundles/Read.out0, coder=WindowedValueCoder[FastPrimitivesCoder], len(consumers)=1]]>\n"
     ]
    },
    {
     "name": "stderr",
     "output_type": "stream",
     "text": [
      "I0125 14:12:51.306859 140523616286464 bundle_processor.py:303] finish <DoOperation KeyBundlesByPatientId output_tags=['out'], receivers=[ConsumerSet[KeyBundlesByPatientId.out0, coder=WindowedValueCoder[TupleCoder[BytesCoder, ProtoCoder]], len(consumers)=1]]>\n",
      "I0125 14:12:51.309212 140523616286464 bundle_processor.py:303] finish <DoOperation GroupBundleAndTriggers/pair_with_bundle output_tags=['out'], receivers=[ConsumerSet[GroupBundleAndTriggers/pair_with_bundle.out0, coder=WindowedValueCoder[TupleCoder[LengthPrefixCoder[FastPrimitivesCoder], LengthPrefixCoder[FastPrimitivesCoder]]], len(consumers)=1]]>\n",
      "I0125 14:12:51.311158 140523616286464 bundle_processor.py:303] finish <FlattenOperation GroupBundleAndTriggers/Flatten/Transcode/1 receivers=[ConsumerSet[GroupBundleAndTriggers/Flatten/Transcode/1.out0, coder=WindowedValueCoder[TupleCoder[LengthPrefixCoder[FastPrimitivesCoder], LengthPrefixCoder[FastPrimitivesCoder]]], len(consumers)=1]]>\n",
      "I0125 14:12:51.313194 140523616286464 bundle_processor.py:303] finish <DataOutputOperation GroupBundleAndTriggers/Flatten/Write/1 >\n",
      "I0125 14:12:52.840821 140523616286464 fn_api_runner.py:912] Running (GroupBundleAndTriggers/Flatten/Read)+(GroupBundleAndTriggers/GroupByKey/Write)\n",
      "I0125 14:12:54.365883 140523616286464 bundle_processor.py:291] start <DataOutputOperation GroupBundleAndTriggers/GroupByKey/Write >\n",
      "I0125 14:12:54.368359 140523616286464 bundle_processor.py:291] start <DataInputOperation GroupBundleAndTriggers/Flatten/Read receivers=[ConsumerSet[GroupBundleAndTriggers/Flatten/Read.out0, coder=WindowedValueCoder[TupleCoder[LengthPrefixCoder[FastPrimitivesCoder], LengthPrefixCoder[FastPrimitivesCoder]]], len(consumers)=1]]>\n",
      "I0125 14:13:23.129451 140523616286464 bundle_processor.py:303] finish <DataInputOperation GroupBundleAndTriggers/Flatten/Read receivers=[ConsumerSet[GroupBundleAndTriggers/Flatten/Read.out0, coder=WindowedValueCoder[TupleCoder[LengthPrefixCoder[FastPrimitivesCoder], LengthPrefixCoder[FastPrimitivesCoder]]], len(consumers)=1]]>\n",
      "I0125 14:13:23.132488 140523616286464 bundle_processor.py:303] finish <DataOutputOperation GroupBundleAndTriggers/GroupByKey/Write >\n",
      "I0125 14:13:24.866714 140523616286464 fn_api_runner.py:912] Running (GroupBundleAndTriggers/GroupByKey/Read)+((ref_AppliedPTransform_GroupBundleAndTriggers/Map(_merge_tagged_vals_under_key)_21)+((ref_AppliedPTransform_JoinBundleAndTriggers_22)+((ref_AppliedPTransform_Reshuffle1/AddRandomKeys_24)+((ref_AppliedPTransform_Reshuffle1/ReshufflePerKey/Map(reify_timestamps)_26)+(Reshuffle1/ReshufflePerKey/GroupByKey/Write)))))\n",
      "I0125 14:13:26.738208 140523616286464 bundle_processor.py:291] start <DataOutputOperation Reshuffle1/ReshufflePerKey/GroupByKey/Write >\n",
      "I0125 14:13:26.740102 140523616286464 bundle_processor.py:291] start <DoOperation Reshuffle1/ReshufflePerKey/Map(reify_timestamps) output_tags=['out']>\n",
      "I0125 14:13:26.743402 140523616286464 bundle_processor.py:291] start <DoOperation Reshuffle1/AddRandomKeys output_tags=['out']>\n",
      "I0125 14:13:26.746720 140523616286464 bundle_processor.py:291] start <DoOperation JoinBundleAndTriggers output_tags=['out']>\n",
      "I0125 14:13:26.749298 140523616286464 bundle_processor.py:291] start <DoOperation GroupBundleAndTriggers/Map(_merge_tagged_vals_under_key) output_tags=['out']>\n",
      "I0125 14:13:26.752734 140523616286464 bundle_processor.py:291] start <DataInputOperation GroupBundleAndTriggers/GroupByKey/Read receivers=[ConsumerSet[GroupBundleAndTriggers/GroupByKey/Read.out0, coder=WindowedValueCoder[TupleCoder[LengthPrefixCoder[FastPrimitivesCoder], IterableCoder[LengthPrefixCoder[FastPrimitivesCoder]]]], len(consumers)=1]]>\n",
      "I0125 14:13:48.199090 140523616286464 bundle_processor.py:303] finish <DataInputOperation GroupBundleAndTriggers/GroupByKey/Read receivers=[ConsumerSet[GroupBundleAndTriggers/GroupByKey/Read.out0, coder=WindowedValueCoder[TupleCoder[LengthPrefixCoder[FastPrimitivesCoder], IterableCoder[LengthPrefixCoder[FastPrimitivesCoder]]]], len(consumers)=1]]>\n",
      "I0125 14:13:48.202603 140523616286464 bundle_processor.py:303] finish <DoOperation GroupBundleAndTriggers/Map(_merge_tagged_vals_under_key) output_tags=['out'], receivers=[ConsumerSet[GroupBundleAndTriggers/Map(_merge_tagged_vals_under_key).out0, coder=WindowedValueCoder[FastPrimitivesCoder], len(consumers)=1]]>\n",
      "I0125 14:13:48.205230 140523616286464 bundle_processor.py:303] finish <DoOperation JoinBundleAndTriggers output_tags=['out'], receivers=[ConsumerSet[JoinBundleAndTriggers.out0, coder=WindowedValueCoder[TupleCoder[BytesCoder, TupleCoder[ProtoCoder, FastPrimitivesCoder]]], len(consumers)=1]]>\n",
      "I0125 14:13:48.206861 140523616286464 bundle_processor.py:303] finish <DoOperation Reshuffle1/AddRandomKeys output_tags=['out'], receivers=[ConsumerSet[Reshuffle1/AddRandomKeys.out0, coder=WindowedValueCoder[TupleCoder[FastPrimitivesCoder, TupleCoder[BytesCoder, TupleCoder[ProtoCoder, FastPrimitivesCoder]]]], len(consumers)=1]]>\n",
      "I0125 14:13:48.209006 140523616286464 bundle_processor.py:303] finish <DoOperation Reshuffle1/ReshufflePerKey/Map(reify_timestamps) output_tags=['out'], receivers=[ConsumerSet[Reshuffle1/ReshufflePerKey/Map(reify_timestamps).out0, coder=WindowedValueCoder[TupleCoder[LengthPrefixCoder[FastPrimitivesCoder], TupleCoder[TupleCoder[BytesCoder, TupleCoder[LengthPrefixCoder[ProtoCoder], LengthPrefixCoder[FastPrimitivesCoder]]], LengthPrefixCoder[FastPrimitivesCoder]]]], len(consumers)=1]]>\n",
      "I0125 14:13:48.210982 140523616286464 bundle_processor.py:303] finish <DataOutputOperation Reshuffle1/ReshufflePerKey/GroupByKey/Write >\n",
      "I0125 14:13:48.590003 140523616286464 fn_api_runner.py:912] Running ((ref_AppliedPTransform_WriteSeqex/Write/WriteImpl/DoOnce/Read_48)+((ref_AppliedPTransform_WriteSeqex/Write/WriteImpl/InitializeWrite_49)+(ref_PCollection_PCollection_33/Write)))+(ref_PCollection_PCollection_32/Write)\n",
      "I0125 14:13:48.600545 140523616286464 bundle_processor.py:291] start <DataOutputOperation ref_PCollection_PCollection_33/Write >\n",
      "I0125 14:13:48.602505 140523616286464 bundle_processor.py:291] start <DataOutputOperation ref_PCollection_PCollection_32/Write >\n",
      "I0125 14:13:48.604223 140523616286464 bundle_processor.py:291] start <DoOperation WriteSeqex/Write/WriteImpl/InitializeWrite output_tags=['out']>\n",
      "I0125 14:13:48.607687 140523616286464 bundle_processor.py:291] start <ReadOperation WriteSeqex/Write/WriteImpl/DoOnce/Read source=SourceBundle(weight=1.0, source=<apache_beam.transforms.create_source._CreateSource object at 0x7fcde12e2390>, start_position=None, stop_position=None)>\n",
      "I0125 14:13:48.610750 140523616286464 bundle_processor.py:303] finish <ReadOperation WriteSeqex/Write/WriteImpl/DoOnce/Read source=SourceBundle(weight=1.0, source=<apache_beam.transforms.create_source._CreateSource object at 0x7fcde12e2390>, start_position=None, stop_position=None), receivers=[ConsumerSet[WriteSeqex/Write/WriteImpl/DoOnce/Read.out0, coder=WindowedValueCoder[FastPrimitivesCoder], len(consumers)=2]]>\n",
      "I0125 14:13:48.613183 140523616286464 bundle_processor.py:303] finish <DoOperation WriteSeqex/Write/WriteImpl/InitializeWrite output_tags=['out'], receivers=[ConsumerSet[WriteSeqex/Write/WriteImpl/InitializeWrite.out0, coder=WindowedValueCoder[LengthPrefixCoder[FastPrimitivesCoder]], len(consumers)=1]]>\n",
      "I0125 14:13:48.615114 140523616286464 bundle_processor.py:303] finish <DataOutputOperation ref_PCollection_PCollection_32/Write >\n",
      "I0125 14:13:48.616730 140523616286464 bundle_processor.py:303] finish <DataOutputOperation ref_PCollection_PCollection_33/Write >\n",
      "I0125 14:13:48.622915 140523616286464 fn_api_runner.py:912] Running (Reshuffle1/ReshufflePerKey/GroupByKey/Read)+(((ref_AppliedPTransform_Reshuffle1/ReshufflePerKey/FlatMap(restore_timestamps)_31)+(ref_AppliedPTransform_Reshuffle1/RemoveRandomKeys_32))+(((ref_AppliedPTransform_GenerateSeqex_33)+(ref_AppliedPTransform_Reshuffle2/AddRandomKeys_35))+((ref_AppliedPTransform_Reshuffle2/ReshufflePerKey/Map(reify_timestamps)_37)+(Reshuffle2/ReshufflePerKey/GroupByKey/Write))))\n",
      "I0125 14:13:48.994471 140523616286464 bundle_processor.py:291] start <DataOutputOperation Reshuffle2/ReshufflePerKey/GroupByKey/Write >\n",
      "I0125 14:13:48.996973 140523616286464 bundle_processor.py:291] start <DoOperation Reshuffle2/ReshufflePerKey/Map(reify_timestamps) output_tags=['out']>\n"
     ]
    },
    {
     "name": "stderr",
     "output_type": "stream",
     "text": [
      "I0125 14:13:49.000247 140523616286464 bundle_processor.py:291] start <DoOperation Reshuffle2/AddRandomKeys output_tags=['out']>\n",
      "I0125 14:13:49.002923 140523616286464 bundle_processor.py:291] start <DoOperation GenerateSeqex output_tags=['out']>\n",
      "I0125 14:13:49.010076 140523616286464 bundle_processor.py:291] start <DoOperation Reshuffle1/RemoveRandomKeys output_tags=['out']>\n",
      "I0125 14:13:49.012942 140523616286464 bundle_processor.py:291] start <DoOperation Reshuffle1/ReshufflePerKey/FlatMap(restore_timestamps) output_tags=['out']>\n",
      "I0125 14:13:49.015887 140523616286464 bundle_processor.py:291] start <DataInputOperation Reshuffle1/ReshufflePerKey/GroupByKey/Read receivers=[ConsumerSet[Reshuffle1/ReshufflePerKey/GroupByKey/Read.out0, coder=WindowedValueCoder[TupleCoder[LengthPrefixCoder[FastPrimitivesCoder], IterableCoder[TupleCoder[TupleCoder[BytesCoder, TupleCoder[LengthPrefixCoder[ProtoCoder], LengthPrefixCoder[FastPrimitivesCoder]]], LengthPrefixCoder[FastPrimitivesCoder]]]]], len(consumers)=1]]>\n",
      "I0125 14:16:14.285293 140523616286464 bundle_processor.py:303] finish <DataInputOperation Reshuffle1/ReshufflePerKey/GroupByKey/Read receivers=[ConsumerSet[Reshuffle1/ReshufflePerKey/GroupByKey/Read.out0, coder=WindowedValueCoder[TupleCoder[LengthPrefixCoder[FastPrimitivesCoder], IterableCoder[TupleCoder[TupleCoder[BytesCoder, TupleCoder[LengthPrefixCoder[ProtoCoder], LengthPrefixCoder[FastPrimitivesCoder]]], LengthPrefixCoder[FastPrimitivesCoder]]]]], len(consumers)=1]]>\n",
      "I0125 14:16:14.289424 140523616286464 bundle_processor.py:303] finish <DoOperation Reshuffle1/ReshufflePerKey/FlatMap(restore_timestamps) output_tags=['out'], receivers=[ConsumerSet[Reshuffle1/ReshufflePerKey/FlatMap(restore_timestamps).out0, coder=WindowedValueCoder[FastPrimitivesCoder], len(consumers)=1]]>\n",
      "I0125 14:16:14.291527 140523616286464 bundle_processor.py:303] finish <DoOperation Reshuffle1/RemoveRandomKeys output_tags=['out'], receivers=[ConsumerSet[Reshuffle1/RemoveRandomKeys.out0, coder=WindowedValueCoder[FastPrimitivesCoder], len(consumers)=1]]>\n",
      "I0125 14:16:14.294084 140523616286464 bundle_processor.py:303] finish <DoOperation GenerateSeqex output_tags=['out'], receivers=[ConsumerSet[GenerateSeqex.out0, coder=WindowedValueCoder[ProtoCoder], len(consumers)=1]]>\n",
      "I0125 14:16:14.295917 140523616286464 bundle_processor.py:303] finish <DoOperation Reshuffle2/AddRandomKeys output_tags=['out'], receivers=[ConsumerSet[Reshuffle2/AddRandomKeys.out0, coder=WindowedValueCoder[TupleCoder[FastPrimitivesCoder, ProtoCoder]], len(consumers)=1]]>\n",
      "I0125 14:16:14.298261 140523616286464 bundle_processor.py:303] finish <DoOperation Reshuffle2/ReshufflePerKey/Map(reify_timestamps) output_tags=['out'], receivers=[ConsumerSet[Reshuffle2/ReshufflePerKey/Map(reify_timestamps).out0, coder=WindowedValueCoder[TupleCoder[LengthPrefixCoder[FastPrimitivesCoder], TupleCoder[LengthPrefixCoder[ProtoCoder], LengthPrefixCoder[FastPrimitivesCoder]]]], len(consumers)=1]]>\n",
      "I0125 14:16:14.300673 140523616286464 bundle_processor.py:303] finish <DataOutputOperation Reshuffle2/ReshufflePerKey/GroupByKey/Write >\n",
      "I0125 14:16:15.009501 140523616286464 fn_api_runner.py:912] Running (Reshuffle2/ReshufflePerKey/GroupByKey/Read)+((ref_AppliedPTransform_Reshuffle2/ReshufflePerKey/FlatMap(restore_timestamps)_42)+((ref_AppliedPTransform_Reshuffle2/RemoveRandomKeys_43)+((ref_AppliedPTransform_WriteSeqex/Write/WriteImpl/ParDo(_RoundRobinKeyFn)_50)+((ref_AppliedPTransform_WriteSeqex/Write/WriteImpl/WindowInto(WindowIntoFn)_51)+(WriteSeqex/Write/WriteImpl/GroupByKey/Write)))))\n",
      "I0125 14:16:15.813438 140523616286464 bundle_processor.py:291] start <DataOutputOperation WriteSeqex/Write/WriteImpl/GroupByKey/Write >\n",
      "I0125 14:16:15.815824 140523616286464 bundle_processor.py:291] start <DoOperation WriteSeqex/Write/WriteImpl/WindowInto(WindowIntoFn) output_tags=['out']>\n",
      "I0125 14:16:15.819190 140523616286464 bundle_processor.py:291] start <DoOperation WriteSeqex/Write/WriteImpl/ParDo(_RoundRobinKeyFn) output_tags=['out']>\n",
      "I0125 14:16:15.822222 140523616286464 bundle_processor.py:291] start <DoOperation Reshuffle2/RemoveRandomKeys output_tags=['out']>\n",
      "I0125 14:16:15.824920 140523616286464 bundle_processor.py:291] start <DoOperation Reshuffle2/ReshufflePerKey/FlatMap(restore_timestamps) output_tags=['out']>\n",
      "I0125 14:16:16.008821 140523616286464 bundle_processor.py:291] start <DataInputOperation Reshuffle2/ReshufflePerKey/GroupByKey/Read receivers=[ConsumerSet[Reshuffle2/ReshufflePerKey/GroupByKey/Read.out0, coder=WindowedValueCoder[TupleCoder[LengthPrefixCoder[FastPrimitivesCoder], IterableCoder[TupleCoder[LengthPrefixCoder[ProtoCoder], LengthPrefixCoder[FastPrimitivesCoder]]]]], len(consumers)=1]]>\n",
      "I0125 14:16:51.939717 140523616286464 bundle_processor.py:303] finish <DataInputOperation Reshuffle2/ReshufflePerKey/GroupByKey/Read receivers=[ConsumerSet[Reshuffle2/ReshufflePerKey/GroupByKey/Read.out0, coder=WindowedValueCoder[TupleCoder[LengthPrefixCoder[FastPrimitivesCoder], IterableCoder[TupleCoder[LengthPrefixCoder[ProtoCoder], LengthPrefixCoder[FastPrimitivesCoder]]]]], len(consumers)=1]]>\n",
      "I0125 14:16:51.941478 140523616286464 bundle_processor.py:303] finish <DoOperation Reshuffle2/ReshufflePerKey/FlatMap(restore_timestamps) output_tags=['out'], receivers=[ConsumerSet[Reshuffle2/ReshufflePerKey/FlatMap(restore_timestamps).out0, coder=WindowedValueCoder[FastPrimitivesCoder], len(consumers)=1]]>\n",
      "I0125 14:16:51.943999 140523616286464 bundle_processor.py:303] finish <DoOperation Reshuffle2/RemoveRandomKeys output_tags=['out'], receivers=[ConsumerSet[Reshuffle2/RemoveRandomKeys.out0, coder=WindowedValueCoder[FastPrimitivesCoder], len(consumers)=1]]>\n",
      "I0125 14:16:51.946448 140523616286464 bundle_processor.py:303] finish <DoOperation WriteSeqex/Write/WriteImpl/ParDo(_RoundRobinKeyFn) output_tags=['out'], receivers=[ConsumerSet[WriteSeqex/Write/WriteImpl/ParDo(_RoundRobinKeyFn).out0, coder=WindowedValueCoder[FastPrimitivesCoder], len(consumers)=1]]>\n",
      "I0125 14:16:51.948436 140523616286464 bundle_processor.py:303] finish <DoOperation WriteSeqex/Write/WriteImpl/WindowInto(WindowIntoFn) output_tags=['out'], receivers=[ConsumerSet[WriteSeqex/Write/WriteImpl/WindowInto(WindowIntoFn).out0, coder=WindowedValueCoder[TupleCoder[LengthPrefixCoder[FastPrimitivesCoder], LengthPrefixCoder[FastPrimitivesCoder]]], len(consumers)=1]]>\n",
      "I0125 14:16:51.954741 140523616286464 bundle_processor.py:303] finish <DataOutputOperation WriteSeqex/Write/WriteImpl/GroupByKey/Write >\n",
      "I0125 14:16:52.593550 140523616286464 fn_api_runner.py:912] Running (WriteSeqex/Write/WriteImpl/GroupByKey/Read)+((ref_AppliedPTransform_WriteSeqex/Write/WriteImpl/WriteBundles_56)+(ref_PCollection_PCollection_39/Write))\n",
      "I0125 14:16:53.349514 140523616286464 bundle_processor.py:291] start <DataOutputOperation ref_PCollection_PCollection_39/Write >\n",
      "I0125 14:16:53.351025 140523616286464 bundle_processor.py:291] start <DoOperation WriteSeqex/Write/WriteImpl/WriteBundles output_tags=['out']>\n",
      "I0125 14:16:53.355271 140523616286464 bundle_processor.py:291] start <DataInputOperation WriteSeqex/Write/WriteImpl/GroupByKey/Read receivers=[ConsumerSet[WriteSeqex/Write/WriteImpl/GroupByKey/Read.out0, coder=WindowedValueCoder[TupleCoder[LengthPrefixCoder[FastPrimitivesCoder], IterableCoder[LengthPrefixCoder[FastPrimitivesCoder]]]], len(consumers)=1]]>\n",
      "I0125 14:17:04.835426 140522222835456 client.py:614] Attempting refresh to obtain initial access_token\n",
      "I0125 14:17:28.614275 140522222835456 client.py:614] Attempting refresh to obtain initial access_token\n",
      "I0125 14:17:39.762553 140523616286464 bundle_processor.py:303] finish <DataInputOperation WriteSeqex/Write/WriteImpl/GroupByKey/Read receivers=[ConsumerSet[WriteSeqex/Write/WriteImpl/GroupByKey/Read.out0, coder=WindowedValueCoder[TupleCoder[LengthPrefixCoder[FastPrimitivesCoder], IterableCoder[LengthPrefixCoder[FastPrimitivesCoder]]]], len(consumers)=1]]>\n",
      "I0125 14:17:39.765357 140523616286464 bundle_processor.py:303] finish <DoOperation WriteSeqex/Write/WriteImpl/WriteBundles output_tags=['out'], receivers=[ConsumerSet[WriteSeqex/Write/WriteImpl/WriteBundles.out0, coder=WindowedValueCoder[LengthPrefixCoder[FastPrimitivesCoder]], len(consumers)=1]]>\n",
      "I0125 14:17:39.767807 140523616286464 bundle_processor.py:303] finish <DataOutputOperation ref_PCollection_PCollection_39/Write >\n"
     ]
    },
    {
     "name": "stderr",
     "output_type": "stream",
     "text": [
      "I0125 14:17:39.928787 140523616286464 fn_api_runner.py:912] Running ((ref_PCollection_PCollection_32/Read)+(ref_AppliedPTransform_WriteSeqex/Write/WriteImpl/PreFinalize_57))+(ref_PCollection_PCollection_40/Write)\n",
      "I0125 14:17:39.944227 140523616286464 bundle_processor.py:291] start <DataOutputOperation ref_PCollection_PCollection_40/Write >\n",
      "I0125 14:17:39.946661 140523616286464 bundle_processor.py:291] start <DoOperation WriteSeqex/Write/WriteImpl/PreFinalize output_tags=['out']>\n",
      "I0125 14:17:39.950160 140523616286464 bundle_processor.py:291] start <DataInputOperation ref_PCollection_PCollection_32/Read receivers=[ConsumerSet[ref_PCollection_PCollection_32/Read.out0, coder=WindowedValueCoder[FastPrimitivesCoder], len(consumers)=1]]>\n",
      "I0125 14:17:39.955734 140523616286464 gcsio.py:446] Starting the size estimation of the input\n",
      "I0125 14:17:39.958194 140523616286464 client.py:614] Attempting refresh to obtain initial access_token\n",
      "I0125 14:17:40.041744 140523616286464 gcsio.py:460] Finished listing 0 files in 0.0860030651093 seconds.\n",
      "I0125 14:17:40.043652 140523616286464 bundle_processor.py:303] finish <DataInputOperation ref_PCollection_PCollection_32/Read receivers=[ConsumerSet[ref_PCollection_PCollection_32/Read.out0, coder=WindowedValueCoder[FastPrimitivesCoder], len(consumers)=1]]>\n",
      "I0125 14:17:40.045806 140523616286464 bundle_processor.py:303] finish <DoOperation WriteSeqex/Write/WriteImpl/PreFinalize output_tags=['out'], receivers=[ConsumerSet[WriteSeqex/Write/WriteImpl/PreFinalize.out0, coder=WindowedValueCoder[LengthPrefixCoder[FastPrimitivesCoder]], len(consumers)=1]]>\n",
      "I0125 14:17:40.048301 140523616286464 bundle_processor.py:303] finish <DataOutputOperation ref_PCollection_PCollection_40/Write >\n",
      "I0125 14:17:40.066658 140523616286464 fn_api_runner.py:912] Running (ref_PCollection_PCollection_32/Read)+(ref_AppliedPTransform_WriteSeqex/Write/WriteImpl/FinalizeWrite_58)\n",
      "I0125 14:17:40.079227 140523616286464 bundle_processor.py:291] start <DoOperation WriteSeqex/Write/WriteImpl/FinalizeWrite output_tags=['out']>\n",
      "I0125 14:17:40.082215 140523616286464 bundle_processor.py:291] start <DataInputOperation ref_PCollection_PCollection_32/Read receivers=[ConsumerSet[ref_PCollection_PCollection_32/Read.out0, coder=WindowedValueCoder[FastPrimitivesCoder], len(consumers)=1]]>\n",
      "I0125 14:17:40.087538 140523616286464 gcsio.py:446] Starting the size estimation of the input\n",
      "I0125 14:17:40.090516 140523616286464 client.py:614] Attempting refresh to obtain initial access_token\n",
      "I0125 14:17:40.178384 140523616286464 gcsio.py:460] Finished listing 2 files in 0.0908598899841 seconds.\n",
      "I0125 14:17:40.183137 140523616286464 gcsio.py:446] Starting the size estimation of the input\n",
      "I0125 14:17:40.185451 140523616286464 client.py:614] Attempting refresh to obtain initial access_token\n",
      "I0125 14:17:40.257364 140523616286464 gcsio.py:460] Finished listing 0 files in 0.0742218494415 seconds.\n",
      "I0125 14:17:40.259310 140523616286464 filebasedsink.py:290] Starting finalize_write threads with num_shards: 2 (skipped: 0), batches: 1, num_threads: 2\n",
      "I0125 14:17:40.271415 140522222835456 client.py:614] Attempting refresh to obtain initial access_token\n",
      "I0125 14:17:40.596507 140522222835456 client.py:614] Attempting refresh to obtain initial access_token\n",
      "I0125 14:17:40.900146 140523616286464 filebasedsink.py:327] Renamed 2 shards in 0.64 seconds.\n",
      "I0125 14:17:40.904707 140523616286464 client.py:614] Attempting refresh to obtain initial access_token\n",
      "I0125 14:17:41.000663 140523616286464 bundle_processor.py:303] finish <DataInputOperation ref_PCollection_PCollection_32/Read receivers=[ConsumerSet[ref_PCollection_PCollection_32/Read.out0, coder=WindowedValueCoder[FastPrimitivesCoder], len(consumers)=1]]>\n",
      "I0125 14:17:41.002979 140523616286464 bundle_processor.py:303] finish <DoOperation WriteSeqex/Write/WriteImpl/FinalizeWrite output_tags=['out'], receivers=[ConsumerSet[WriteSeqex/Write/WriteImpl/FinalizeWrite.out0, coder=WindowedValueCoder[FastPrimitivesCoder], len(consumers)=0]]>\n"
     ]
    },
    {
     "name": "stdout",
     "output_type": "stream",
     "text": [
      "329.681813002\n"
     ]
    }
   ],
   "source": [
    "start = time.time()\n",
    "p.run().wait_until_finish()\n",
    "end = time.time()\n",
    "print(end-start)"
   ]
  },
  {
   "cell_type": "markdown",
   "metadata": {},
   "source": [
    "YAY!!"
   ]
  }
 ],
 "metadata": {
  "kernelspec": {
   "display_name": "Python 2",
   "language": "python",
   "name": "python2"
  },
  "language_info": {
   "codemirror_mode": {
    "name": "ipython",
    "version": 2
   },
   "file_extension": ".py",
   "mimetype": "text/x-python",
   "name": "python",
   "nbconvert_exporter": "python",
   "pygments_lexer": "ipython2",
   "version": "2.7.15"
  }
 },
 "nbformat": 4,
 "nbformat_minor": 2
}
