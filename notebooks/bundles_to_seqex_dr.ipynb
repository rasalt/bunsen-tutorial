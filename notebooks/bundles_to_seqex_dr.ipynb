{
 "cells": [
  {
   "cell_type": "markdown",
   "metadata": {},
   "source": [
    "## This notebook demonstrates bundles to seqex example"
   ]
  },
  {
   "cell_type": "markdown",
   "metadata": {},
   "source": [
    "Install packages required for apache-beam and protobuf"
   ]
  },
  {
   "cell_type": "code",
   "execution_count": 1,
   "metadata": {},
   "outputs": [
    {
     "name": "stderr",
     "output_type": "stream",
     "text": [
      "/usr/local/envs/py2env/lib/python2.7/site-packages/ipykernel/__main__.py:12: ImportWarning: Not importing directory '/usr/local/fhir/proto': missing __init__.py\n",
      "/usr/local/envs/py2env/lib/python2.7/site-packages/h5py/__init__.py:36: RuntimeWarning: numpy.dtype size changed, may indicate binary incompatibility. Expected 96, got 88\n",
      "  from ._conv import register_converters as _register_converters\n",
      "/usr/local/envs/py2env/lib/python2.7/site-packages/h5py/__init__.py:36: FutureWarning: Conversion of the second argument of issubdtype from `float` to `np.floating` is deprecated. In future, it will be treated as `np.float64 == np.dtype(float).type`.\n",
      "  from ._conv import register_converters as _register_converters\n",
      "/usr/local/envs/py2env/lib/python2.7/site-packages/h5py/_hl/group.py:22: RuntimeWarning: numpy.dtype size changed, may indicate binary incompatibility. Expected 96, got 88\n",
      "  from .. import h5g, h5i, h5o, h5r, h5t, h5l, h5p\n",
      "/usr/local/envs/py2env/lib/python2.7/site-packages/scipy/ndimage/measurements.py:36: RuntimeWarning: numpy.dtype size changed, may indicate binary incompatibility. Expected 96, got 88\n",
      "  from . import _ni_label\n"
     ]
    }
   ],
   "source": [
    "from __future__ import absolute_import\n",
    "from __future__ import division\n",
    "from __future__ import print_function\n",
    "import logging\n",
    "logger = logging.getLogger()\n",
    "logger.setLevel(logging.INFO)\n",
    "\n",
    "from absl import app\n",
    "from absl import flags\n",
    "import apache_beam as beam\n",
    "from google.protobuf import text_format\n",
    "from proto.stu3 import google_extensions_pb2\n",
    "from proto.stu3 import resources_pb2\n",
    "from proto.stu3 import version_config_pb2\n",
    "from tensorflow.core.example import example_pb2\n",
    "from py.google.fhir.seqex import bundle_to_seqex"
   ]
  },
  {
   "cell_type": "code",
   "execution_count": 2,
   "metadata": {},
   "outputs": [],
   "source": [
    "def _get_version_config(version_config_path):\n",
    "  with open(version_config_path) as f:\n",
    "    return text_format.Parse(f.read(), version_config_pb2.VersionConfig())"
   ]
  },
  {
   "cell_type": "markdown",
   "metadata": {},
   "source": [
    "# Initialize variables"
   ]
  },
  {
   "cell_type": "code",
   "execution_count": 3,
   "metadata": {},
   "outputs": [],
   "source": [
    "from apache_beam.options.pipeline_options import GoogleCloudOptions\n",
    "from apache_beam.options.pipeline_options import StandardOptions\n",
    "from apache_beam.options.pipeline_options import SetupOptions\n",
    "from apache_beam.options.pipeline_options import PipelineOptions\n",
    "\n",
    "from apache_beam.io import ReadFromText\n",
    "from apache_beam.io import WriteToText\n",
    "from apache_beam.metrics import Metrics\n",
    "from apache_beam.metrics.metric import MetricsFilter\n",
    "\n",
    "import apache_beam as beam\n",
    "import re\n",
    "\n",
    "options = PipelineOptions()\n",
    "google_cloud_options = options.view_as(GoogleCloudOptions)\n",
    "google_cloud_options.project = 'de-test-224618'\n",
    "google_cloud_options.job_name = 'job1'\n",
    "google_cloud_options.staging_location = 'gs://healthedatalab/staging'\n",
    "google_cloud_options.temp_location = 'gs://healthedatalab/temp'\n",
    "options.view_as(StandardOptions).runner = 'DirectRunner'\n"
   ]
  },
  {
   "cell_type": "code",
   "execution_count": 6,
   "metadata": {},
   "outputs": [],
   "source": [
    "input_path = 'gs://healthedatalab/synthea/bundles/bundles*'\n",
    "label_path = 'gs://healthedatalab/synthea/labels/label*'\n",
    "output_path = 'gs://healthedatalab/synthea/seqex/seqex'"
   ]
  },
  {
   "cell_type": "markdown",
   "metadata": {},
   "source": [
    "## Transform definition"
   ]
  },
  {
   "cell_type": "code",
   "execution_count": 7,
   "metadata": {},
   "outputs": [
    {
     "name": "stderr",
     "output_type": "stream",
     "text": [
      "I0115 17:03:25.187494 140220694857472 gcsio.py:446] Starting the size estimation of the input\n",
      "I0115 17:03:25.190587 140220694857472 client.py:614] Attempting refresh to obtain initial access_token\n",
      "I0115 17:03:25.299873 140220694857472 gcsio.py:460] Finished listing 9 files in 0.112375020981 seconds.\n",
      "I0115 17:03:25.321052 140220694857472 gcsio.py:446] Starting the size estimation of the input\n",
      "I0115 17:03:25.324073 140220694857472 client.py:614] Attempting refresh to obtain initial access_token\n",
      "I0115 17:03:25.409007 140220694857472 gcsio.py:460] Finished listing 1 files in 0.0879609584808 seconds.\n"
     ]
    }
   ],
   "source": [
    "p = beam.Pipeline(options=options)\n",
    "#version_config = _get_version_config(\"gs://seqex/testdata/version_config.textproto\")\n",
    "version_config = _get_version_config(\"/usr/local/fhir/proto/stu3/version_config.textproto\")\n",
    "\n",
    "keyed_bundles = ( \n",
    "    p \n",
    "    | 'readBundles' >> beam.io.ReadFromTFRecord(\n",
    "        input_path, coder=beam.coders.ProtoCoder(resources_pb2.Bundle))\n",
    "    | 'KeyBundlesByPatientId' >> beam.ParDo(\n",
    "        bundle_to_seqex.KeyBundleByPatientIdFn()))\n",
    "event_labels = ( \n",
    "    p | 'readEventLabels' >> beam.io.ReadFromTFRecord(\n",
    "        label_path,\n",
    "        coder=beam.coders.ProtoCoder(google_extensions_pb2.EventLabel)))\n",
    "keyed_event_labels = bundle_to_seqex.CreateTriggerLabelsPairLists(\n",
    "    event_labels)\n",
    "bundles_and_labels = bundle_to_seqex.CreateBundleAndLabels(\n",
    "    keyed_bundles, keyed_event_labels)\n",
    "_ = ( \n",
    "    bundles_and_labels\n",
    "    | 'Reshuffle1' >> beam.Reshuffle()\n",
    "    | 'GenerateSeqex' >> beam.ParDo(\n",
    "        bundle_to_seqex.BundleAndLabelsToSeqexDoFn(\n",
    "            version_config=version_config,\n",
    "            enable_attribution=False,\n",
    "            generate_sequence_label=False))\n",
    "    | 'Reshuffle2' >> beam.Reshuffle()\n",
    "    | 'WriteSeqex' >> beam.io.WriteToTFRecord(\n",
    "        output_path,\n",
    "        coder=beam.coders.ProtoCoder(example_pb2.SequenceExample)))\n"
   ]
  },
  {
   "cell_type": "markdown",
   "metadata": {},
   "source": [
    "Run the transform"
   ]
  },
  {
   "cell_type": "code",
   "execution_count": 8,
   "metadata": {},
   "outputs": [
    {
     "name": "stderr",
     "output_type": "stream",
     "text": [
      "I0115 17:03:28.478152 140220694857472 fn_api_runner.py:844] ==================== <function annotate_downstream_side_inputs at 0x7f876a3e4b90> ====================\n",
      "I0115 17:03:28.480693 140220694857472 fn_api_runner.py:844] ==================== <function fix_side_input_pcoll_coders at 0x7f876a3e4de8> ====================\n",
      "I0115 17:03:28.484848 140220694857472 fn_api_runner.py:844] ==================== <function lift_combiners at 0x7f876a3e4c80> ====================\n",
      "I0115 17:03:28.487267 140220694857472 fn_api_runner.py:844] ==================== <function expand_gbk at 0x7f876a3e4c08> ====================\n",
      "I0115 17:03:28.493345 140220694857472 fn_api_runner.py:844] ==================== <function sink_flattens at 0x7f876a3e4938> ====================\n",
      "I0115 17:03:28.495371 140220694857472 fn_api_runner.py:844] ==================== <function greedily_fuse at 0x7f876a3e47d0> ====================\n",
      "I0115 17:03:28.499965 140220694857472 fn_api_runner.py:844] ==================== <function sort_stages at 0x7f876a3e4500> ====================\n",
      "I0115 17:03:28.502358 140220694857472 fn_api_runner.py:912] Running ((ref_AppliedPTransform_readBundles/Read_3)+((ref_AppliedPTransform_KeyBundlesByPatientId_4)+(ref_AppliedPTransform_GroupBundleAndTriggers/pair_with_bundle_15)))+((GroupBundleAndTriggers/Flatten/Transcode/0)+(GroupBundleAndTriggers/Flatten/Write/0))\n",
      "I0115 17:03:28.513035 140220694857472 bundle_processor.py:291] start <DataOutputOperation GroupBundleAndTriggers/Flatten/Write/0 >\n",
      "I0115 17:03:28.514566 140220694857472 bundle_processor.py:291] start <FlattenOperation GroupBundleAndTriggers/Flatten/Transcode/0 >\n",
      "I0115 17:03:28.516977 140220694857472 bundle_processor.py:291] start <DoOperation GroupBundleAndTriggers/pair_with_bundle output_tags=['out']>\n",
      "I0115 17:03:28.520546 140220694857472 bundle_processor.py:291] start <DoOperation KeyBundlesByPatientId output_tags=['out']>\n",
      "I0115 17:03:28.523725 140220694857472 bundle_processor.py:291] start <ReadOperation readBundles/Read source=SourceBundle(weight=1.0, source=<apache_beam.io.tfrecordio._TFRecordSource object at 0x7f8769ac44d0>, start_position=None, stop_position=None)>\n",
      "I0115 17:03:28.533575 140220694857472 gcsio.py:446] Starting the size estimation of the input\n",
      "I0115 17:03:28.536943 140220694857472 client.py:614] Attempting refresh to obtain initial access_token\n",
      "I0115 17:03:28.628521 140220694857472 gcsio.py:460] Finished listing 9 files in 0.0949509143829 seconds.\n",
      "I0115 17:03:28.635011 140220694857472 client.py:614] Attempting refresh to obtain initial access_token\n",
      "I0115 17:03:33.692598 140220694857472 client.py:614] Attempting refresh to obtain initial access_token\n",
      "I0115 17:03:39.197447 140220694857472 client.py:614] Attempting refresh to obtain initial access_token\n",
      "I0115 17:03:42.923760 140220694857472 client.py:614] Attempting refresh to obtain initial access_token\n",
      "I0115 17:03:46.878303 140220694857472 client.py:614] Attempting refresh to obtain initial access_token\n",
      "I0115 17:03:50.465267 140220694857472 client.py:614] Attempting refresh to obtain initial access_token\n",
      "I0115 17:03:55.473952 140220694857472 client.py:614] Attempting refresh to obtain initial access_token\n",
      "I0115 17:04:01.256026 140220694857472 client.py:614] Attempting refresh to obtain initial access_token\n",
      "I0115 17:04:05.066203 140220694857472 client.py:614] Attempting refresh to obtain initial access_token\n",
      "I0115 17:04:09.477716 140220694857472 bundle_processor.py:303] finish <ReadOperation readBundles/Read source=SourceBundle(weight=1.0, source=<apache_beam.io.tfrecordio._TFRecordSource object at 0x7f8769ac44d0>, start_position=None, stop_position=None), receivers=[ConsumerSet[readBundles/Read.out0, coder=WindowedValueCoder[FastPrimitivesCoder], len(consumers)=1]]>\n",
      "I0115 17:04:09.479738 140220694857472 bundle_processor.py:303] finish <DoOperation KeyBundlesByPatientId output_tags=['out'], receivers=[ConsumerSet[KeyBundlesByPatientId.out0, coder=WindowedValueCoder[TupleCoder[BytesCoder, ProtoCoder]], len(consumers)=1]]>\n",
      "I0115 17:04:09.481668 140220694857472 bundle_processor.py:303] finish <DoOperation GroupBundleAndTriggers/pair_with_bundle output_tags=['out'], receivers=[ConsumerSet[GroupBundleAndTriggers/pair_with_bundle.out0, coder=WindowedValueCoder[TupleCoder[LengthPrefixCoder[FastPrimitivesCoder], LengthPrefixCoder[FastPrimitivesCoder]]], len(consumers)=1]]>\n",
      "I0115 17:04:09.483510 140220694857472 bundle_processor.py:303] finish <FlattenOperation GroupBundleAndTriggers/Flatten/Transcode/0 receivers=[ConsumerSet[GroupBundleAndTriggers/Flatten/Transcode/0.out0, coder=WindowedValueCoder[TupleCoder[LengthPrefixCoder[FastPrimitivesCoder], LengthPrefixCoder[FastPrimitivesCoder]]], len(consumers)=1]]>\n",
      "I0115 17:04:09.485045 140220694857472 bundle_processor.py:303] finish <DataOutputOperation GroupBundleAndTriggers/Flatten/Write/0 >\n",
      "I0115 17:04:11.586882 140220694857472 fn_api_runner.py:912] Running (ref_AppliedPTransform_readEventLabels/Read_6)+((ref_AppliedPTransform_KeyEventLabelsByPatientId_7)+(GroupEventLabelsByPatientId/Write))\n",
      "I0115 17:04:11.596616 140220694857472 bundle_processor.py:291] start <DataOutputOperation GroupEventLabelsByPatientId/Write >\n",
      "I0115 17:04:11.599200 140220694857472 bundle_processor.py:291] start <DoOperation KeyEventLabelsByPatientId output_tags=['out']>\n",
      "I0115 17:04:11.602657 140220694857472 bundle_processor.py:291] start <ReadOperation readEventLabels/Read source=SourceBundle(weight=1.0, source=<apache_beam.io.tfrecordio._TFRecordSource object at 0x7f87689a4f50>, start_position=None, stop_position=None)>\n",
      "I0115 17:04:11.607748 140220694857472 gcsio.py:446] Starting the size estimation of the input\n",
      "I0115 17:04:11.609997 140220694857472 client.py:614] Attempting refresh to obtain initial access_token\n",
      "I0115 17:04:11.692622 140220694857472 gcsio.py:460] Finished listing 1 files in 0.0848641395569 seconds.\n",
      "I0115 17:04:11.699202 140220694857472 client.py:614] Attempting refresh to obtain initial access_token\n",
      "I0115 17:04:11.967529 140220694857472 bundle_processor.py:303] finish <ReadOperation readEventLabels/Read source=SourceBundle(weight=1.0, source=<apache_beam.io.tfrecordio._TFRecordSource object at 0x7f87689a4f50>, start_position=None, stop_position=None), receivers=[ConsumerSet[readEventLabels/Read.out0, coder=WindowedValueCoder[FastPrimitivesCoder], len(consumers)=1]]>\n",
      "I0115 17:04:11.970002 140220694857472 bundle_processor.py:303] finish <DoOperation KeyEventLabelsByPatientId output_tags=['out'], receivers=[ConsumerSet[KeyEventLabelsByPatientId.out0, coder=WindowedValueCoder[TupleCoder[BytesCoder, LengthPrefixCoder[ProtoCoder]]], len(consumers)=1]]>\n",
      "I0115 17:04:11.972629 140220694857472 bundle_processor.py:303] finish <DataOutputOperation GroupEventLabelsByPatientId/Write >\n",
      "I0115 17:04:12.052498 140220694857472 fn_api_runner.py:912] Running (((GroupEventLabelsByPatientId/Read)+(ref_AppliedPTransform_CreateTriggerLabelsPairLists_12))+((ref_AppliedPTransform_GroupBundleAndTriggers/pair_with_trigger_labels_pair_lists_14)+(GroupBundleAndTriggers/Flatten/Transcode/1)))+(GroupBundleAndTriggers/Flatten/Write/1)\n",
      "I0115 17:04:12.067873 140220694857472 bundle_processor.py:291] start <DataOutputOperation GroupBundleAndTriggers/Flatten/Write/1 >\n",
      "I0115 17:04:12.070441 140220694857472 bundle_processor.py:291] start <FlattenOperation GroupBundleAndTriggers/Flatten/Transcode/1 >\n",
      "I0115 17:04:12.072573 140220694857472 bundle_processor.py:291] start <DoOperation GroupBundleAndTriggers/pair_with_trigger_labels_pair_lists output_tags=['out']>\n",
      "I0115 17:04:12.076529 140220694857472 bundle_processor.py:291] start <DoOperation CreateTriggerLabelsPairLists output_tags=['out']>\n",
      "I0115 17:04:12.079874 140220694857472 bundle_processor.py:291] start <DataInputOperation GroupEventLabelsByPatientId/Read receivers=[ConsumerSet[GroupEventLabelsByPatientId/Read.out0, coder=WindowedValueCoder[TupleCoder[BytesCoder, IterableCoder[LengthPrefixCoder[ProtoCoder]]]], len(consumers)=1]]>\n",
      "I0115 17:04:12.198435 140220694857472 bundle_processor.py:303] finish <DataInputOperation GroupEventLabelsByPatientId/Read receivers=[ConsumerSet[GroupEventLabelsByPatientId/Read.out0, coder=WindowedValueCoder[TupleCoder[BytesCoder, IterableCoder[LengthPrefixCoder[ProtoCoder]]]], len(consumers)=1]]>\n"
     ]
    },
    {
     "name": "stderr",
     "output_type": "stream",
     "text": [
      "I0115 17:04:12.200643 140220694857472 bundle_processor.py:303] finish <DoOperation CreateTriggerLabelsPairLists output_tags=['out'], receivers=[ConsumerSet[CreateTriggerLabelsPairLists.out0, coder=WindowedValueCoder[TupleCoder[BytesCoder, FastPrimitivesCoder]], len(consumers)=1]]>\n",
      "I0115 17:04:12.202689 140220694857472 bundle_processor.py:303] finish <DoOperation GroupBundleAndTriggers/pair_with_trigger_labels_pair_lists output_tags=['out'], receivers=[ConsumerSet[GroupBundleAndTriggers/pair_with_trigger_labels_pair_lists.out0, coder=WindowedValueCoder[TupleCoder[LengthPrefixCoder[FastPrimitivesCoder], LengthPrefixCoder[FastPrimitivesCoder]]], len(consumers)=1]]>\n",
      "I0115 17:04:12.205409 140220694857472 bundle_processor.py:303] finish <FlattenOperation GroupBundleAndTriggers/Flatten/Transcode/1 receivers=[ConsumerSet[GroupBundleAndTriggers/Flatten/Transcode/1.out0, coder=WindowedValueCoder[TupleCoder[LengthPrefixCoder[FastPrimitivesCoder], LengthPrefixCoder[FastPrimitivesCoder]]], len(consumers)=1]]>\n",
      "I0115 17:04:12.208360 140220694857472 bundle_processor.py:303] finish <DataOutputOperation GroupBundleAndTriggers/Flatten/Write/1 >\n",
      "I0115 17:04:12.215639 140220694857472 fn_api_runner.py:912] Running (GroupBundleAndTriggers/Flatten/Read)+(GroupBundleAndTriggers/GroupByKey/Write)\n",
      "I0115 17:04:13.575007 140220694857472 bundle_processor.py:291] start <DataOutputOperation GroupBundleAndTriggers/GroupByKey/Write >\n",
      "I0115 17:04:13.577570 140220694857472 bundle_processor.py:291] start <DataInputOperation GroupBundleAndTriggers/Flatten/Read receivers=[ConsumerSet[GroupBundleAndTriggers/Flatten/Read.out0, coder=WindowedValueCoder[TupleCoder[LengthPrefixCoder[FastPrimitivesCoder], LengthPrefixCoder[FastPrimitivesCoder]]], len(consumers)=1]]>\n",
      "I0115 17:04:42.924948 140220694857472 bundle_processor.py:303] finish <DataInputOperation GroupBundleAndTriggers/Flatten/Read receivers=[ConsumerSet[GroupBundleAndTriggers/Flatten/Read.out0, coder=WindowedValueCoder[TupleCoder[LengthPrefixCoder[FastPrimitivesCoder], LengthPrefixCoder[FastPrimitivesCoder]]], len(consumers)=1]]>\n",
      "I0115 17:04:42.928208 140220694857472 bundle_processor.py:303] finish <DataOutputOperation GroupBundleAndTriggers/GroupByKey/Write >\n",
      "I0115 17:04:44.469631 140220694857472 fn_api_runner.py:912] Running (GroupBundleAndTriggers/GroupByKey/Read)+((ref_AppliedPTransform_GroupBundleAndTriggers/Map(_merge_tagged_vals_under_key)_21)+((ref_AppliedPTransform_JoinBundleAndTriggers_22)+((ref_AppliedPTransform_Reshuffle1/AddRandomKeys_24)+((ref_AppliedPTransform_Reshuffle1/ReshufflePerKey/Map(reify_timestamps)_26)+(Reshuffle1/ReshufflePerKey/GroupByKey/Write)))))\n",
      "I0115 17:04:46.101772 140220694857472 bundle_processor.py:291] start <DataOutputOperation Reshuffle1/ReshufflePerKey/GroupByKey/Write >\n",
      "I0115 17:04:46.103614 140220694857472 bundle_processor.py:291] start <DoOperation Reshuffle1/ReshufflePerKey/Map(reify_timestamps) output_tags=['out']>\n",
      "I0115 17:04:46.107681 140220694857472 bundle_processor.py:291] start <DoOperation Reshuffle1/AddRandomKeys output_tags=['out']>\n",
      "I0115 17:04:46.110507 140220694857472 bundle_processor.py:291] start <DoOperation JoinBundleAndTriggers output_tags=['out']>\n",
      "I0115 17:04:46.112931 140220694857472 bundle_processor.py:291] start <DoOperation GroupBundleAndTriggers/Map(_merge_tagged_vals_under_key) output_tags=['out']>\n",
      "I0115 17:04:46.115767 140220694857472 bundle_processor.py:291] start <DataInputOperation GroupBundleAndTriggers/GroupByKey/Read receivers=[ConsumerSet[GroupBundleAndTriggers/GroupByKey/Read.out0, coder=WindowedValueCoder[TupleCoder[LengthPrefixCoder[FastPrimitivesCoder], IterableCoder[LengthPrefixCoder[FastPrimitivesCoder]]]], len(consumers)=1]]>\n",
      "I0115 17:05:07.973123 140220694857472 bundle_processor.py:303] finish <DataInputOperation GroupBundleAndTriggers/GroupByKey/Read receivers=[ConsumerSet[GroupBundleAndTriggers/GroupByKey/Read.out0, coder=WindowedValueCoder[TupleCoder[LengthPrefixCoder[FastPrimitivesCoder], IterableCoder[LengthPrefixCoder[FastPrimitivesCoder]]]], len(consumers)=1]]>\n",
      "I0115 17:05:07.974898 140220694857472 bundle_processor.py:303] finish <DoOperation GroupBundleAndTriggers/Map(_merge_tagged_vals_under_key) output_tags=['out'], receivers=[ConsumerSet[GroupBundleAndTriggers/Map(_merge_tagged_vals_under_key).out0, coder=WindowedValueCoder[FastPrimitivesCoder], len(consumers)=1]]>\n",
      "I0115 17:05:07.977946 140220694857472 bundle_processor.py:303] finish <DoOperation JoinBundleAndTriggers output_tags=['out'], receivers=[ConsumerSet[JoinBundleAndTriggers.out0, coder=WindowedValueCoder[TupleCoder[BytesCoder, TupleCoder[ProtoCoder, FastPrimitivesCoder]]], len(consumers)=1]]>\n",
      "I0115 17:05:07.980459 140220694857472 bundle_processor.py:303] finish <DoOperation Reshuffle1/AddRandomKeys output_tags=['out'], receivers=[ConsumerSet[Reshuffle1/AddRandomKeys.out0, coder=WindowedValueCoder[TupleCoder[FastPrimitivesCoder, TupleCoder[BytesCoder, TupleCoder[ProtoCoder, FastPrimitivesCoder]]]], len(consumers)=1]]>\n",
      "I0115 17:05:07.982804 140220694857472 bundle_processor.py:303] finish <DoOperation Reshuffle1/ReshufflePerKey/Map(reify_timestamps) output_tags=['out'], receivers=[ConsumerSet[Reshuffle1/ReshufflePerKey/Map(reify_timestamps).out0, coder=WindowedValueCoder[TupleCoder[LengthPrefixCoder[FastPrimitivesCoder], TupleCoder[TupleCoder[BytesCoder, TupleCoder[LengthPrefixCoder[ProtoCoder], LengthPrefixCoder[FastPrimitivesCoder]]], LengthPrefixCoder[FastPrimitivesCoder]]]], len(consumers)=1]]>\n",
      "I0115 17:05:07.985872 140220694857472 bundle_processor.py:303] finish <DataOutputOperation Reshuffle1/ReshufflePerKey/GroupByKey/Write >\n",
      "I0115 17:05:08.356091 140220694857472 fn_api_runner.py:912] Running (Reshuffle1/ReshufflePerKey/GroupByKey/Read)+(((ref_AppliedPTransform_Reshuffle1/ReshufflePerKey/FlatMap(restore_timestamps)_31)+(ref_AppliedPTransform_Reshuffle1/RemoveRandomKeys_32))+(((ref_AppliedPTransform_GenerateSeqex_33)+(ref_AppliedPTransform_Reshuffle2/AddRandomKeys_35))+((ref_AppliedPTransform_Reshuffle2/ReshufflePerKey/Map(reify_timestamps)_37)+(Reshuffle2/ReshufflePerKey/GroupByKey/Write))))\n",
      "I0115 17:05:08.696774 140220694857472 bundle_processor.py:291] start <DataOutputOperation Reshuffle2/ReshufflePerKey/GroupByKey/Write >\n",
      "I0115 17:05:08.698710 140220694857472 bundle_processor.py:291] start <DoOperation Reshuffle2/ReshufflePerKey/Map(reify_timestamps) output_tags=['out']>\n",
      "I0115 17:05:08.702227 140220694857472 bundle_processor.py:291] start <DoOperation Reshuffle2/AddRandomKeys output_tags=['out']>\n",
      "I0115 17:05:08.705590 140220694857472 bundle_processor.py:291] start <DoOperation GenerateSeqex output_tags=['out']>\n",
      "I0115 17:05:08.709666 140220694857472 bundle_processor.py:291] start <DoOperation Reshuffle1/RemoveRandomKeys output_tags=['out']>\n",
      "I0115 17:05:08.713323 140220694857472 bundle_processor.py:291] start <DoOperation Reshuffle1/ReshufflePerKey/FlatMap(restore_timestamps) output_tags=['out']>\n",
      "I0115 17:05:08.715960 140220694857472 bundle_processor.py:291] start <DataInputOperation Reshuffle1/ReshufflePerKey/GroupByKey/Read receivers=[ConsumerSet[Reshuffle1/ReshufflePerKey/GroupByKey/Read.out0, coder=WindowedValueCoder[TupleCoder[LengthPrefixCoder[FastPrimitivesCoder], IterableCoder[TupleCoder[TupleCoder[BytesCoder, TupleCoder[LengthPrefixCoder[ProtoCoder], LengthPrefixCoder[FastPrimitivesCoder]]], LengthPrefixCoder[FastPrimitivesCoder]]]]], len(consumers)=1]]>\n",
      "I0115 17:07:40.927278 140220694857472 bundle_processor.py:303] finish <DataInputOperation Reshuffle1/ReshufflePerKey/GroupByKey/Read receivers=[ConsumerSet[Reshuffle1/ReshufflePerKey/GroupByKey/Read.out0, coder=WindowedValueCoder[TupleCoder[LengthPrefixCoder[FastPrimitivesCoder], IterableCoder[TupleCoder[TupleCoder[BytesCoder, TupleCoder[LengthPrefixCoder[ProtoCoder], LengthPrefixCoder[FastPrimitivesCoder]]], LengthPrefixCoder[FastPrimitivesCoder]]]]], len(consumers)=1]]>\n",
      "I0115 17:07:40.950416 140220694857472 bundle_processor.py:303] finish <DoOperation Reshuffle1/ReshufflePerKey/FlatMap(restore_timestamps) output_tags=['out'], receivers=[ConsumerSet[Reshuffle1/ReshufflePerKey/FlatMap(restore_timestamps).out0, coder=WindowedValueCoder[FastPrimitivesCoder], len(consumers)=1]]>\n",
      "I0115 17:07:40.953363 140220694857472 bundle_processor.py:303] finish <DoOperation Reshuffle1/RemoveRandomKeys output_tags=['out'], receivers=[ConsumerSet[Reshuffle1/RemoveRandomKeys.out0, coder=WindowedValueCoder[FastPrimitivesCoder], len(consumers)=1]]>\n"
     ]
    },
    {
     "name": "stderr",
     "output_type": "stream",
     "text": [
      "I0115 17:07:40.954925 140220694857472 bundle_processor.py:303] finish <DoOperation GenerateSeqex output_tags=['out'], receivers=[ConsumerSet[GenerateSeqex.out0, coder=WindowedValueCoder[ProtoCoder], len(consumers)=1]]>\n",
      "I0115 17:07:40.956585 140220694857472 bundle_processor.py:303] finish <DoOperation Reshuffle2/AddRandomKeys output_tags=['out'], receivers=[ConsumerSet[Reshuffle2/AddRandomKeys.out0, coder=WindowedValueCoder[TupleCoder[FastPrimitivesCoder, ProtoCoder]], len(consumers)=1]]>\n",
      "I0115 17:07:40.959649 140220694857472 bundle_processor.py:303] finish <DoOperation Reshuffle2/ReshufflePerKey/Map(reify_timestamps) output_tags=['out'], receivers=[ConsumerSet[Reshuffle2/ReshufflePerKey/Map(reify_timestamps).out0, coder=WindowedValueCoder[TupleCoder[LengthPrefixCoder[FastPrimitivesCoder], TupleCoder[LengthPrefixCoder[ProtoCoder], LengthPrefixCoder[FastPrimitivesCoder]]]], len(consumers)=1]]>\n",
      "I0115 17:07:40.961956 140220694857472 bundle_processor.py:303] finish <DataOutputOperation Reshuffle2/ReshufflePerKey/GroupByKey/Write >\n",
      "I0115 17:07:41.498337 140220694857472 fn_api_runner.py:912] Running ((ref_AppliedPTransform_WriteSeqex/Write/WriteImpl/DoOnce/Read_48)+((ref_AppliedPTransform_WriteSeqex/Write/WriteImpl/InitializeWrite_49)+(ref_PCollection_PCollection_33/Write)))+(ref_PCollection_PCollection_32/Write)\n",
      "I0115 17:07:41.511125 140220694857472 bundle_processor.py:291] start <DataOutputOperation ref_PCollection_PCollection_33/Write >\n",
      "I0115 17:07:41.513622 140220694857472 bundle_processor.py:291] start <DataOutputOperation ref_PCollection_PCollection_32/Write >\n",
      "I0115 17:07:41.515697 140220694857472 bundle_processor.py:291] start <DoOperation WriteSeqex/Write/WriteImpl/InitializeWrite output_tags=['out']>\n",
      "I0115 17:07:41.519500 140220694857472 bundle_processor.py:291] start <ReadOperation WriteSeqex/Write/WriteImpl/DoOnce/Read source=SourceBundle(weight=1.0, source=<apache_beam.transforms.create_source._CreateSource object at 0x7f876a9f1550>, start_position=None, stop_position=None)>\n",
      "I0115 17:07:41.521955 140220694857472 bundle_processor.py:303] finish <ReadOperation WriteSeqex/Write/WriteImpl/DoOnce/Read source=SourceBundle(weight=1.0, source=<apache_beam.transforms.create_source._CreateSource object at 0x7f876a9f1550>, start_position=None, stop_position=None), receivers=[ConsumerSet[WriteSeqex/Write/WriteImpl/DoOnce/Read.out0, coder=WindowedValueCoder[FastPrimitivesCoder], len(consumers)=2]]>\n",
      "I0115 17:07:41.523730 140220694857472 bundle_processor.py:303] finish <DoOperation WriteSeqex/Write/WriteImpl/InitializeWrite output_tags=['out'], receivers=[ConsumerSet[WriteSeqex/Write/WriteImpl/InitializeWrite.out0, coder=WindowedValueCoder[LengthPrefixCoder[FastPrimitivesCoder]], len(consumers)=1]]>\n",
      "I0115 17:07:41.525594 140220694857472 bundle_processor.py:303] finish <DataOutputOperation ref_PCollection_PCollection_32/Write >\n",
      "I0115 17:07:41.527606 140220694857472 bundle_processor.py:303] finish <DataOutputOperation ref_PCollection_PCollection_33/Write >\n",
      "I0115 17:07:41.534127 140220694857472 fn_api_runner.py:912] Running (Reshuffle2/ReshufflePerKey/GroupByKey/Read)+((ref_AppliedPTransform_Reshuffle2/ReshufflePerKey/FlatMap(restore_timestamps)_42)+((ref_AppliedPTransform_Reshuffle2/RemoveRandomKeys_43)+(((ref_AppliedPTransform_WriteSeqex/Write/WriteImpl/WriteBundles_50)+((ref_AppliedPTransform_WriteSeqex/Write/WriteImpl/Pair_51)+(ref_AppliedPTransform_WriteSeqex/Write/WriteImpl/WindowInto(WindowIntoFn)_52)))+(WriteSeqex/Write/WriteImpl/GroupByKey/Write))))\n",
      "I0115 17:07:42.173105 140220694857472 bundle_processor.py:291] start <DataOutputOperation WriteSeqex/Write/WriteImpl/GroupByKey/Write >\n",
      "I0115 17:07:42.174601 140220694857472 bundle_processor.py:291] start <DoOperation WriteSeqex/Write/WriteImpl/WindowInto(WindowIntoFn) output_tags=['out']>\n",
      "I0115 17:07:42.178019 140220694857472 bundle_processor.py:291] start <DoOperation WriteSeqex/Write/WriteImpl/Pair output_tags=['out']>\n",
      "I0115 17:07:42.180371 140220694857472 bundle_processor.py:291] start <DoOperation WriteSeqex/Write/WriteImpl/WriteBundles output_tags=['out']>\n",
      "I0115 17:07:42.183888 140220694857472 bundle_processor.py:291] start <DoOperation Reshuffle2/RemoveRandomKeys output_tags=['out']>\n",
      "I0115 17:07:42.186602 140220694857472 bundle_processor.py:291] start <DoOperation Reshuffle2/ReshufflePerKey/FlatMap(restore_timestamps) output_tags=['out']>\n",
      "I0115 17:07:42.189126 140220694857472 bundle_processor.py:291] start <DataInputOperation Reshuffle2/ReshufflePerKey/GroupByKey/Read receivers=[ConsumerSet[Reshuffle2/ReshufflePerKey/GroupByKey/Read.out0, coder=WindowedValueCoder[TupleCoder[LengthPrefixCoder[FastPrimitivesCoder], IterableCoder[TupleCoder[LengthPrefixCoder[ProtoCoder], LengthPrefixCoder[FastPrimitivesCoder]]]]], len(consumers)=1]]>\n",
      "I0115 17:07:42.534202 140219546859264 client.py:614] Attempting refresh to obtain initial access_token\n",
      "I0115 17:08:20.377048 140220694857472 bundle_processor.py:303] finish <DataInputOperation Reshuffle2/ReshufflePerKey/GroupByKey/Read receivers=[ConsumerSet[Reshuffle2/ReshufflePerKey/GroupByKey/Read.out0, coder=WindowedValueCoder[TupleCoder[LengthPrefixCoder[FastPrimitivesCoder], IterableCoder[TupleCoder[LengthPrefixCoder[ProtoCoder], LengthPrefixCoder[FastPrimitivesCoder]]]]], len(consumers)=1]]>\n",
      "I0115 17:08:20.379842 140220694857472 bundle_processor.py:303] finish <DoOperation Reshuffle2/ReshufflePerKey/FlatMap(restore_timestamps) output_tags=['out'], receivers=[ConsumerSet[Reshuffle2/ReshufflePerKey/FlatMap(restore_timestamps).out0, coder=WindowedValueCoder[FastPrimitivesCoder], len(consumers)=1]]>\n",
      "I0115 17:08:20.382771 140220694857472 bundle_processor.py:303] finish <DoOperation Reshuffle2/RemoveRandomKeys output_tags=['out'], receivers=[ConsumerSet[Reshuffle2/RemoveRandomKeys.out0, coder=WindowedValueCoder[FastPrimitivesCoder], len(consumers)=1]]>\n",
      "I0115 17:08:20.385181 140220694857472 bundle_processor.py:303] finish <DoOperation WriteSeqex/Write/WriteImpl/WriteBundles output_tags=['out'], receivers=[ConsumerSet[WriteSeqex/Write/WriteImpl/WriteBundles.out0, coder=WindowedValueCoder[FastPrimitivesCoder], len(consumers)=1]]>\n",
      "I0115 17:08:20.741306 140220694857472 bundle_processor.py:303] finish <DoOperation WriteSeqex/Write/WriteImpl/Pair output_tags=['out'], receivers=[ConsumerSet[WriteSeqex/Write/WriteImpl/Pair.out0, coder=WindowedValueCoder[TupleCoder[FastPrimitivesCoder, FastPrimitivesCoder]], len(consumers)=1]]>\n",
      "I0115 17:08:20.743614 140220694857472 bundle_processor.py:303] finish <DoOperation WriteSeqex/Write/WriteImpl/WindowInto(WindowIntoFn) output_tags=['out'], receivers=[ConsumerSet[WriteSeqex/Write/WriteImpl/WindowInto(WindowIntoFn).out0, coder=WindowedValueCoder[TupleCoder[LengthPrefixCoder[FastPrimitivesCoder], LengthPrefixCoder[FastPrimitivesCoder]]], len(consumers)=1]]>\n",
      "I0115 17:08:20.745326 140220694857472 bundle_processor.py:303] finish <DataOutputOperation WriteSeqex/Write/WriteImpl/GroupByKey/Write >\n",
      "I0115 17:08:20.951180 140220694857472 fn_api_runner.py:912] Running ((WriteSeqex/Write/WriteImpl/GroupByKey/Read)+(ref_AppliedPTransform_WriteSeqex/Write/WriteImpl/Extract_57))+(ref_PCollection_PCollection_40/Write)\n",
      "I0115 17:08:21.169018 140220694857472 bundle_processor.py:291] start <DataOutputOperation ref_PCollection_PCollection_40/Write >\n",
      "I0115 17:08:21.171423 140220694857472 bundle_processor.py:291] start <DoOperation WriteSeqex/Write/WriteImpl/Extract output_tags=['out']>\n",
      "I0115 17:08:21.174505 140220694857472 bundle_processor.py:291] start <DataInputOperation WriteSeqex/Write/WriteImpl/GroupByKey/Read receivers=[ConsumerSet[WriteSeqex/Write/WriteImpl/GroupByKey/Read.out0, coder=WindowedValueCoder[TupleCoder[LengthPrefixCoder[FastPrimitivesCoder], IterableCoder[LengthPrefixCoder[FastPrimitivesCoder]]]], len(consumers)=1]]>\n",
      "I0115 17:08:21.177229 140220694857472 bundle_processor.py:303] finish <DataInputOperation WriteSeqex/Write/WriteImpl/GroupByKey/Read receivers=[ConsumerSet[WriteSeqex/Write/WriteImpl/GroupByKey/Read.out0, coder=WindowedValueCoder[TupleCoder[LengthPrefixCoder[FastPrimitivesCoder], IterableCoder[LengthPrefixCoder[FastPrimitivesCoder]]]], len(consumers)=1]]>\n",
      "I0115 17:08:21.179121 140220694857472 bundle_processor.py:303] finish <DoOperation WriteSeqex/Write/WriteImpl/Extract output_tags=['out'], receivers=[ConsumerSet[WriteSeqex/Write/WriteImpl/Extract.out0, coder=WindowedValueCoder[LengthPrefixCoder[FastPrimitivesCoder]], len(consumers)=1]]>\n"
     ]
    },
    {
     "name": "stderr",
     "output_type": "stream",
     "text": [
      "I0115 17:08:21.180704 140220694857472 bundle_processor.py:303] finish <DataOutputOperation ref_PCollection_PCollection_40/Write >\n",
      "I0115 17:08:21.187416 140220694857472 fn_api_runner.py:912] Running ((ref_PCollection_PCollection_32/Read)+(ref_AppliedPTransform_WriteSeqex/Write/WriteImpl/PreFinalize_58))+(ref_PCollection_PCollection_41/Write)\n",
      "I0115 17:08:21.200042 140220694857472 bundle_processor.py:291] start <DataOutputOperation ref_PCollection_PCollection_41/Write >\n",
      "I0115 17:08:21.202373 140220694857472 bundle_processor.py:291] start <DoOperation WriteSeqex/Write/WriteImpl/PreFinalize output_tags=['out']>\n",
      "I0115 17:08:21.204864 140220694857472 bundle_processor.py:291] start <DataInputOperation ref_PCollection_PCollection_32/Read receivers=[ConsumerSet[ref_PCollection_PCollection_32/Read.out0, coder=WindowedValueCoder[FastPrimitivesCoder], len(consumers)=1]]>\n",
      "I0115 17:08:21.209556 140220694857472 gcsio.py:446] Starting the size estimation of the input\n",
      "I0115 17:08:21.211824 140220694857472 client.py:614] Attempting refresh to obtain initial access_token\n",
      "I0115 17:08:21.298558 140220694857472 gcsio.py:460] Finished listing 0 files in 0.088968038559 seconds.\n",
      "I0115 17:08:21.301235 140220694857472 bundle_processor.py:303] finish <DataInputOperation ref_PCollection_PCollection_32/Read receivers=[ConsumerSet[ref_PCollection_PCollection_32/Read.out0, coder=WindowedValueCoder[FastPrimitivesCoder], len(consumers)=1]]>\n",
      "I0115 17:08:21.303930 140220694857472 bundle_processor.py:303] finish <DoOperation WriteSeqex/Write/WriteImpl/PreFinalize output_tags=['out'], receivers=[ConsumerSet[WriteSeqex/Write/WriteImpl/PreFinalize.out0, coder=WindowedValueCoder[LengthPrefixCoder[FastPrimitivesCoder]], len(consumers)=1]]>\n",
      "I0115 17:08:21.306885 140220694857472 bundle_processor.py:303] finish <DataOutputOperation ref_PCollection_PCollection_41/Write >\n",
      "I0115 17:08:21.322830 140220694857472 fn_api_runner.py:912] Running (ref_PCollection_PCollection_32/Read)+(ref_AppliedPTransform_WriteSeqex/Write/WriteImpl/FinalizeWrite_59)\n",
      "I0115 17:08:21.335139 140220694857472 bundle_processor.py:291] start <DoOperation WriteSeqex/Write/WriteImpl/FinalizeWrite output_tags=['out']>\n",
      "I0115 17:08:21.338629 140220694857472 bundle_processor.py:291] start <DataInputOperation ref_PCollection_PCollection_32/Read receivers=[ConsumerSet[ref_PCollection_PCollection_32/Read.out0, coder=WindowedValueCoder[FastPrimitivesCoder], len(consumers)=1]]>\n",
      "I0115 17:08:21.343830 140220694857472 gcsio.py:446] Starting the size estimation of the input\n",
      "I0115 17:08:21.347414 140220694857472 client.py:614] Attempting refresh to obtain initial access_token\n",
      "I0115 17:08:21.431677 140220694857472 gcsio.py:460] Finished listing 1 files in 0.0878398418427 seconds.\n",
      "I0115 17:08:21.436604 140220694857472 gcsio.py:446] Starting the size estimation of the input\n",
      "I0115 17:08:21.439980 140220694857472 client.py:614] Attempting refresh to obtain initial access_token\n",
      "I0115 17:08:21.524424 140220694857472 gcsio.py:460] Finished listing 0 files in 0.0878081321716 seconds.\n",
      "I0115 17:08:21.526957 140220694857472 filebasedsink.py:290] Starting finalize_write threads with num_shards: 1 (skipped: 0), batches: 1, num_threads: 1\n",
      "I0115 17:08:21.537390 140219546859264 client.py:614] Attempting refresh to obtain initial access_token\n",
      "I0115 17:08:21.853061 140219546859264 client.py:614] Attempting refresh to obtain initial access_token\n",
      "I0115 17:08:22.160382 140220694857472 filebasedsink.py:327] Renamed 1 shards in 0.63 seconds.\n",
      "I0115 17:08:22.168708 140220694857472 client.py:614] Attempting refresh to obtain initial access_token\n",
      "I0115 17:08:22.240190 140220694857472 bundle_processor.py:303] finish <DataInputOperation ref_PCollection_PCollection_32/Read receivers=[ConsumerSet[ref_PCollection_PCollection_32/Read.out0, coder=WindowedValueCoder[FastPrimitivesCoder], len(consumers)=1]]>\n",
      "I0115 17:08:22.241972 140220694857472 bundle_processor.py:303] finish <DoOperation WriteSeqex/Write/WriteImpl/FinalizeWrite output_tags=['out'], receivers=[ConsumerSet[WriteSeqex/Write/WriteImpl/FinalizeWrite.out0, coder=WindowedValueCoder[FastPrimitivesCoder], len(consumers)=0]]>\n"
     ]
    },
    {
     "data": {
      "text/plain": [
       "'DONE'"
      ]
     },
     "execution_count": 8,
     "metadata": {},
     "output_type": "execute_result"
    }
   ],
   "source": [
    "   p.run().wait_until_finish()"
   ]
  },
  {
   "cell_type": "markdown",
   "metadata": {},
   "source": [
    "YAY!!"
   ]
  }
 ],
 "metadata": {
  "kernelspec": {
   "display_name": "Python 2",
   "language": "python",
   "name": "python2"
  },
  "language_info": {
   "codemirror_mode": {
    "name": "ipython",
    "version": 2
   },
   "file_extension": ".py",
   "mimetype": "text/x-python",
   "name": "python",
   "nbconvert_exporter": "python",
   "pygments_lexer": "ipython2",
   "version": "2.7.15"
  }
 },
 "nbformat": 4,
 "nbformat_minor": 2
}
