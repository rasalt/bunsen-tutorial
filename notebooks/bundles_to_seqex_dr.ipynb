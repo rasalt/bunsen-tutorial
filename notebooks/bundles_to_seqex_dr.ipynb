{
 "cells": [
  {
   "cell_type": "markdown",
   "metadata": {},
   "source": [
    "## This notebook demonstrates bundles to seqex example"
   ]
  },
  {
   "cell_type": "markdown",
   "metadata": {},
   "source": [
    "Install packages required for apache-beam and protobuf"
   ]
  },
  {
   "cell_type": "code",
   "execution_count": 9,
   "metadata": {},
   "outputs": [],
   "source": [
    "from __future__ import absolute_import\n",
    "from __future__ import division\n",
    "from __future__ import print_function\n",
    "import logging\n",
    "logger = logging.getLogger()\n",
    "logger.setLevel(logging.INFO)\n",
    "\n",
    "from absl import app\n",
    "from absl import flags\n",
    "import apache_beam as beam\n",
    "from google.protobuf import text_format\n",
    "from proto.stu3 import google_extensions_pb2\n",
    "from proto.stu3 import resources_pb2\n",
    "from proto.stu3 import version_config_pb2\n",
    "from tensorflow.core.example import example_pb2\n",
    "from py.google.fhir.seqex import bundle_to_seqex\n",
    "import time"
   ]
  },
  {
   "cell_type": "code",
   "execution_count": 2,
   "metadata": {},
   "outputs": [],
   "source": [
    "def _get_version_config(version_config_path):\n",
    "  with open(version_config_path) as f:\n",
    "    return text_format.Parse(f.read(), version_config_pb2.VersionConfig())"
   ]
  },
  {
   "cell_type": "markdown",
   "metadata": {},
   "source": [
    "# Initialize variables"
   ]
  },
  {
   "cell_type": "code",
   "execution_count": 10,
   "metadata": {},
   "outputs": [],
   "source": [
    "from apache_beam.options.pipeline_options import GoogleCloudOptions\n",
    "from apache_beam.options.pipeline_options import StandardOptions\n",
    "from apache_beam.options.pipeline_options import SetupOptions\n",
    "from apache_beam.options.pipeline_options import PipelineOptions\n",
    "\n",
    "from apache_beam.io import ReadFromText\n",
    "from apache_beam.io import WriteToText\n",
    "from apache_beam.metrics import Metrics\n",
    "from apache_beam.metrics.metric import MetricsFilter\n",
    "\n",
    "import apache_beam as beam\n",
    "import re\n",
    "\n",
    "options = PipelineOptions()\n",
    "google_cloud_options = options.view_as(GoogleCloudOptions)\n",
    "google_cloud_options.project = 'de-test-224618'\n",
    "google_cloud_options.job_name = 'job1'\n",
    "google_cloud_options.staging_location = 'gs://healthedatalab/staging'\n",
    "google_cloud_options.temp_location = 'gs://healthedatalab/temp'\n",
    "options.view_as(StandardOptions).runner = 'DirectRunner'\n"
   ]
  },
  {
   "cell_type": "code",
   "execution_count": 11,
   "metadata": {},
   "outputs": [],
   "source": [
    "input_path = 'gs://healthedatalab/synthea/bundles/bundles*'\n",
    "label_path = 'gs://healthedatalab/synthea/labels/label*'\n",
    "output_path = 'gs://healthedatalab/synthea/seqex/seqex'"
   ]
  },
  {
   "cell_type": "markdown",
   "metadata": {},
   "source": [
    "## Transform definition"
   ]
  },
  {
   "cell_type": "code",
   "execution_count": 7,
   "metadata": {},
   "outputs": [
    {
     "name": "stderr",
     "output_type": "stream",
     "text": [
      "I0115 21:59:49.419306 140485840406272 gcsio.py:446] Starting the size estimation of the input\n",
      "I0115 21:59:49.422370 140485840406272 client.py:614] Attempting refresh to obtain initial access_token\n",
      "I0115 21:59:49.517318 140485840406272 gcsio.py:460] Finished listing 9 files in 0.0980060100555 seconds.\n",
      "I0115 21:59:49.530730 140485840406272 gcsio.py:446] Starting the size estimation of the input\n",
      "I0115 21:59:49.534348 140485840406272 client.py:614] Attempting refresh to obtain initial access_token\n",
      "I0115 21:59:49.625538 140485840406272 gcsio.py:460] Finished listing 1 files in 0.0948059558868 seconds.\n"
     ]
    }
   ],
   "source": [
    "p = beam.Pipeline(options=options)\n",
    "version_config = _get_version_config(\"/usr/local/fhir/proto/stu3/version_config.textproto\")\n",
    "\n",
    "keyed_bundles = ( \n",
    "    p \n",
    "    | 'readBundles' >> beam.io.ReadFromTFRecord(\n",
    "        input_path, coder=beam.coders.ProtoCoder(resources_pb2.Bundle))\n",
    "    | 'KeyBundlesByPatientId' >> beam.ParDo(\n",
    "        bundle_to_seqex.KeyBundleByPatientIdFn()))\n",
    "event_labels = ( \n",
    "    p | 'readEventLabels' >> beam.io.ReadFromTFRecord(\n",
    "        label_path,\n",
    "        coder=beam.coders.ProtoCoder(google_extensions_pb2.EventLabel)))\n",
    "keyed_event_labels = bundle_to_seqex.CreateTriggerLabelsPairLists(\n",
    "    event_labels)\n",
    "bundles_and_labels = bundle_to_seqex.CreateBundleAndLabels(\n",
    "    keyed_bundles, keyed_event_labels)\n",
    "_ = ( \n",
    "    bundles_and_labels\n",
    "    | 'Reshuffle1' >> beam.Reshuffle()\n",
    "    | 'GenerateSeqex' >> beam.ParDo(\n",
    "        bundle_to_seqex.BundleAndLabelsToSeqexDoFn(\n",
    "            version_config=version_config,\n",
    "            enable_attribution=False,\n",
    "            generate_sequence_label=False))\n",
    "    | 'Reshuffle2' >> beam.Reshuffle()\n",
    "    | 'WriteSeqex' >> beam.io.WriteToTFRecord(\n",
    "        output_path,\n",
    "        coder=beam.coders.ProtoCoder(example_pb2.SequenceExample),\n",
    "        file_name_suffix='.tfrecords',\n",
    "        num_shards=2))"
   ]
  },
  {
   "cell_type": "markdown",
   "metadata": {},
   "source": [
    "Run the transform"
   ]
  },
  {
   "cell_type": "code",
   "execution_count": 12,
   "metadata": {},
   "outputs": [
    {
     "name": "stderr",
     "output_type": "stream",
     "text": [
      "I0115 22:20:23.784215 140485840406272 fn_api_runner.py:844] ==================== <function annotate_downstream_side_inputs at 0x7fc519392f50> ====================\n",
      "I0115 22:20:23.788387 140485840406272 fn_api_runner.py:844] ==================== <function fix_side_input_pcoll_coders at 0x7fc519392230> ====================\n",
      "I0115 22:20:23.792687 140485840406272 fn_api_runner.py:844] ==================== <function lift_combiners at 0x7fc519392668> ====================\n",
      "I0115 22:20:23.795468 140485840406272 fn_api_runner.py:844] ==================== <function expand_gbk at 0x7fc519392938> ====================\n",
      "I0115 22:20:23.815741 140485840406272 fn_api_runner.py:844] ==================== <function sink_flattens at 0x7fc5193925f0> ====================\n",
      "I0115 22:20:23.818279 140485840406272 fn_api_runner.py:844] ==================== <function greedily_fuse at 0x7fc5193926e0> ====================\n",
      "I0115 22:20:23.823961 140485840406272 fn_api_runner.py:844] ==================== <function sort_stages at 0x7fc519392b90> ====================\n",
      "I0115 22:20:23.827447 140485840406272 fn_api_runner.py:912] Running (((ref_AppliedPTransform_readBundles/Read_3)+((ref_AppliedPTransform_KeyBundlesByPatientId_4)+(ref_AppliedPTransform_GroupBundleAndTriggers/pair_with_bundle_15)))+(GroupBundleAndTriggers/Flatten/Transcode/1))+(GroupBundleAndTriggers/Flatten/Write/1)\n",
      "I0115 22:20:23.840734 140485840406272 bundle_processor.py:291] start <DataOutputOperation GroupBundleAndTriggers/Flatten/Write/1 >\n",
      "I0115 22:20:23.842446 140485840406272 bundle_processor.py:291] start <FlattenOperation GroupBundleAndTriggers/Flatten/Transcode/1 >\n",
      "I0115 22:20:23.844891 140485840406272 bundle_processor.py:291] start <DoOperation GroupBundleAndTriggers/pair_with_bundle output_tags=['out']>\n",
      "I0115 22:20:23.848620 140485840406272 bundle_processor.py:291] start <DoOperation KeyBundlesByPatientId output_tags=['out']>\n",
      "I0115 22:20:23.851052 140485840406272 bundle_processor.py:291] start <ReadOperation readBundles/Read source=SourceBundle(weight=1.0, source=<apache_beam.io.tfrecordio._TFRecordSource object at 0x7fc5218c9f10>, start_position=None, stop_position=None)>\n",
      "I0115 22:20:23.856368 140485840406272 gcsio.py:446] Starting the size estimation of the input\n",
      "I0115 22:20:23.858613 140485840406272 client.py:614] Attempting refresh to obtain initial access_token\n",
      "I0115 22:20:23.962712 140485840406272 gcsio.py:460] Finished listing 9 files in 0.106338977814 seconds.\n",
      "I0115 22:20:23.968780 140485840406272 client.py:614] Attempting refresh to obtain initial access_token\n",
      "I0115 22:20:28.665400 140485840406272 client.py:614] Attempting refresh to obtain initial access_token\n",
      "I0115 22:20:33.341551 140485840406272 client.py:614] Attempting refresh to obtain initial access_token\n",
      "I0115 22:20:37.128698 140485840406272 client.py:614] Attempting refresh to obtain initial access_token\n",
      "I0115 22:20:40.958122 140485840406272 client.py:614] Attempting refresh to obtain initial access_token\n",
      "I0115 22:20:44.348602 140485840406272 client.py:614] Attempting refresh to obtain initial access_token\n",
      "I0115 22:20:49.129025 140485840406272 client.py:614] Attempting refresh to obtain initial access_token\n",
      "I0115 22:20:53.917299 140485840406272 client.py:614] Attempting refresh to obtain initial access_token\n",
      "I0115 22:20:57.620352 140485840406272 client.py:614] Attempting refresh to obtain initial access_token\n",
      "I0115 22:21:01.760004 140485840406272 bundle_processor.py:303] finish <ReadOperation readBundles/Read source=SourceBundle(weight=1.0, source=<apache_beam.io.tfrecordio._TFRecordSource object at 0x7fc5218c9f10>, start_position=None, stop_position=None), receivers=[ConsumerSet[readBundles/Read.out0, coder=WindowedValueCoder[FastPrimitivesCoder], len(consumers)=1]]>\n",
      "I0115 22:21:01.762098 140485840406272 bundle_processor.py:303] finish <DoOperation KeyBundlesByPatientId output_tags=['out'], receivers=[ConsumerSet[KeyBundlesByPatientId.out0, coder=WindowedValueCoder[TupleCoder[BytesCoder, ProtoCoder]], len(consumers)=1]]>\n",
      "I0115 22:21:01.763885 140485840406272 bundle_processor.py:303] finish <DoOperation GroupBundleAndTriggers/pair_with_bundle output_tags=['out'], receivers=[ConsumerSet[GroupBundleAndTriggers/pair_with_bundle.out0, coder=WindowedValueCoder[TupleCoder[LengthPrefixCoder[FastPrimitivesCoder], LengthPrefixCoder[FastPrimitivesCoder]]], len(consumers)=1]]>\n",
      "I0115 22:21:01.766433 140485840406272 bundle_processor.py:303] finish <FlattenOperation GroupBundleAndTriggers/Flatten/Transcode/1 receivers=[ConsumerSet[GroupBundleAndTriggers/Flatten/Transcode/1.out0, coder=WindowedValueCoder[TupleCoder[LengthPrefixCoder[FastPrimitivesCoder], LengthPrefixCoder[FastPrimitivesCoder]]], len(consumers)=1]]>\n",
      "I0115 22:21:01.768776 140485840406272 bundle_processor.py:303] finish <DataOutputOperation GroupBundleAndTriggers/Flatten/Write/1 >\n",
      "I0115 22:21:02.403733 140485840406272 fn_api_runner.py:912] Running (ref_AppliedPTransform_readEventLabels/Read_6)+((ref_AppliedPTransform_KeyEventLabelsByPatientId_7)+(GroupEventLabelsByPatientId/Write))\n",
      "I0115 22:21:02.413662 140485840406272 bundle_processor.py:291] start <DataOutputOperation GroupEventLabelsByPatientId/Write >\n",
      "I0115 22:21:02.415226 140485840406272 bundle_processor.py:291] start <DoOperation KeyEventLabelsByPatientId output_tags=['out']>\n",
      "I0115 22:21:02.418878 140485840406272 bundle_processor.py:291] start <ReadOperation readEventLabels/Read source=SourceBundle(weight=1.0, source=<apache_beam.io.tfrecordio._TFRecordSource object at 0x7fc5193e4f90>, start_position=None, stop_position=None)>\n",
      "I0115 22:21:02.424238 140485840406272 gcsio.py:446] Starting the size estimation of the input\n",
      "I0115 22:21:02.426517 140485840406272 client.py:614] Attempting refresh to obtain initial access_token\n",
      "I0115 22:21:02.505425 140485840406272 gcsio.py:460] Finished listing 1 files in 0.0811879634857 seconds.\n",
      "I0115 22:21:02.514457 140485840406272 client.py:614] Attempting refresh to obtain initial access_token\n",
      "I0115 22:21:02.678245 140485840406272 bundle_processor.py:303] finish <ReadOperation readEventLabels/Read source=SourceBundle(weight=1.0, source=<apache_beam.io.tfrecordio._TFRecordSource object at 0x7fc5193e4f90>, start_position=None, stop_position=None), receivers=[ConsumerSet[readEventLabels/Read.out0, coder=WindowedValueCoder[FastPrimitivesCoder], len(consumers)=1]]>\n",
      "I0115 22:21:02.680177 140485840406272 bundle_processor.py:303] finish <DoOperation KeyEventLabelsByPatientId output_tags=['out'], receivers=[ConsumerSet[KeyEventLabelsByPatientId.out0, coder=WindowedValueCoder[TupleCoder[BytesCoder, LengthPrefixCoder[ProtoCoder]]], len(consumers)=1]]>\n",
      "I0115 22:21:02.682585 140485840406272 bundle_processor.py:303] finish <DataOutputOperation GroupEventLabelsByPatientId/Write >\n",
      "I0115 22:21:02.729860 140485840406272 fn_api_runner.py:912] Running (((GroupEventLabelsByPatientId/Read)+(ref_AppliedPTransform_CreateTriggerLabelsPairLists_12))+((ref_AppliedPTransform_GroupBundleAndTriggers/pair_with_trigger_labels_pair_lists_14)+(GroupBundleAndTriggers/Flatten/Transcode/0)))+(GroupBundleAndTriggers/Flatten/Write/0)\n",
      "I0115 22:21:02.744187 140485840406272 bundle_processor.py:291] start <DataOutputOperation GroupBundleAndTriggers/Flatten/Write/0 >\n",
      "I0115 22:21:02.746665 140485840406272 bundle_processor.py:291] start <FlattenOperation GroupBundleAndTriggers/Flatten/Transcode/0 >\n",
      "I0115 22:21:02.749419 140485840406272 bundle_processor.py:291] start <DoOperation GroupBundleAndTriggers/pair_with_trigger_labels_pair_lists output_tags=['out']>\n",
      "I0115 22:21:02.753274 140485840406272 bundle_processor.py:291] start <DoOperation CreateTriggerLabelsPairLists output_tags=['out']>\n",
      "I0115 22:21:02.756912 140485840406272 bundle_processor.py:291] start <DataInputOperation GroupEventLabelsByPatientId/Read receivers=[ConsumerSet[GroupEventLabelsByPatientId/Read.out0, coder=WindowedValueCoder[TupleCoder[BytesCoder, IterableCoder[LengthPrefixCoder[ProtoCoder]]]], len(consumers)=1]]>\n",
      "I0115 22:21:02.853949 140485840406272 bundle_processor.py:303] finish <DataInputOperation GroupEventLabelsByPatientId/Read receivers=[ConsumerSet[GroupEventLabelsByPatientId/Read.out0, coder=WindowedValueCoder[TupleCoder[BytesCoder, IterableCoder[LengthPrefixCoder[ProtoCoder]]]], len(consumers)=1]]>\n"
     ]
    },
    {
     "name": "stderr",
     "output_type": "stream",
     "text": [
      "I0115 22:21:02.856411 140485840406272 bundle_processor.py:303] finish <DoOperation CreateTriggerLabelsPairLists output_tags=['out'], receivers=[ConsumerSet[CreateTriggerLabelsPairLists.out0, coder=WindowedValueCoder[TupleCoder[BytesCoder, FastPrimitivesCoder]], len(consumers)=1]]>\n",
      "I0115 22:21:02.858251 140485840406272 bundle_processor.py:303] finish <DoOperation GroupBundleAndTriggers/pair_with_trigger_labels_pair_lists output_tags=['out'], receivers=[ConsumerSet[GroupBundleAndTriggers/pair_with_trigger_labels_pair_lists.out0, coder=WindowedValueCoder[TupleCoder[LengthPrefixCoder[FastPrimitivesCoder], LengthPrefixCoder[FastPrimitivesCoder]]], len(consumers)=1]]>\n",
      "I0115 22:21:02.860325 140485840406272 bundle_processor.py:303] finish <FlattenOperation GroupBundleAndTriggers/Flatten/Transcode/0 receivers=[ConsumerSet[GroupBundleAndTriggers/Flatten/Transcode/0.out0, coder=WindowedValueCoder[TupleCoder[LengthPrefixCoder[FastPrimitivesCoder], LengthPrefixCoder[FastPrimitivesCoder]]], len(consumers)=1]]>\n",
      "I0115 22:21:02.862588 140485840406272 bundle_processor.py:303] finish <DataOutputOperation GroupBundleAndTriggers/Flatten/Write/0 >\n",
      "I0115 22:21:02.893340 140485840406272 fn_api_runner.py:912] Running (GroupBundleAndTriggers/Flatten/Read)+(GroupBundleAndTriggers/GroupByKey/Write)\n",
      "I0115 22:21:03.824043 140485840406272 bundle_processor.py:291] start <DataOutputOperation GroupBundleAndTriggers/GroupByKey/Write >\n",
      "I0115 22:21:03.825706 140485840406272 bundle_processor.py:291] start <DataInputOperation GroupBundleAndTriggers/Flatten/Read receivers=[ConsumerSet[GroupBundleAndTriggers/Flatten/Read.out0, coder=WindowedValueCoder[TupleCoder[LengthPrefixCoder[FastPrimitivesCoder], LengthPrefixCoder[FastPrimitivesCoder]]], len(consumers)=1]]>\n",
      "I0115 22:21:33.500329 140485840406272 bundle_processor.py:303] finish <DataInputOperation GroupBundleAndTriggers/Flatten/Read receivers=[ConsumerSet[GroupBundleAndTriggers/Flatten/Read.out0, coder=WindowedValueCoder[TupleCoder[LengthPrefixCoder[FastPrimitivesCoder], LengthPrefixCoder[FastPrimitivesCoder]]], len(consumers)=1]]>\n",
      "I0115 22:21:33.503608 140485840406272 bundle_processor.py:303] finish <DataOutputOperation GroupBundleAndTriggers/GroupByKey/Write >\n",
      "I0115 22:21:34.617062 140485840406272 fn_api_runner.py:912] Running (GroupBundleAndTriggers/GroupByKey/Read)+((ref_AppliedPTransform_GroupBundleAndTriggers/Map(_merge_tagged_vals_under_key)_21)+((ref_AppliedPTransform_JoinBundleAndTriggers_22)+((ref_AppliedPTransform_Reshuffle1/AddRandomKeys_24)+((ref_AppliedPTransform_Reshuffle1/ReshufflePerKey/Map(reify_timestamps)_26)+(Reshuffle1/ReshufflePerKey/GroupByKey/Write)))))\n",
      "I0115 22:21:36.040757 140485840406272 bundle_processor.py:291] start <DataOutputOperation Reshuffle1/ReshufflePerKey/GroupByKey/Write >\n",
      "I0115 22:21:36.042396 140485840406272 bundle_processor.py:291] start <DoOperation Reshuffle1/ReshufflePerKey/Map(reify_timestamps) output_tags=['out']>\n",
      "I0115 22:21:36.045614 140485840406272 bundle_processor.py:291] start <DoOperation Reshuffle1/AddRandomKeys output_tags=['out']>\n",
      "I0115 22:21:36.048933 140485840406272 bundle_processor.py:291] start <DoOperation JoinBundleAndTriggers output_tags=['out']>\n",
      "I0115 22:21:36.052798 140485840406272 bundle_processor.py:291] start <DoOperation GroupBundleAndTriggers/Map(_merge_tagged_vals_under_key) output_tags=['out']>\n",
      "I0115 22:21:36.055910 140485840406272 bundle_processor.py:291] start <DataInputOperation GroupBundleAndTriggers/GroupByKey/Read receivers=[ConsumerSet[GroupBundleAndTriggers/GroupByKey/Read.out0, coder=WindowedValueCoder[TupleCoder[LengthPrefixCoder[FastPrimitivesCoder], IterableCoder[LengthPrefixCoder[FastPrimitivesCoder]]]], len(consumers)=1]]>\n",
      "I0115 22:21:58.175096 140485840406272 bundle_processor.py:303] finish <DataInputOperation GroupBundleAndTriggers/GroupByKey/Read receivers=[ConsumerSet[GroupBundleAndTriggers/GroupByKey/Read.out0, coder=WindowedValueCoder[TupleCoder[LengthPrefixCoder[FastPrimitivesCoder], IterableCoder[LengthPrefixCoder[FastPrimitivesCoder]]]], len(consumers)=1]]>\n",
      "I0115 22:21:58.177736 140485840406272 bundle_processor.py:303] finish <DoOperation GroupBundleAndTriggers/Map(_merge_tagged_vals_under_key) output_tags=['out'], receivers=[ConsumerSet[GroupBundleAndTriggers/Map(_merge_tagged_vals_under_key).out0, coder=WindowedValueCoder[FastPrimitivesCoder], len(consumers)=1]]>\n",
      "I0115 22:21:58.180234 140485840406272 bundle_processor.py:303] finish <DoOperation JoinBundleAndTriggers output_tags=['out'], receivers=[ConsumerSet[JoinBundleAndTriggers.out0, coder=WindowedValueCoder[TupleCoder[BytesCoder, TupleCoder[ProtoCoder, FastPrimitivesCoder]]], len(consumers)=1]]>\n",
      "I0115 22:21:58.182080 140485840406272 bundle_processor.py:303] finish <DoOperation Reshuffle1/AddRandomKeys output_tags=['out'], receivers=[ConsumerSet[Reshuffle1/AddRandomKeys.out0, coder=WindowedValueCoder[TupleCoder[FastPrimitivesCoder, TupleCoder[BytesCoder, TupleCoder[ProtoCoder, FastPrimitivesCoder]]]], len(consumers)=1]]>\n",
      "I0115 22:21:58.184472 140485840406272 bundle_processor.py:303] finish <DoOperation Reshuffle1/ReshufflePerKey/Map(reify_timestamps) output_tags=['out'], receivers=[ConsumerSet[Reshuffle1/ReshufflePerKey/Map(reify_timestamps).out0, coder=WindowedValueCoder[TupleCoder[LengthPrefixCoder[FastPrimitivesCoder], TupleCoder[TupleCoder[BytesCoder, TupleCoder[LengthPrefixCoder[ProtoCoder], LengthPrefixCoder[FastPrimitivesCoder]]], LengthPrefixCoder[FastPrimitivesCoder]]]], len(consumers)=1]]>\n",
      "I0115 22:21:58.186944 140485840406272 bundle_processor.py:303] finish <DataOutputOperation Reshuffle1/ReshufflePerKey/GroupByKey/Write >\n",
      "I0115 22:21:58.434005 140485840406272 fn_api_runner.py:912] Running (Reshuffle1/ReshufflePerKey/GroupByKey/Read)+(((ref_AppliedPTransform_Reshuffle1/ReshufflePerKey/FlatMap(restore_timestamps)_31)+(ref_AppliedPTransform_Reshuffle1/RemoveRandomKeys_32))+(((ref_AppliedPTransform_GenerateSeqex_33)+(ref_AppliedPTransform_Reshuffle2/AddRandomKeys_35))+((ref_AppliedPTransform_Reshuffle2/ReshufflePerKey/Map(reify_timestamps)_37)+(Reshuffle2/ReshufflePerKey/GroupByKey/Write))))\n",
      "I0115 22:21:58.590035 140485840406272 bundle_processor.py:291] start <DataOutputOperation Reshuffle2/ReshufflePerKey/GroupByKey/Write >\n",
      "I0115 22:21:58.591726 140485840406272 bundle_processor.py:291] start <DoOperation Reshuffle2/ReshufflePerKey/Map(reify_timestamps) output_tags=['out']>\n",
      "I0115 22:21:58.595395 140485840406272 bundle_processor.py:291] start <DoOperation Reshuffle2/AddRandomKeys output_tags=['out']>\n",
      "I0115 22:21:58.599019 140485840406272 bundle_processor.py:291] start <DoOperation GenerateSeqex output_tags=['out']>\n",
      "I0115 22:21:58.602541 140485840406272 bundle_processor.py:291] start <DoOperation Reshuffle1/RemoveRandomKeys output_tags=['out']>\n",
      "I0115 22:21:58.606426 140485840406272 bundle_processor.py:291] start <DoOperation Reshuffle1/ReshufflePerKey/FlatMap(restore_timestamps) output_tags=['out']>\n",
      "I0115 22:21:58.609868 140485840406272 bundle_processor.py:291] start <DataInputOperation Reshuffle1/ReshufflePerKey/GroupByKey/Read receivers=[ConsumerSet[Reshuffle1/ReshufflePerKey/GroupByKey/Read.out0, coder=WindowedValueCoder[TupleCoder[LengthPrefixCoder[FastPrimitivesCoder], IterableCoder[TupleCoder[TupleCoder[BytesCoder, TupleCoder[LengthPrefixCoder[ProtoCoder], LengthPrefixCoder[FastPrimitivesCoder]]], LengthPrefixCoder[FastPrimitivesCoder]]]]], len(consumers)=1]]>\n",
      "I0115 22:24:31.198529 140485840406272 bundle_processor.py:303] finish <DataInputOperation Reshuffle1/ReshufflePerKey/GroupByKey/Read receivers=[ConsumerSet[Reshuffle1/ReshufflePerKey/GroupByKey/Read.out0, coder=WindowedValueCoder[TupleCoder[LengthPrefixCoder[FastPrimitivesCoder], IterableCoder[TupleCoder[TupleCoder[BytesCoder, TupleCoder[LengthPrefixCoder[ProtoCoder], LengthPrefixCoder[FastPrimitivesCoder]]], LengthPrefixCoder[FastPrimitivesCoder]]]]], len(consumers)=1]]>\n",
      "I0115 22:24:31.201090 140485840406272 bundle_processor.py:303] finish <DoOperation Reshuffle1/ReshufflePerKey/FlatMap(restore_timestamps) output_tags=['out'], receivers=[ConsumerSet[Reshuffle1/ReshufflePerKey/FlatMap(restore_timestamps).out0, coder=WindowedValueCoder[FastPrimitivesCoder], len(consumers)=1]]>\n",
      "I0115 22:24:31.203032 140485840406272 bundle_processor.py:303] finish <DoOperation Reshuffle1/RemoveRandomKeys output_tags=['out'], receivers=[ConsumerSet[Reshuffle1/RemoveRandomKeys.out0, coder=WindowedValueCoder[FastPrimitivesCoder], len(consumers)=1]]>\n"
     ]
    },
    {
     "name": "stderr",
     "output_type": "stream",
     "text": [
      "I0115 22:24:31.204670 140485840406272 bundle_processor.py:303] finish <DoOperation GenerateSeqex output_tags=['out'], receivers=[ConsumerSet[GenerateSeqex.out0, coder=WindowedValueCoder[ProtoCoder], len(consumers)=1]]>\n",
      "I0115 22:24:31.206506 140485840406272 bundle_processor.py:303] finish <DoOperation Reshuffle2/AddRandomKeys output_tags=['out'], receivers=[ConsumerSet[Reshuffle2/AddRandomKeys.out0, coder=WindowedValueCoder[TupleCoder[FastPrimitivesCoder, ProtoCoder]], len(consumers)=1]]>\n",
      "I0115 22:24:31.210464 140485840406272 bundle_processor.py:303] finish <DoOperation Reshuffle2/ReshufflePerKey/Map(reify_timestamps) output_tags=['out'], receivers=[ConsumerSet[Reshuffle2/ReshufflePerKey/Map(reify_timestamps).out0, coder=WindowedValueCoder[TupleCoder[LengthPrefixCoder[FastPrimitivesCoder], TupleCoder[LengthPrefixCoder[ProtoCoder], LengthPrefixCoder[FastPrimitivesCoder]]]], len(consumers)=1]]>\n",
      "I0115 22:24:31.213207 140485840406272 bundle_processor.py:303] finish <DataOutputOperation Reshuffle2/ReshufflePerKey/GroupByKey/Write >\n",
      "I0115 22:24:31.510831 140485840406272 fn_api_runner.py:912] Running (Reshuffle2/ReshufflePerKey/GroupByKey/Read)+((ref_AppliedPTransform_Reshuffle2/ReshufflePerKey/FlatMap(restore_timestamps)_42)+((ref_AppliedPTransform_Reshuffle2/RemoveRandomKeys_43)+((ref_AppliedPTransform_WriteSeqex/Write/WriteImpl/ParDo(_RoundRobinKeyFn)_50)+((ref_AppliedPTransform_WriteSeqex/Write/WriteImpl/WindowInto(WindowIntoFn)_51)+(WriteSeqex/Write/WriteImpl/GroupByKey/Write)))))\n",
      "I0115 22:24:32.174772 140485840406272 bundle_processor.py:291] start <DataOutputOperation WriteSeqex/Write/WriteImpl/GroupByKey/Write >\n",
      "I0115 22:24:32.177277 140485840406272 bundle_processor.py:291] start <DoOperation WriteSeqex/Write/WriteImpl/WindowInto(WindowIntoFn) output_tags=['out']>\n",
      "I0115 22:24:32.181623 140485840406272 bundle_processor.py:291] start <DoOperation WriteSeqex/Write/WriteImpl/ParDo(_RoundRobinKeyFn) output_tags=['out']>\n",
      "I0115 22:24:32.185206 140485840406272 bundle_processor.py:291] start <DoOperation Reshuffle2/RemoveRandomKeys output_tags=['out']>\n",
      "I0115 22:24:32.188800 140485840406272 bundle_processor.py:291] start <DoOperation Reshuffle2/ReshufflePerKey/FlatMap(restore_timestamps) output_tags=['out']>\n",
      "I0115 22:24:32.192759 140485840406272 bundle_processor.py:291] start <DataInputOperation Reshuffle2/ReshufflePerKey/GroupByKey/Read receivers=[ConsumerSet[Reshuffle2/ReshufflePerKey/GroupByKey/Read.out0, coder=WindowedValueCoder[TupleCoder[LengthPrefixCoder[FastPrimitivesCoder], IterableCoder[TupleCoder[LengthPrefixCoder[ProtoCoder], LengthPrefixCoder[FastPrimitivesCoder]]]]], len(consumers)=1]]>\n",
      "I0115 22:25:07.617110 140485840406272 bundle_processor.py:303] finish <DataInputOperation Reshuffle2/ReshufflePerKey/GroupByKey/Read receivers=[ConsumerSet[Reshuffle2/ReshufflePerKey/GroupByKey/Read.out0, coder=WindowedValueCoder[TupleCoder[LengthPrefixCoder[FastPrimitivesCoder], IterableCoder[TupleCoder[LengthPrefixCoder[ProtoCoder], LengthPrefixCoder[FastPrimitivesCoder]]]]], len(consumers)=1]]>\n",
      "I0115 22:25:07.619776 140485840406272 bundle_processor.py:303] finish <DoOperation Reshuffle2/ReshufflePerKey/FlatMap(restore_timestamps) output_tags=['out'], receivers=[ConsumerSet[Reshuffle2/ReshufflePerKey/FlatMap(restore_timestamps).out0, coder=WindowedValueCoder[FastPrimitivesCoder], len(consumers)=1]]>\n",
      "I0115 22:25:07.622248 140485840406272 bundle_processor.py:303] finish <DoOperation Reshuffle2/RemoveRandomKeys output_tags=['out'], receivers=[ConsumerSet[Reshuffle2/RemoveRandomKeys.out0, coder=WindowedValueCoder[FastPrimitivesCoder], len(consumers)=1]]>\n",
      "I0115 22:25:07.624759 140485840406272 bundle_processor.py:303] finish <DoOperation WriteSeqex/Write/WriteImpl/ParDo(_RoundRobinKeyFn) output_tags=['out'], receivers=[ConsumerSet[WriteSeqex/Write/WriteImpl/ParDo(_RoundRobinKeyFn).out0, coder=WindowedValueCoder[FastPrimitivesCoder], len(consumers)=1]]>\n",
      "I0115 22:25:07.627574 140485840406272 bundle_processor.py:303] finish <DoOperation WriteSeqex/Write/WriteImpl/WindowInto(WindowIntoFn) output_tags=['out'], receivers=[ConsumerSet[WriteSeqex/Write/WriteImpl/WindowInto(WindowIntoFn).out0, coder=WindowedValueCoder[TupleCoder[LengthPrefixCoder[FastPrimitivesCoder], LengthPrefixCoder[FastPrimitivesCoder]]], len(consumers)=1]]>\n",
      "I0115 22:25:07.636944 140485840406272 bundle_processor.py:303] finish <DataOutputOperation WriteSeqex/Write/WriteImpl/GroupByKey/Write >\n",
      "I0115 22:25:08.303448 140485840406272 fn_api_runner.py:912] Running ((ref_AppliedPTransform_WriteSeqex/Write/WriteImpl/DoOnce/Read_48)+((ref_AppliedPTransform_WriteSeqex/Write/WriteImpl/InitializeWrite_49)+(ref_PCollection_PCollection_33/Write)))+(ref_PCollection_PCollection_32/Write)\n",
      "I0115 22:25:08.316807 140485840406272 bundle_processor.py:291] start <DataOutputOperation ref_PCollection_PCollection_33/Write >\n",
      "I0115 22:25:08.322216 140485840406272 bundle_processor.py:291] start <DataOutputOperation ref_PCollection_PCollection_32/Write >\n",
      "I0115 22:25:08.324913 140485840406272 bundle_processor.py:291] start <DoOperation WriteSeqex/Write/WriteImpl/InitializeWrite output_tags=['out']>\n",
      "I0115 22:25:08.329170 140485840406272 bundle_processor.py:291] start <ReadOperation WriteSeqex/Write/WriteImpl/DoOnce/Read source=SourceBundle(weight=1.0, source=<apache_beam.transforms.create_source._CreateSource object at 0x7fc518ac7a10>, start_position=None, stop_position=None)>\n",
      "I0115 22:25:08.333061 140485840406272 bundle_processor.py:303] finish <ReadOperation WriteSeqex/Write/WriteImpl/DoOnce/Read source=SourceBundle(weight=1.0, source=<apache_beam.transforms.create_source._CreateSource object at 0x7fc518ac7a10>, start_position=None, stop_position=None), receivers=[ConsumerSet[WriteSeqex/Write/WriteImpl/DoOnce/Read.out0, coder=WindowedValueCoder[FastPrimitivesCoder], len(consumers)=2]]>\n",
      "I0115 22:25:08.335704 140485840406272 bundle_processor.py:303] finish <DoOperation WriteSeqex/Write/WriteImpl/InitializeWrite output_tags=['out'], receivers=[ConsumerSet[WriteSeqex/Write/WriteImpl/InitializeWrite.out0, coder=WindowedValueCoder[LengthPrefixCoder[FastPrimitivesCoder]], len(consumers)=1]]>\n",
      "I0115 22:25:08.338227 140485840406272 bundle_processor.py:303] finish <DataOutputOperation ref_PCollection_PCollection_32/Write >\n",
      "I0115 22:25:08.340043 140485840406272 bundle_processor.py:303] finish <DataOutputOperation ref_PCollection_PCollection_33/Write >\n",
      "I0115 22:25:08.345855 140485840406272 fn_api_runner.py:912] Running (WriteSeqex/Write/WriteImpl/GroupByKey/Read)+((ref_AppliedPTransform_WriteSeqex/Write/WriteImpl/WriteBundles_56)+(ref_PCollection_PCollection_39/Write))\n",
      "I0115 22:25:08.975899 140485840406272 bundle_processor.py:291] start <DataOutputOperation ref_PCollection_PCollection_39/Write >\n",
      "I0115 22:25:08.977346 140485840406272 bundle_processor.py:291] start <DoOperation WriteSeqex/Write/WriteImpl/WriteBundles output_tags=['out']>\n",
      "I0115 22:25:08.980353 140485840406272 bundle_processor.py:291] start <DataInputOperation WriteSeqex/Write/WriteImpl/GroupByKey/Read receivers=[ConsumerSet[WriteSeqex/Write/WriteImpl/GroupByKey/Read.out0, coder=WindowedValueCoder[TupleCoder[LengthPrefixCoder[FastPrimitivesCoder], IterableCoder[LengthPrefixCoder[FastPrimitivesCoder]]]], len(consumers)=1]]>\n",
      "I0115 22:25:21.009526 140484067227392 client.py:614] Attempting refresh to obtain initial access_token\n",
      "I0115 22:25:48.019582 140484067227392 client.py:614] Attempting refresh to obtain initial access_token\n",
      "I0115 22:25:59.334521 140485840406272 bundle_processor.py:303] finish <DataInputOperation WriteSeqex/Write/WriteImpl/GroupByKey/Read receivers=[ConsumerSet[WriteSeqex/Write/WriteImpl/GroupByKey/Read.out0, coder=WindowedValueCoder[TupleCoder[LengthPrefixCoder[FastPrimitivesCoder], IterableCoder[LengthPrefixCoder[FastPrimitivesCoder]]]], len(consumers)=1]]>\n",
      "I0115 22:25:59.336771 140485840406272 bundle_processor.py:303] finish <DoOperation WriteSeqex/Write/WriteImpl/WriteBundles output_tags=['out'], receivers=[ConsumerSet[WriteSeqex/Write/WriteImpl/WriteBundles.out0, coder=WindowedValueCoder[LengthPrefixCoder[FastPrimitivesCoder]], len(consumers)=1]]>\n",
      "I0115 22:25:59.339179 140485840406272 bundle_processor.py:303] finish <DataOutputOperation ref_PCollection_PCollection_39/Write >\n"
     ]
    },
    {
     "name": "stderr",
     "output_type": "stream",
     "text": [
      "I0115 22:26:01.374177 140485840406272 fn_api_runner.py:912] Running ((ref_PCollection_PCollection_32/Read)+(ref_AppliedPTransform_WriteSeqex/Write/WriteImpl/PreFinalize_57))+(ref_PCollection_PCollection_40/Write)\n",
      "I0115 22:26:01.467401 140485840406272 bundle_processor.py:291] start <DataOutputOperation ref_PCollection_PCollection_40/Write >\n",
      "I0115 22:26:01.468976 140485840406272 bundle_processor.py:291] start <DoOperation WriteSeqex/Write/WriteImpl/PreFinalize output_tags=['out']>\n",
      "I0115 22:26:01.471606 140485840406272 bundle_processor.py:291] start <DataInputOperation ref_PCollection_PCollection_32/Read receivers=[ConsumerSet[ref_PCollection_PCollection_32/Read.out0, coder=WindowedValueCoder[FastPrimitivesCoder], len(consumers)=1]]>\n",
      "I0115 22:26:01.476310 140485840406272 gcsio.py:446] Starting the size estimation of the input\n",
      "I0115 22:26:01.479831 140485840406272 client.py:614] Attempting refresh to obtain initial access_token\n",
      "I0115 22:26:01.570666 140485840406272 gcsio.py:460] Finished listing 3 files in 0.0943529605865 seconds.\n",
      "W0115 22:26:01.572451 140485840406272 filebasedsink.py:213] Deleting 2 existing files in target path matching: -*-of-%(num_shards)05d\n",
      "I0115 22:26:01.582308 140485840406272 client.py:614] Attempting refresh to obtain initial access_token\n",
      "I0115 22:26:01.662822 140485840406272 client.py:614] Attempting refresh to obtain initial access_token\n",
      "I0115 22:26:01.730389 140485840406272 client.py:614] Attempting refresh to obtain initial access_token\n",
      "I0115 22:26:02.024003 140485840406272 client.py:614] Attempting refresh to obtain initial access_token\n",
      "I0115 22:26:02.098922 140485840406272 client.py:614] Attempting refresh to obtain initial access_token\n",
      "I0115 22:26:02.175105 140485840406272 client.py:614] Attempting refresh to obtain initial access_token\n",
      "I0115 22:26:02.443119 140485840406272 bundle_processor.py:303] finish <DataInputOperation ref_PCollection_PCollection_32/Read receivers=[ConsumerSet[ref_PCollection_PCollection_32/Read.out0, coder=WindowedValueCoder[FastPrimitivesCoder], len(consumers)=1]]>\n",
      "I0115 22:26:02.444812 140485840406272 bundle_processor.py:303] finish <DoOperation WriteSeqex/Write/WriteImpl/PreFinalize output_tags=['out'], receivers=[ConsumerSet[WriteSeqex/Write/WriteImpl/PreFinalize.out0, coder=WindowedValueCoder[LengthPrefixCoder[FastPrimitivesCoder]], len(consumers)=1]]>\n",
      "I0115 22:26:02.446927 140485840406272 bundle_processor.py:303] finish <DataOutputOperation ref_PCollection_PCollection_40/Write >\n",
      "I0115 22:26:02.607572 140485840406272 fn_api_runner.py:912] Running (ref_PCollection_PCollection_32/Read)+(ref_AppliedPTransform_WriteSeqex/Write/WriteImpl/FinalizeWrite_58)\n",
      "I0115 22:26:02.619273 140485840406272 bundle_processor.py:291] start <DoOperation WriteSeqex/Write/WriteImpl/FinalizeWrite output_tags=['out']>\n",
      "I0115 22:26:02.621912 140485840406272 bundle_processor.py:291] start <DataInputOperation ref_PCollection_PCollection_32/Read receivers=[ConsumerSet[ref_PCollection_PCollection_32/Read.out0, coder=WindowedValueCoder[FastPrimitivesCoder], len(consumers)=1]]>\n",
      "I0115 22:26:02.626615 140485840406272 gcsio.py:446] Starting the size estimation of the input\n",
      "I0115 22:26:02.629705 140485840406272 client.py:614] Attempting refresh to obtain initial access_token\n",
      "I0115 22:26:02.717003 140485840406272 gcsio.py:460] Finished listing 2 files in 0.0903880596161 seconds.\n",
      "I0115 22:26:02.721575 140485840406272 gcsio.py:446] Starting the size estimation of the input\n",
      "I0115 22:26:02.725084 140485840406272 client.py:614] Attempting refresh to obtain initial access_token\n",
      "I0115 22:26:02.805001 140485840406272 gcsio.py:460] Finished listing 1 files in 0.0834209918976 seconds.\n",
      "I0115 22:26:02.807274 140485840406272 filebasedsink.py:290] Starting finalize_write threads with num_shards: 2 (skipped: 0), batches: 1, num_threads: 2\n",
      "I0115 22:26:02.818350 140484067227392 client.py:614] Attempting refresh to obtain initial access_token\n",
      "I0115 22:26:03.779279 140484067227392 client.py:614] Attempting refresh to obtain initial access_token\n",
      "I0115 22:26:04.017225 140485840406272 filebasedsink.py:327] Renamed 2 shards in 1.21 seconds.\n",
      "I0115 22:26:04.023166 140485840406272 client.py:614] Attempting refresh to obtain initial access_token\n",
      "I0115 22:26:04.154993 140485840406272 bundle_processor.py:303] finish <DataInputOperation ref_PCollection_PCollection_32/Read receivers=[ConsumerSet[ref_PCollection_PCollection_32/Read.out0, coder=WindowedValueCoder[FastPrimitivesCoder], len(consumers)=1]]>\n",
      "I0115 22:26:04.157572 140485840406272 bundle_processor.py:303] finish <DoOperation WriteSeqex/Write/WriteImpl/FinalizeWrite output_tags=['out'], receivers=[ConsumerSet[WriteSeqex/Write/WriteImpl/FinalizeWrite.out0, coder=WindowedValueCoder[FastPrimitivesCoder], len(consumers)=0]]>\n"
     ]
    },
    {
     "name": "stdout",
     "output_type": "stream",
     "text": [
      "340.844485998\n"
     ]
    }
   ],
   "source": [
    "start = time.time()\n",
    "p.run().wait_until_finish()\n",
    "end = time.time()\n",
    "print(end-start)"
   ]
  },
  {
   "cell_type": "markdown",
   "metadata": {},
   "source": [
    "YAY!!"
   ]
  }
 ],
 "metadata": {
  "kernelspec": {
   "display_name": "Python 2",
   "language": "python",
   "name": "python2"
  },
  "language_info": {
   "codemirror_mode": {
    "name": "ipython",
    "version": 2
   },
   "file_extension": ".py",
   "mimetype": "text/x-python",
   "name": "python",
   "nbconvert_exporter": "python",
   "pygments_lexer": "ipython2",
   "version": "2.7.15"
  }
 },
 "nbformat": 4,
 "nbformat_minor": 2
}
